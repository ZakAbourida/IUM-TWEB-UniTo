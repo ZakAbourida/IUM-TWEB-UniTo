{
 "cells": [
  {
   "cell_type": "markdown",
   "source": [
    "# TWEB Project 2023/2024 - Department of Computer Science | University of Turin"
   ],
   "metadata": {
    "collapsed": false
   },
   "id": "c3b04439d2a2b9"
  },
  {
   "cell_type": "markdown",
   "source": [
    "# Large Scale Data Analytics using Jupyter Notebooks "
   ],
   "metadata": {
    "collapsed": false
   },
   "id": "26389dfa4226b792"
  },
  {
   "cell_type": "markdown",
   "source": [
    "## Authors: \n",
    "### - Daniel Rabottini - 933913\n",
    "### - Zakaria Abourida - 950120\n",
    "### - Tommaso Remondino - 947410"
   ],
   "metadata": {
    "collapsed": false
   },
   "id": "a400e2a474bc3448"
  },
  {
   "cell_type": "markdown",
   "source": [
    "# 0. Preliminary actions\n"
   ],
   "metadata": {
    "collapsed": false
   },
   "id": "35555b2afc8f7d5f"
  },
  {
   "cell_type": "markdown",
   "source": [
    "### Import library:\n",
    "Libraries used for data analysis."
   ],
   "metadata": {
    "collapsed": false
   },
   "id": "c11d1bd8bc809d38"
  },
  {
   "cell_type": "code",
   "execution_count": 4,
   "outputs": [],
   "source": [
    "import pandas as pd\n",
    "import numpy as np\n",
    "import matplotlib.pylab as plt\n",
    "import seaborn as sns"
   ],
   "metadata": {
    "collapsed": false,
    "ExecuteTime": {
     "end_time": "2024-01-03T00:03:16.594395200Z",
     "start_time": "2024-01-03T00:03:15.858345100Z"
    }
   },
   "id": "b7f83afa2a18d951"
  },
  {
   "cell_type": "markdown",
   "source": [
    "### Import DataFrame:\n",
    "Import DataFrame from CSV files."
   ],
   "metadata": {
    "collapsed": false
   },
   "id": "b4eff5ab4a7923ec"
  },
  {
   "cell_type": "code",
   "execution_count": 5,
   "outputs": [],
   "source": [
    "appearances_df = pd.read_csv('venv/dataframe/appearances.csv')\n",
    "club_games_df = pd.read_csv('venv/dataframe/club_games.csv')\n",
    "clubs_df = pd.read_csv('venv/dataframe/clubs.csv')\n",
    "competitions_df = pd.read_csv('venv/dataframe/competitions.csv')\n",
    "game_events_df = pd.read_csv('venv/dataframe/game_events.csv')\n",
    "game_lineups_df = pd.read_csv('venv/dataframe/game_lineups.csv')\n",
    "games_df = pd.read_csv('venv/dataframe/games.csv')\n",
    "player_valuations_df = pd.read_csv('venv/dataframe/player_valuations.csv')\n",
    "players_df = pd.read_csv('venv/dataframe/players.csv')"
   ],
   "metadata": {
    "collapsed": false,
    "ExecuteTime": {
     "end_time": "2024-01-03T00:03:19.025067200Z",
     "start_time": "2024-01-03T00:03:15.870302Z"
    }
   },
   "id": "af5f756286033050"
  },
  {
   "cell_type": "markdown",
   "source": [
    "# 1. DataFrame cleanup and optimization"
   ],
   "metadata": {
    "collapsed": false
   },
   "id": "d92ed5c25f416f40"
  },
  {
   "cell_type": "markdown",
   "source": [
    "## 1.1 DataFrame visualization and information"
   ],
   "metadata": {
    "collapsed": false
   },
   "id": "bf5d7b9d5b9adf38"
  },
  {
   "cell_type": "markdown",
   "source": [
    "### Appearances Dataframe:\n",
    "Contains information about player appearances in games, including player IDs, club IDs, competition IDs, and performance metrics like yellow cards, red cards, goals, assists, and minutes played.\n"
   ],
   "metadata": {
    "collapsed": false
   },
   "id": "51bf5e830dfa70d0"
  },
  {
   "cell_type": "code",
   "execution_count": 6,
   "outputs": [
    {
     "data": {
      "text/plain": "          appearance_id  game_id  player_id  player_club_id  \\\n0         2231978_38004  2231978      38004             853   \n1         2233748_79232  2233748      79232            8841   \n2         2234413_42792  2234413      42792            6251   \n3         2234418_73333  2234418      73333            1274   \n4        2234421_122011  2234421     122011             195   \n...                 ...      ...        ...             ...   \n1507346  4172154_659813  4172154     659813              15   \n1507347  4172154_696027  4172154     696027              15   \n1507348    4172154_7161  4172154       7161              15   \n1507349  4172154_743395  4172154     743395              15   \n1507350  4172154_936981  4172154     936981              15   \n\n         player_current_club_id        date       player_name competition_id  \\\n0                           235  2012-07-03  Aurélien Joachim            CLQ   \n1                          2698  2012-07-05    Ruslan Abyshov            ELQ   \n2                           465  2012-07-05       Sander Puri            ELQ   \n3                          6646  2012-07-05   Vegar Hedenstad            ELQ   \n4                          3008  2012-07-05  Markus Henriksen            ELQ   \n...                         ...         ...               ...            ...   \n1507346                      15  2023-11-30    Piero Hincapié             EL   \n1507347                      15  2023-11-30      Ayman Aourir             EL   \n1507348                      15  2023-11-30     Jonas Hofmann             EL   \n1507349                      15  2023-11-30       Noah Mbamba             EL   \n1507350                      15  2023-11-30    Gustavo Puerta             EL   \n\n         yellow_cards  red_cards  goals  assists  minutes_played  \n0                   0          0      2        0              90  \n1                   0          0      0        0              90  \n2                   0          0      0        0              45  \n3                   0          0      0        0              90  \n4                   0          0      0        1              90  \n...               ...        ...    ...      ...             ...  \n1507346             0          0      0        0              90  \n1507347             0          0      0        0               2  \n1507348             0          0      0        0              10  \n1507349             0          0      0        0              45  \n1507350             0          0      0        0              88  \n\n[1507351 rows x 13 columns]",
      "text/html": "<div>\n<style scoped>\n    .dataframe tbody tr th:only-of-type {\n        vertical-align: middle;\n    }\n\n    .dataframe tbody tr th {\n        vertical-align: top;\n    }\n\n    .dataframe thead th {\n        text-align: right;\n    }\n</style>\n<table border=\"1\" class=\"dataframe\">\n  <thead>\n    <tr style=\"text-align: right;\">\n      <th></th>\n      <th>appearance_id</th>\n      <th>game_id</th>\n      <th>player_id</th>\n      <th>player_club_id</th>\n      <th>player_current_club_id</th>\n      <th>date</th>\n      <th>player_name</th>\n      <th>competition_id</th>\n      <th>yellow_cards</th>\n      <th>red_cards</th>\n      <th>goals</th>\n      <th>assists</th>\n      <th>minutes_played</th>\n    </tr>\n  </thead>\n  <tbody>\n    <tr>\n      <th>0</th>\n      <td>2231978_38004</td>\n      <td>2231978</td>\n      <td>38004</td>\n      <td>853</td>\n      <td>235</td>\n      <td>2012-07-03</td>\n      <td>Aurélien Joachim</td>\n      <td>CLQ</td>\n      <td>0</td>\n      <td>0</td>\n      <td>2</td>\n      <td>0</td>\n      <td>90</td>\n    </tr>\n    <tr>\n      <th>1</th>\n      <td>2233748_79232</td>\n      <td>2233748</td>\n      <td>79232</td>\n      <td>8841</td>\n      <td>2698</td>\n      <td>2012-07-05</td>\n      <td>Ruslan Abyshov</td>\n      <td>ELQ</td>\n      <td>0</td>\n      <td>0</td>\n      <td>0</td>\n      <td>0</td>\n      <td>90</td>\n    </tr>\n    <tr>\n      <th>2</th>\n      <td>2234413_42792</td>\n      <td>2234413</td>\n      <td>42792</td>\n      <td>6251</td>\n      <td>465</td>\n      <td>2012-07-05</td>\n      <td>Sander Puri</td>\n      <td>ELQ</td>\n      <td>0</td>\n      <td>0</td>\n      <td>0</td>\n      <td>0</td>\n      <td>45</td>\n    </tr>\n    <tr>\n      <th>3</th>\n      <td>2234418_73333</td>\n      <td>2234418</td>\n      <td>73333</td>\n      <td>1274</td>\n      <td>6646</td>\n      <td>2012-07-05</td>\n      <td>Vegar Hedenstad</td>\n      <td>ELQ</td>\n      <td>0</td>\n      <td>0</td>\n      <td>0</td>\n      <td>0</td>\n      <td>90</td>\n    </tr>\n    <tr>\n      <th>4</th>\n      <td>2234421_122011</td>\n      <td>2234421</td>\n      <td>122011</td>\n      <td>195</td>\n      <td>3008</td>\n      <td>2012-07-05</td>\n      <td>Markus Henriksen</td>\n      <td>ELQ</td>\n      <td>0</td>\n      <td>0</td>\n      <td>0</td>\n      <td>1</td>\n      <td>90</td>\n    </tr>\n    <tr>\n      <th>...</th>\n      <td>...</td>\n      <td>...</td>\n      <td>...</td>\n      <td>...</td>\n      <td>...</td>\n      <td>...</td>\n      <td>...</td>\n      <td>...</td>\n      <td>...</td>\n      <td>...</td>\n      <td>...</td>\n      <td>...</td>\n      <td>...</td>\n    </tr>\n    <tr>\n      <th>1507346</th>\n      <td>4172154_659813</td>\n      <td>4172154</td>\n      <td>659813</td>\n      <td>15</td>\n      <td>15</td>\n      <td>2023-11-30</td>\n      <td>Piero Hincapié</td>\n      <td>EL</td>\n      <td>0</td>\n      <td>0</td>\n      <td>0</td>\n      <td>0</td>\n      <td>90</td>\n    </tr>\n    <tr>\n      <th>1507347</th>\n      <td>4172154_696027</td>\n      <td>4172154</td>\n      <td>696027</td>\n      <td>15</td>\n      <td>15</td>\n      <td>2023-11-30</td>\n      <td>Ayman Aourir</td>\n      <td>EL</td>\n      <td>0</td>\n      <td>0</td>\n      <td>0</td>\n      <td>0</td>\n      <td>2</td>\n    </tr>\n    <tr>\n      <th>1507348</th>\n      <td>4172154_7161</td>\n      <td>4172154</td>\n      <td>7161</td>\n      <td>15</td>\n      <td>15</td>\n      <td>2023-11-30</td>\n      <td>Jonas Hofmann</td>\n      <td>EL</td>\n      <td>0</td>\n      <td>0</td>\n      <td>0</td>\n      <td>0</td>\n      <td>10</td>\n    </tr>\n    <tr>\n      <th>1507349</th>\n      <td>4172154_743395</td>\n      <td>4172154</td>\n      <td>743395</td>\n      <td>15</td>\n      <td>15</td>\n      <td>2023-11-30</td>\n      <td>Noah Mbamba</td>\n      <td>EL</td>\n      <td>0</td>\n      <td>0</td>\n      <td>0</td>\n      <td>0</td>\n      <td>45</td>\n    </tr>\n    <tr>\n      <th>1507350</th>\n      <td>4172154_936981</td>\n      <td>4172154</td>\n      <td>936981</td>\n      <td>15</td>\n      <td>15</td>\n      <td>2023-11-30</td>\n      <td>Gustavo Puerta</td>\n      <td>EL</td>\n      <td>0</td>\n      <td>0</td>\n      <td>0</td>\n      <td>0</td>\n      <td>88</td>\n    </tr>\n  </tbody>\n</table>\n<p>1507351 rows × 13 columns</p>\n</div>"
     },
     "execution_count": 6,
     "metadata": {},
     "output_type": "execute_result"
    }
   ],
   "source": [
    "appearances_df"
   ],
   "metadata": {
    "collapsed": false,
    "ExecuteTime": {
     "end_time": "2024-01-03T00:03:19.097002100Z",
     "start_time": "2024-01-03T00:03:19.028440500Z"
    }
   },
   "id": "54d716ff71569745"
  },
  {
   "cell_type": "markdown",
   "source": [
    "### Club Games Dataframe:\n",
    "Details about club games, including game ID, club ID, goals, positions, manager names, and opponent information."
   ],
   "metadata": {
    "collapsed": false
   },
   "id": "612c4702bc38fcbd"
  },
  {
   "cell_type": "code",
   "execution_count": 7,
   "outputs": [
    {
     "data": {
      "text/plain": "        game_id  club_id  own_goals  own_position      own_manager_name  \\\n0       2221751      431          1           NaN         Lutz Göttling   \n1       2221755       83          3           NaN      Ralph Hasenhüttl   \n2       2222597     3725          2           2.0  Stanislav Cherchesov   \n3       2222627     2696          0          11.0        Andrey Kobelev   \n4       2222658     2410          0           2.0        Leonid Slutski   \n...         ...      ...        ...           ...                   ...   \n130427  4126931    20923          2           NaN       Sergey Perednya   \n130428  4148237      920          0           NaN      Ruaidhri Higgins   \n130429  4171268      681          2           NaN       Imanol Alguacil   \n130430  4148252      144          3           NaN      Sergej Jakirovic   \n130431  4171248      418          3           NaN       Carlo Ancelotti   \n\n        opponent_id  opponent_goals  opponent_position opponent_manager_name  \\\n0                60               2                NaN     Christian Streich   \n1              4795               0                NaN            Tomas Oral   \n2               232               1                5.0            Unai Emery   \n3              4128               2               10.0         Rustem Khuzin   \n4               121               2               13.0          Dan Petrescu   \n...             ...             ...                ...                   ...   \n130427        12065               1                NaN   Aleksandr Gorbachev   \n130428        10481               1                NaN          Milic Curcic   \n130429          409               0                NaN       Gerhard Struber   \n130430        10532               1                NaN          Dan Brimsvík   \n130431         6195               2                NaN           Rudi Garcia   \n\n       hosting  is_win  \n0         Home       0  \n1         Home       1  \n2         Home       1  \n3         Home       0  \n4         Home       0  \n...        ...     ...  \n130427    Away       1  \n130428    Away       0  \n130429    Away       1  \n130430    Away       1  \n130431    Away       1  \n\n[130432 rows x 11 columns]",
      "text/html": "<div>\n<style scoped>\n    .dataframe tbody tr th:only-of-type {\n        vertical-align: middle;\n    }\n\n    .dataframe tbody tr th {\n        vertical-align: top;\n    }\n\n    .dataframe thead th {\n        text-align: right;\n    }\n</style>\n<table border=\"1\" class=\"dataframe\">\n  <thead>\n    <tr style=\"text-align: right;\">\n      <th></th>\n      <th>game_id</th>\n      <th>club_id</th>\n      <th>own_goals</th>\n      <th>own_position</th>\n      <th>own_manager_name</th>\n      <th>opponent_id</th>\n      <th>opponent_goals</th>\n      <th>opponent_position</th>\n      <th>opponent_manager_name</th>\n      <th>hosting</th>\n      <th>is_win</th>\n    </tr>\n  </thead>\n  <tbody>\n    <tr>\n      <th>0</th>\n      <td>2221751</td>\n      <td>431</td>\n      <td>1</td>\n      <td>NaN</td>\n      <td>Lutz Göttling</td>\n      <td>60</td>\n      <td>2</td>\n      <td>NaN</td>\n      <td>Christian Streich</td>\n      <td>Home</td>\n      <td>0</td>\n    </tr>\n    <tr>\n      <th>1</th>\n      <td>2221755</td>\n      <td>83</td>\n      <td>3</td>\n      <td>NaN</td>\n      <td>Ralph Hasenhüttl</td>\n      <td>4795</td>\n      <td>0</td>\n      <td>NaN</td>\n      <td>Tomas Oral</td>\n      <td>Home</td>\n      <td>1</td>\n    </tr>\n    <tr>\n      <th>2</th>\n      <td>2222597</td>\n      <td>3725</td>\n      <td>2</td>\n      <td>2.0</td>\n      <td>Stanislav Cherchesov</td>\n      <td>232</td>\n      <td>1</td>\n      <td>5.0</td>\n      <td>Unai Emery</td>\n      <td>Home</td>\n      <td>1</td>\n    </tr>\n    <tr>\n      <th>3</th>\n      <td>2222627</td>\n      <td>2696</td>\n      <td>0</td>\n      <td>11.0</td>\n      <td>Andrey Kobelev</td>\n      <td>4128</td>\n      <td>2</td>\n      <td>10.0</td>\n      <td>Rustem Khuzin</td>\n      <td>Home</td>\n      <td>0</td>\n    </tr>\n    <tr>\n      <th>4</th>\n      <td>2222658</td>\n      <td>2410</td>\n      <td>0</td>\n      <td>2.0</td>\n      <td>Leonid Slutski</td>\n      <td>121</td>\n      <td>2</td>\n      <td>13.0</td>\n      <td>Dan Petrescu</td>\n      <td>Home</td>\n      <td>0</td>\n    </tr>\n    <tr>\n      <th>...</th>\n      <td>...</td>\n      <td>...</td>\n      <td>...</td>\n      <td>...</td>\n      <td>...</td>\n      <td>...</td>\n      <td>...</td>\n      <td>...</td>\n      <td>...</td>\n      <td>...</td>\n      <td>...</td>\n    </tr>\n    <tr>\n      <th>130427</th>\n      <td>4126931</td>\n      <td>20923</td>\n      <td>2</td>\n      <td>NaN</td>\n      <td>Sergey Perednya</td>\n      <td>12065</td>\n      <td>1</td>\n      <td>NaN</td>\n      <td>Aleksandr Gorbachev</td>\n      <td>Away</td>\n      <td>1</td>\n    </tr>\n    <tr>\n      <th>130428</th>\n      <td>4148237</td>\n      <td>920</td>\n      <td>0</td>\n      <td>NaN</td>\n      <td>Ruaidhri Higgins</td>\n      <td>10481</td>\n      <td>1</td>\n      <td>NaN</td>\n      <td>Milic Curcic</td>\n      <td>Away</td>\n      <td>0</td>\n    </tr>\n    <tr>\n      <th>130429</th>\n      <td>4171268</td>\n      <td>681</td>\n      <td>2</td>\n      <td>NaN</td>\n      <td>Imanol Alguacil</td>\n      <td>409</td>\n      <td>0</td>\n      <td>NaN</td>\n      <td>Gerhard Struber</td>\n      <td>Away</td>\n      <td>1</td>\n    </tr>\n    <tr>\n      <th>130430</th>\n      <td>4148252</td>\n      <td>144</td>\n      <td>3</td>\n      <td>NaN</td>\n      <td>Sergej Jakirovic</td>\n      <td>10532</td>\n      <td>1</td>\n      <td>NaN</td>\n      <td>Dan Brimsvík</td>\n      <td>Away</td>\n      <td>1</td>\n    </tr>\n    <tr>\n      <th>130431</th>\n      <td>4171248</td>\n      <td>418</td>\n      <td>3</td>\n      <td>NaN</td>\n      <td>Carlo Ancelotti</td>\n      <td>6195</td>\n      <td>2</td>\n      <td>NaN</td>\n      <td>Rudi Garcia</td>\n      <td>Away</td>\n      <td>1</td>\n    </tr>\n  </tbody>\n</table>\n<p>130432 rows × 11 columns</p>\n</div>"
     },
     "execution_count": 7,
     "metadata": {},
     "output_type": "execute_result"
    }
   ],
   "source": [
    "club_games_df"
   ],
   "metadata": {
    "collapsed": false,
    "ExecuteTime": {
     "end_time": "2024-01-03T00:03:19.131815500Z",
     "start_time": "2024-01-03T00:03:19.061004600Z"
    }
   },
   "id": "832edf579f1d43c5"
  },
  {
   "cell_type": "markdown",
   "source": [
    "### Clubs Dataframe:\n",
    "The clubs dataframe contains information about the main clubs in the world. \n",
    "Specifically, it contains details of a club such as name, number of players, average age and the stadium in which they play andother related information.\n"
   ],
   "metadata": {
    "collapsed": false
   },
   "id": "20dbde8bf7784337"
  },
  {
   "cell_type": "code",
   "execution_count": 8,
   "outputs": [
    {
     "data": {
      "text/plain": "     club_id             club_code                               name  \\\n0        105       sv-darmstadt-98   Sportverein Darmstadt 1898 e. V.   \n1      11127     ural-ekaterinburg              FK Ural Yekaterinburg   \n2        114     besiktas-istanbul          Beşiktaş Jimnastik Kulübü   \n3         12                as-rom         Associazione Sportiva Roma   \n4        148     tottenham-hotspur    Tottenham Hotspur Football Club   \n..       ...                   ...                                ...   \n421    68608      cf-os-belenenses                   CF Os Belenenses   \n422      724           fc-volendam             Football Club Volendam   \n423      800      atalanta-bergamo  Atalanta Bergamasca Calcio S.p.a.   \n424      979         moreirense-fc           Moreirense Futebol Clube   \n425      984  west-bromwich-albion               West Bromwich Albion   \n\n    domestic_competition_id  total_market_value  squad_size  average_age  \\\n0                        L1                 NaN          30         26.4   \n1                       RU1                 NaN          25         28.2   \n2                       TR1                 NaN          32         27.4   \n3                       IT1                 NaN          26         27.4   \n4                       GB1                 NaN          29         26.2   \n..                      ...                 ...         ...          ...   \n421                     PO1                 NaN          30         25.7   \n422                     NL1                 NaN          29         22.8   \n423                     IT1                 NaN          25         27.2   \n424                     PO1                 NaN          26         26.0   \n425                     GB1                 NaN          25         27.8   \n\n     foreigners_number  foreigners_percentage  national_team_players  \\\n0                   11                   36.7                      1   \n1                   13                   52.0                      5   \n2                   16                   50.0                     13   \n3                   17                   65.4                     17   \n4                   21                   72.4                     22   \n..                 ...                    ...                    ...   \n421                  5                   16.7                      0   \n422                 14                   48.3                      3   \n423                 17                   68.0                     15   \n424                 17                   65.4                      2   \n425                  8                   32.0                      4   \n\n                         stadium_name  stadium_seats net_transfer_record  \\\n0      Merck-Stadion am Böllenfalltor          17810             €-1.60m   \n1                 Yekaterinburg Arena          23000              €-770k   \n2                     Tüpraş Stadyumu          42590            €-14.50m   \n3                    Olimpico di Roma          73261            +€65.20m   \n4           Tottenham Hotspur Stadium          62062           €-130.40m   \n..                                ...            ...                 ...   \n421                Estádio do Restelo          19980                 +-0   \n422                      Kras Stadion           7384             +€1.80m   \n423                    Gewiss Stadium          21747            +€87.00m   \n424  Estádio C. J. de Almeida Freitas           6153             €-2.05m   \n425                     The Hawthorns          26850             €-1.35m   \n\n     coach_name  last_season  \\\n0           NaN         2023   \n1           NaN         2023   \n2           NaN         2023   \n3           NaN         2023   \n4           NaN         2023   \n..          ...          ...   \n421         NaN         2017   \n422         NaN         2023   \n423         NaN         2023   \n424         NaN         2023   \n425         NaN         2020   \n\n                                                   url  \n0    https://www.transfermarkt.co.uk/sv-darmstadt-9...  \n1    https://www.transfermarkt.co.uk/ural-ekaterinb...  \n2    https://www.transfermarkt.co.uk/besiktas-istan...  \n3    https://www.transfermarkt.co.uk/as-rom/startse...  \n4    https://www.transfermarkt.co.uk/tottenham-hots...  \n..                                                 ...  \n421  https://www.transfermarkt.co.uk/cf-os-belenens...  \n422  https://www.transfermarkt.co.uk/fc-volendam/st...  \n423  https://www.transfermarkt.co.uk/atalanta-berga...  \n424  https://www.transfermarkt.co.uk/moreirense-fc/...  \n425  https://www.transfermarkt.co.uk/west-bromwich-...  \n\n[426 rows x 16 columns]",
      "text/html": "<div>\n<style scoped>\n    .dataframe tbody tr th:only-of-type {\n        vertical-align: middle;\n    }\n\n    .dataframe tbody tr th {\n        vertical-align: top;\n    }\n\n    .dataframe thead th {\n        text-align: right;\n    }\n</style>\n<table border=\"1\" class=\"dataframe\">\n  <thead>\n    <tr style=\"text-align: right;\">\n      <th></th>\n      <th>club_id</th>\n      <th>club_code</th>\n      <th>name</th>\n      <th>domestic_competition_id</th>\n      <th>total_market_value</th>\n      <th>squad_size</th>\n      <th>average_age</th>\n      <th>foreigners_number</th>\n      <th>foreigners_percentage</th>\n      <th>national_team_players</th>\n      <th>stadium_name</th>\n      <th>stadium_seats</th>\n      <th>net_transfer_record</th>\n      <th>coach_name</th>\n      <th>last_season</th>\n      <th>url</th>\n    </tr>\n  </thead>\n  <tbody>\n    <tr>\n      <th>0</th>\n      <td>105</td>\n      <td>sv-darmstadt-98</td>\n      <td>Sportverein Darmstadt 1898 e. V.</td>\n      <td>L1</td>\n      <td>NaN</td>\n      <td>30</td>\n      <td>26.4</td>\n      <td>11</td>\n      <td>36.7</td>\n      <td>1</td>\n      <td>Merck-Stadion am Böllenfalltor</td>\n      <td>17810</td>\n      <td>€-1.60m</td>\n      <td>NaN</td>\n      <td>2023</td>\n      <td>https://www.transfermarkt.co.uk/sv-darmstadt-9...</td>\n    </tr>\n    <tr>\n      <th>1</th>\n      <td>11127</td>\n      <td>ural-ekaterinburg</td>\n      <td>FK Ural Yekaterinburg</td>\n      <td>RU1</td>\n      <td>NaN</td>\n      <td>25</td>\n      <td>28.2</td>\n      <td>13</td>\n      <td>52.0</td>\n      <td>5</td>\n      <td>Yekaterinburg Arena</td>\n      <td>23000</td>\n      <td>€-770k</td>\n      <td>NaN</td>\n      <td>2023</td>\n      <td>https://www.transfermarkt.co.uk/ural-ekaterinb...</td>\n    </tr>\n    <tr>\n      <th>2</th>\n      <td>114</td>\n      <td>besiktas-istanbul</td>\n      <td>Beşiktaş Jimnastik Kulübü</td>\n      <td>TR1</td>\n      <td>NaN</td>\n      <td>32</td>\n      <td>27.4</td>\n      <td>16</td>\n      <td>50.0</td>\n      <td>13</td>\n      <td>Tüpraş Stadyumu</td>\n      <td>42590</td>\n      <td>€-14.50m</td>\n      <td>NaN</td>\n      <td>2023</td>\n      <td>https://www.transfermarkt.co.uk/besiktas-istan...</td>\n    </tr>\n    <tr>\n      <th>3</th>\n      <td>12</td>\n      <td>as-rom</td>\n      <td>Associazione Sportiva Roma</td>\n      <td>IT1</td>\n      <td>NaN</td>\n      <td>26</td>\n      <td>27.4</td>\n      <td>17</td>\n      <td>65.4</td>\n      <td>17</td>\n      <td>Olimpico di Roma</td>\n      <td>73261</td>\n      <td>+€65.20m</td>\n      <td>NaN</td>\n      <td>2023</td>\n      <td>https://www.transfermarkt.co.uk/as-rom/startse...</td>\n    </tr>\n    <tr>\n      <th>4</th>\n      <td>148</td>\n      <td>tottenham-hotspur</td>\n      <td>Tottenham Hotspur Football Club</td>\n      <td>GB1</td>\n      <td>NaN</td>\n      <td>29</td>\n      <td>26.2</td>\n      <td>21</td>\n      <td>72.4</td>\n      <td>22</td>\n      <td>Tottenham Hotspur Stadium</td>\n      <td>62062</td>\n      <td>€-130.40m</td>\n      <td>NaN</td>\n      <td>2023</td>\n      <td>https://www.transfermarkt.co.uk/tottenham-hots...</td>\n    </tr>\n    <tr>\n      <th>...</th>\n      <td>...</td>\n      <td>...</td>\n      <td>...</td>\n      <td>...</td>\n      <td>...</td>\n      <td>...</td>\n      <td>...</td>\n      <td>...</td>\n      <td>...</td>\n      <td>...</td>\n      <td>...</td>\n      <td>...</td>\n      <td>...</td>\n      <td>...</td>\n      <td>...</td>\n      <td>...</td>\n    </tr>\n    <tr>\n      <th>421</th>\n      <td>68608</td>\n      <td>cf-os-belenenses</td>\n      <td>CF Os Belenenses</td>\n      <td>PO1</td>\n      <td>NaN</td>\n      <td>30</td>\n      <td>25.7</td>\n      <td>5</td>\n      <td>16.7</td>\n      <td>0</td>\n      <td>Estádio do Restelo</td>\n      <td>19980</td>\n      <td>+-0</td>\n      <td>NaN</td>\n      <td>2017</td>\n      <td>https://www.transfermarkt.co.uk/cf-os-belenens...</td>\n    </tr>\n    <tr>\n      <th>422</th>\n      <td>724</td>\n      <td>fc-volendam</td>\n      <td>Football Club Volendam</td>\n      <td>NL1</td>\n      <td>NaN</td>\n      <td>29</td>\n      <td>22.8</td>\n      <td>14</td>\n      <td>48.3</td>\n      <td>3</td>\n      <td>Kras Stadion</td>\n      <td>7384</td>\n      <td>+€1.80m</td>\n      <td>NaN</td>\n      <td>2023</td>\n      <td>https://www.transfermarkt.co.uk/fc-volendam/st...</td>\n    </tr>\n    <tr>\n      <th>423</th>\n      <td>800</td>\n      <td>atalanta-bergamo</td>\n      <td>Atalanta Bergamasca Calcio S.p.a.</td>\n      <td>IT1</td>\n      <td>NaN</td>\n      <td>25</td>\n      <td>27.2</td>\n      <td>17</td>\n      <td>68.0</td>\n      <td>15</td>\n      <td>Gewiss Stadium</td>\n      <td>21747</td>\n      <td>+€87.00m</td>\n      <td>NaN</td>\n      <td>2023</td>\n      <td>https://www.transfermarkt.co.uk/atalanta-berga...</td>\n    </tr>\n    <tr>\n      <th>424</th>\n      <td>979</td>\n      <td>moreirense-fc</td>\n      <td>Moreirense Futebol Clube</td>\n      <td>PO1</td>\n      <td>NaN</td>\n      <td>26</td>\n      <td>26.0</td>\n      <td>17</td>\n      <td>65.4</td>\n      <td>2</td>\n      <td>Estádio C. J. de Almeida Freitas</td>\n      <td>6153</td>\n      <td>€-2.05m</td>\n      <td>NaN</td>\n      <td>2023</td>\n      <td>https://www.transfermarkt.co.uk/moreirense-fc/...</td>\n    </tr>\n    <tr>\n      <th>425</th>\n      <td>984</td>\n      <td>west-bromwich-albion</td>\n      <td>West Bromwich Albion</td>\n      <td>GB1</td>\n      <td>NaN</td>\n      <td>25</td>\n      <td>27.8</td>\n      <td>8</td>\n      <td>32.0</td>\n      <td>4</td>\n      <td>The Hawthorns</td>\n      <td>26850</td>\n      <td>€-1.35m</td>\n      <td>NaN</td>\n      <td>2020</td>\n      <td>https://www.transfermarkt.co.uk/west-bromwich-...</td>\n    </tr>\n  </tbody>\n</table>\n<p>426 rows × 16 columns</p>\n</div>"
     },
     "execution_count": 8,
     "metadata": {},
     "output_type": "execute_result"
    }
   ],
   "source": [
    "clubs_df"
   ],
   "metadata": {
    "collapsed": false,
    "ExecuteTime": {
     "end_time": "2024-01-03T00:03:19.195855800Z",
     "start_time": "2024-01-03T00:03:19.097997900Z"
    }
   },
   "id": "953bf07ae01003a5"
  },
  {
   "cell_type": "markdown",
   "source": [
    "### Competitions Dataframe: \n",
    "The competitions dataframe contains the mains european competitions. \n",
    "Specifically, it contains the details of the competition such as name, country of origin, international or domestic and other related information.\n"
   ],
   "metadata": {
    "collapsed": false
   },
   "id": "98f45f02499d82aa"
  },
  {
   "cell_type": "code",
   "execution_count": 9,
   "outputs": [
    {
     "data": {
      "text/plain": "   competition_id                             competition_code  \\\n0             CIT                                    italy-cup   \n1            NLSC                         johan-cruijff-schaal   \n2             GRP                              kypello-elladas   \n3            POSU                supertaca-candido-de-oliveira   \n4            RUSS                            russian-super-cup   \n5             SUC                                    supercopa   \n6             USC                               uefa-super-cup   \n7             DK1                                  superligaen   \n8              EL                                europa-league   \n9             ES1                                       laliga   \n10            FR1                                      ligue-1   \n11            IT1                                      serie-a   \n12            NL1                                   eredivisie   \n13            RUP                                  russian-cup   \n14            PO1                           liga-portugal-bwin   \n15           BESC                             belgian-supercup   \n16            GB1                               premier-league   \n17            ELQ                  europa-league-qualifikation   \n18            CGB                                      efl-cup   \n19            DKP                              sydbank-pokalen   \n20           ECLQ  uefa-europa-conference-league-qualifikation   \n21            FAC                                       fa-cup   \n22            NLP                              toto-knvb-beker   \n23           UKRS                          ukrainian-super-cup   \n24           UKR1                                 premier-liga   \n25            CDR                                 copa-del-rey   \n26             CL                        uefa-champions-league   \n27            GR1                               super-league-1   \n28            TR1                                    super-lig   \n29           POCP                                  allianz-cup   \n30           GBCS                             community-shield   \n31           KLUB                                 fifa-klub-wm   \n32             L1                                   bundesliga   \n33            RU1                                 premier-liga   \n34            SC1                         scottish-premiership   \n35            SCI                          supercoppa-italiana   \n36            BE1                           jupiler-pro-league   \n37            CLQ          uefa-champions-league-qualifikation   \n38            DFL                                 dfl-supercup   \n39            SFA                                      sfa-cup   \n40           UKRP                                ukrainian-cup   \n41            DFB                                    dfb-pokal   \n42           FRCH                        trophee-des-champions   \n\n                                           name  \\\n0                                     italy-cup   \n1                          johan-cruijff-schaal   \n2                               kypello-elladas   \n3                 supertaca-candido-de-oliveira   \n4                             russian-super-cup   \n5                                     supercopa   \n6                                uefa-super-cup   \n7                                   superligaen   \n8                                 europa-league   \n9                                        laliga   \n10                                      ligue-1   \n11                                      serie-a   \n12                                   eredivisie   \n13                                  russian-cup   \n14                           liga-portugal-bwin   \n15                             belgian-supercup   \n16                               premier-league   \n17                  europa-league-qualifikation   \n18                                      efl-cup   \n19                              sydbank-pokalen   \n20  uefa-europa-conference-league-qualifikation   \n21                                       fa-cup   \n22                              toto-knvb-beker   \n23                          ukrainian-super-cup   \n24                                 premier-liga   \n25                                 copa-del-rey   \n26                        uefa-champions-league   \n27                               super-league-1   \n28                                    super-lig   \n29                                  allianz-cup   \n30                             community-shield   \n31                                 fifa-klub-wm   \n32                                   bundesliga   \n33                                 premier-liga   \n34                         scottish-premiership   \n35                          supercoppa-italiana   \n36                           jupiler-pro-league   \n37          uefa-champions-league-qualifikation   \n38                                 dfl-supercup   \n39                                      sfa-cup   \n40                                ukrainian-cup   \n41                                    dfb-pokal   \n42                        trophee-des-champions   \n\n                                    sub_type               type  country_id  \\\n0                               domestic_cup       domestic_cup          75   \n1                         domestic_super_cup              other         122   \n2                               domestic_cup       domestic_cup          56   \n3                         domestic_super_cup              other         136   \n4                         domestic_super_cup              other         141   \n5                         domestic_super_cup              other         157   \n6                             uefa_super_cup              other          -1   \n7                                 first_tier    domestic_league          39   \n8                              europa_league  international_cup          -1   \n9                                 first_tier    domestic_league         157   \n10                                first_tier    domestic_league          50   \n11                                first_tier    domestic_league          75   \n12                                first_tier    domestic_league         122   \n13                              domestic_cup       domestic_cup         141   \n14                                first_tier    domestic_league         136   \n15                        domestic_super_cup              other          19   \n16                                first_tier    domestic_league         189   \n17                  europa_league_qualifying  international_cup          -1   \n18                                league_cup              other         189   \n19                              domestic_cup       domestic_cup          39   \n20  uefa_europa_conference_league_qualifiers  international_cup          -1   \n21                              domestic_cup       domestic_cup         189   \n22                              domestic_cup       domestic_cup         122   \n23                        domestic_super_cup              other         177   \n24                                first_tier    domestic_league         177   \n25                              domestic_cup       domestic_cup         157   \n26                     uefa_champions_league  international_cup          -1   \n27                                first_tier    domestic_league          56   \n28                                first_tier    domestic_league         174   \n29                              domestic_cup       domestic_cup         136   \n30                        domestic_super_cup              other         189   \n31                       fifa_club_world_cup              other          -1   \n32                                first_tier    domestic_league          40   \n33                                first_tier    domestic_league         141   \n34                                first_tier    domestic_league         190   \n35                        domestic_super_cup              other          75   \n36                                first_tier    domestic_league          19   \n37          uefa_champions_league_qualifying  international_cup          -1   \n38                        domestic_super_cup              other          40   \n39                              domestic_cup       domestic_cup         190   \n40                              domestic_cup       domestic_cup         177   \n41                              domestic_cup       domestic_cup          40   \n42                        domestic_super_cup              other          50   \n\n   country_name domestic_league_code confederation  \\\n0         Italy                  IT1        europa   \n1   Netherlands                  NL1        europa   \n2        Greece                  GR1        europa   \n3      Portugal                  PO1        europa   \n4        Russia                  RU1        europa   \n5         Spain                  ES1        europa   \n6           NaN                  NaN        europa   \n7       Denmark                  DK1        europa   \n8           NaN                  NaN        europa   \n9         Spain                  ES1        europa   \n10       France                  FR1        europa   \n11        Italy                  IT1        europa   \n12  Netherlands                  NL1        europa   \n13       Russia                  RU1        europa   \n14     Portugal                  PO1        europa   \n15      Belgium                  BE1        europa   \n16      England                  GB1        europa   \n17          NaN                  NaN        europa   \n18      England                  GB1        europa   \n19      Denmark                  DK1        europa   \n20          NaN                  NaN        europa   \n21      England                  GB1        europa   \n22  Netherlands                  NL1        europa   \n23      Ukraine                 UKR1        europa   \n24      Ukraine                 UKR1        europa   \n25        Spain                  ES1        europa   \n26          NaN                  NaN        europa   \n27       Greece                  GR1        europa   \n28       Turkey                  TR1        europa   \n29     Portugal                  PO1        europa   \n30      England                  GB1        europa   \n31          NaN                  NaN        europa   \n32      Germany                   L1        europa   \n33       Russia                  RU1        europa   \n34     Scotland                  SC1        europa   \n35        Italy                  IT1        europa   \n36      Belgium                  BE1        europa   \n37          NaN                  NaN        europa   \n38      Germany                   L1        europa   \n39     Scotland                  SC1        europa   \n40      Ukraine                 UKR1        europa   \n41      Germany                   L1        europa   \n42       France                  FR1        europa   \n\n                                                  url  \n0   https://www.transfermarkt.co.uk/italy-cup/star...  \n1   https://www.transfermarkt.co.uk/johan-cruijff-...  \n2   https://www.transfermarkt.co.uk/kypello-ellada...  \n3   https://www.transfermarkt.co.uk/supertaca-cand...  \n4   https://www.transfermarkt.co.uk/russian-super-...  \n5   https://www.transfermarkt.co.uk/supercopa/star...  \n6   https://www.transfermarkt.co.uk/uefa-super-cup...  \n7   https://www.transfermarkt.co.uk/superligaen/st...  \n8   https://www.transfermarkt.co.uk/europa-league/...  \n9   https://www.transfermarkt.co.uk/laliga/startse...  \n10  https://www.transfermarkt.co.uk/ligue-1/starts...  \n11  https://www.transfermarkt.co.uk/serie-a/starts...  \n12  https://www.transfermarkt.co.uk/eredivisie/sta...  \n13  https://www.transfermarkt.co.uk/russian-cup/st...  \n14  https://www.transfermarkt.co.uk/liga-portugal-...  \n15  https://www.transfermarkt.co.uk/belgian-superc...  \n16  https://www.transfermarkt.co.uk/premier-league...  \n17  https://www.transfermarkt.co.uk/europa-league-...  \n18  https://www.transfermarkt.co.uk/efl-cup/starts...  \n19  https://www.transfermarkt.co.uk/sydbank-pokale...  \n20  https://www.transfermarkt.co.uk/uefa-europa-co...  \n21  https://www.transfermarkt.co.uk/fa-cup/startse...  \n22  https://www.transfermarkt.co.uk/toto-knvb-beke...  \n23  https://www.transfermarkt.co.uk/ukrainian-supe...  \n24  https://www.transfermarkt.co.uk/premier-liga/s...  \n25  https://www.transfermarkt.co.uk/copa-del-rey/s...  \n26  https://www.transfermarkt.co.uk/uefa-champions...  \n27  https://www.transfermarkt.co.uk/super-league-1...  \n28  https://www.transfermarkt.co.uk/super-lig/star...  \n29  https://www.transfermarkt.co.uk/allianz-cup/st...  \n30  https://www.transfermarkt.co.uk/community-shie...  \n31  https://www.transfermarkt.co.uk/fifa-klub-wm/s...  \n32  https://www.transfermarkt.co.uk/bundesliga/sta...  \n33  https://www.transfermarkt.co.uk/premier-liga/s...  \n34  https://www.transfermarkt.co.uk/scottish-premi...  \n35  https://www.transfermarkt.co.uk/supercoppa-ita...  \n36  https://www.transfermarkt.co.uk/jupiler-pro-le...  \n37  https://www.transfermarkt.co.uk/uefa-champions...  \n38  https://www.transfermarkt.co.uk/dfl-supercup/s...  \n39  https://www.transfermarkt.co.uk/sfa-cup/starts...  \n40  https://www.transfermarkt.co.uk/ukrainian-cup/...  \n41  https://www.transfermarkt.co.uk/dfb-pokal/star...  \n42  https://www.transfermarkt.co.uk/trophee-des-ch...  ",
      "text/html": "<div>\n<style scoped>\n    .dataframe tbody tr th:only-of-type {\n        vertical-align: middle;\n    }\n\n    .dataframe tbody tr th {\n        vertical-align: top;\n    }\n\n    .dataframe thead th {\n        text-align: right;\n    }\n</style>\n<table border=\"1\" class=\"dataframe\">\n  <thead>\n    <tr style=\"text-align: right;\">\n      <th></th>\n      <th>competition_id</th>\n      <th>competition_code</th>\n      <th>name</th>\n      <th>sub_type</th>\n      <th>type</th>\n      <th>country_id</th>\n      <th>country_name</th>\n      <th>domestic_league_code</th>\n      <th>confederation</th>\n      <th>url</th>\n    </tr>\n  </thead>\n  <tbody>\n    <tr>\n      <th>0</th>\n      <td>CIT</td>\n      <td>italy-cup</td>\n      <td>italy-cup</td>\n      <td>domestic_cup</td>\n      <td>domestic_cup</td>\n      <td>75</td>\n      <td>Italy</td>\n      <td>IT1</td>\n      <td>europa</td>\n      <td>https://www.transfermarkt.co.uk/italy-cup/star...</td>\n    </tr>\n    <tr>\n      <th>1</th>\n      <td>NLSC</td>\n      <td>johan-cruijff-schaal</td>\n      <td>johan-cruijff-schaal</td>\n      <td>domestic_super_cup</td>\n      <td>other</td>\n      <td>122</td>\n      <td>Netherlands</td>\n      <td>NL1</td>\n      <td>europa</td>\n      <td>https://www.transfermarkt.co.uk/johan-cruijff-...</td>\n    </tr>\n    <tr>\n      <th>2</th>\n      <td>GRP</td>\n      <td>kypello-elladas</td>\n      <td>kypello-elladas</td>\n      <td>domestic_cup</td>\n      <td>domestic_cup</td>\n      <td>56</td>\n      <td>Greece</td>\n      <td>GR1</td>\n      <td>europa</td>\n      <td>https://www.transfermarkt.co.uk/kypello-ellada...</td>\n    </tr>\n    <tr>\n      <th>3</th>\n      <td>POSU</td>\n      <td>supertaca-candido-de-oliveira</td>\n      <td>supertaca-candido-de-oliveira</td>\n      <td>domestic_super_cup</td>\n      <td>other</td>\n      <td>136</td>\n      <td>Portugal</td>\n      <td>PO1</td>\n      <td>europa</td>\n      <td>https://www.transfermarkt.co.uk/supertaca-cand...</td>\n    </tr>\n    <tr>\n      <th>4</th>\n      <td>RUSS</td>\n      <td>russian-super-cup</td>\n      <td>russian-super-cup</td>\n      <td>domestic_super_cup</td>\n      <td>other</td>\n      <td>141</td>\n      <td>Russia</td>\n      <td>RU1</td>\n      <td>europa</td>\n      <td>https://www.transfermarkt.co.uk/russian-super-...</td>\n    </tr>\n    <tr>\n      <th>5</th>\n      <td>SUC</td>\n      <td>supercopa</td>\n      <td>supercopa</td>\n      <td>domestic_super_cup</td>\n      <td>other</td>\n      <td>157</td>\n      <td>Spain</td>\n      <td>ES1</td>\n      <td>europa</td>\n      <td>https://www.transfermarkt.co.uk/supercopa/star...</td>\n    </tr>\n    <tr>\n      <th>6</th>\n      <td>USC</td>\n      <td>uefa-super-cup</td>\n      <td>uefa-super-cup</td>\n      <td>uefa_super_cup</td>\n      <td>other</td>\n      <td>-1</td>\n      <td>NaN</td>\n      <td>NaN</td>\n      <td>europa</td>\n      <td>https://www.transfermarkt.co.uk/uefa-super-cup...</td>\n    </tr>\n    <tr>\n      <th>7</th>\n      <td>DK1</td>\n      <td>superligaen</td>\n      <td>superligaen</td>\n      <td>first_tier</td>\n      <td>domestic_league</td>\n      <td>39</td>\n      <td>Denmark</td>\n      <td>DK1</td>\n      <td>europa</td>\n      <td>https://www.transfermarkt.co.uk/superligaen/st...</td>\n    </tr>\n    <tr>\n      <th>8</th>\n      <td>EL</td>\n      <td>europa-league</td>\n      <td>europa-league</td>\n      <td>europa_league</td>\n      <td>international_cup</td>\n      <td>-1</td>\n      <td>NaN</td>\n      <td>NaN</td>\n      <td>europa</td>\n      <td>https://www.transfermarkt.co.uk/europa-league/...</td>\n    </tr>\n    <tr>\n      <th>9</th>\n      <td>ES1</td>\n      <td>laliga</td>\n      <td>laliga</td>\n      <td>first_tier</td>\n      <td>domestic_league</td>\n      <td>157</td>\n      <td>Spain</td>\n      <td>ES1</td>\n      <td>europa</td>\n      <td>https://www.transfermarkt.co.uk/laliga/startse...</td>\n    </tr>\n    <tr>\n      <th>10</th>\n      <td>FR1</td>\n      <td>ligue-1</td>\n      <td>ligue-1</td>\n      <td>first_tier</td>\n      <td>domestic_league</td>\n      <td>50</td>\n      <td>France</td>\n      <td>FR1</td>\n      <td>europa</td>\n      <td>https://www.transfermarkt.co.uk/ligue-1/starts...</td>\n    </tr>\n    <tr>\n      <th>11</th>\n      <td>IT1</td>\n      <td>serie-a</td>\n      <td>serie-a</td>\n      <td>first_tier</td>\n      <td>domestic_league</td>\n      <td>75</td>\n      <td>Italy</td>\n      <td>IT1</td>\n      <td>europa</td>\n      <td>https://www.transfermarkt.co.uk/serie-a/starts...</td>\n    </tr>\n    <tr>\n      <th>12</th>\n      <td>NL1</td>\n      <td>eredivisie</td>\n      <td>eredivisie</td>\n      <td>first_tier</td>\n      <td>domestic_league</td>\n      <td>122</td>\n      <td>Netherlands</td>\n      <td>NL1</td>\n      <td>europa</td>\n      <td>https://www.transfermarkt.co.uk/eredivisie/sta...</td>\n    </tr>\n    <tr>\n      <th>13</th>\n      <td>RUP</td>\n      <td>russian-cup</td>\n      <td>russian-cup</td>\n      <td>domestic_cup</td>\n      <td>domestic_cup</td>\n      <td>141</td>\n      <td>Russia</td>\n      <td>RU1</td>\n      <td>europa</td>\n      <td>https://www.transfermarkt.co.uk/russian-cup/st...</td>\n    </tr>\n    <tr>\n      <th>14</th>\n      <td>PO1</td>\n      <td>liga-portugal-bwin</td>\n      <td>liga-portugal-bwin</td>\n      <td>first_tier</td>\n      <td>domestic_league</td>\n      <td>136</td>\n      <td>Portugal</td>\n      <td>PO1</td>\n      <td>europa</td>\n      <td>https://www.transfermarkt.co.uk/liga-portugal-...</td>\n    </tr>\n    <tr>\n      <th>15</th>\n      <td>BESC</td>\n      <td>belgian-supercup</td>\n      <td>belgian-supercup</td>\n      <td>domestic_super_cup</td>\n      <td>other</td>\n      <td>19</td>\n      <td>Belgium</td>\n      <td>BE1</td>\n      <td>europa</td>\n      <td>https://www.transfermarkt.co.uk/belgian-superc...</td>\n    </tr>\n    <tr>\n      <th>16</th>\n      <td>GB1</td>\n      <td>premier-league</td>\n      <td>premier-league</td>\n      <td>first_tier</td>\n      <td>domestic_league</td>\n      <td>189</td>\n      <td>England</td>\n      <td>GB1</td>\n      <td>europa</td>\n      <td>https://www.transfermarkt.co.uk/premier-league...</td>\n    </tr>\n    <tr>\n      <th>17</th>\n      <td>ELQ</td>\n      <td>europa-league-qualifikation</td>\n      <td>europa-league-qualifikation</td>\n      <td>europa_league_qualifying</td>\n      <td>international_cup</td>\n      <td>-1</td>\n      <td>NaN</td>\n      <td>NaN</td>\n      <td>europa</td>\n      <td>https://www.transfermarkt.co.uk/europa-league-...</td>\n    </tr>\n    <tr>\n      <th>18</th>\n      <td>CGB</td>\n      <td>efl-cup</td>\n      <td>efl-cup</td>\n      <td>league_cup</td>\n      <td>other</td>\n      <td>189</td>\n      <td>England</td>\n      <td>GB1</td>\n      <td>europa</td>\n      <td>https://www.transfermarkt.co.uk/efl-cup/starts...</td>\n    </tr>\n    <tr>\n      <th>19</th>\n      <td>DKP</td>\n      <td>sydbank-pokalen</td>\n      <td>sydbank-pokalen</td>\n      <td>domestic_cup</td>\n      <td>domestic_cup</td>\n      <td>39</td>\n      <td>Denmark</td>\n      <td>DK1</td>\n      <td>europa</td>\n      <td>https://www.transfermarkt.co.uk/sydbank-pokale...</td>\n    </tr>\n    <tr>\n      <th>20</th>\n      <td>ECLQ</td>\n      <td>uefa-europa-conference-league-qualifikation</td>\n      <td>uefa-europa-conference-league-qualifikation</td>\n      <td>uefa_europa_conference_league_qualifiers</td>\n      <td>international_cup</td>\n      <td>-1</td>\n      <td>NaN</td>\n      <td>NaN</td>\n      <td>europa</td>\n      <td>https://www.transfermarkt.co.uk/uefa-europa-co...</td>\n    </tr>\n    <tr>\n      <th>21</th>\n      <td>FAC</td>\n      <td>fa-cup</td>\n      <td>fa-cup</td>\n      <td>domestic_cup</td>\n      <td>domestic_cup</td>\n      <td>189</td>\n      <td>England</td>\n      <td>GB1</td>\n      <td>europa</td>\n      <td>https://www.transfermarkt.co.uk/fa-cup/startse...</td>\n    </tr>\n    <tr>\n      <th>22</th>\n      <td>NLP</td>\n      <td>toto-knvb-beker</td>\n      <td>toto-knvb-beker</td>\n      <td>domestic_cup</td>\n      <td>domestic_cup</td>\n      <td>122</td>\n      <td>Netherlands</td>\n      <td>NL1</td>\n      <td>europa</td>\n      <td>https://www.transfermarkt.co.uk/toto-knvb-beke...</td>\n    </tr>\n    <tr>\n      <th>23</th>\n      <td>UKRS</td>\n      <td>ukrainian-super-cup</td>\n      <td>ukrainian-super-cup</td>\n      <td>domestic_super_cup</td>\n      <td>other</td>\n      <td>177</td>\n      <td>Ukraine</td>\n      <td>UKR1</td>\n      <td>europa</td>\n      <td>https://www.transfermarkt.co.uk/ukrainian-supe...</td>\n    </tr>\n    <tr>\n      <th>24</th>\n      <td>UKR1</td>\n      <td>premier-liga</td>\n      <td>premier-liga</td>\n      <td>first_tier</td>\n      <td>domestic_league</td>\n      <td>177</td>\n      <td>Ukraine</td>\n      <td>UKR1</td>\n      <td>europa</td>\n      <td>https://www.transfermarkt.co.uk/premier-liga/s...</td>\n    </tr>\n    <tr>\n      <th>25</th>\n      <td>CDR</td>\n      <td>copa-del-rey</td>\n      <td>copa-del-rey</td>\n      <td>domestic_cup</td>\n      <td>domestic_cup</td>\n      <td>157</td>\n      <td>Spain</td>\n      <td>ES1</td>\n      <td>europa</td>\n      <td>https://www.transfermarkt.co.uk/copa-del-rey/s...</td>\n    </tr>\n    <tr>\n      <th>26</th>\n      <td>CL</td>\n      <td>uefa-champions-league</td>\n      <td>uefa-champions-league</td>\n      <td>uefa_champions_league</td>\n      <td>international_cup</td>\n      <td>-1</td>\n      <td>NaN</td>\n      <td>NaN</td>\n      <td>europa</td>\n      <td>https://www.transfermarkt.co.uk/uefa-champions...</td>\n    </tr>\n    <tr>\n      <th>27</th>\n      <td>GR1</td>\n      <td>super-league-1</td>\n      <td>super-league-1</td>\n      <td>first_tier</td>\n      <td>domestic_league</td>\n      <td>56</td>\n      <td>Greece</td>\n      <td>GR1</td>\n      <td>europa</td>\n      <td>https://www.transfermarkt.co.uk/super-league-1...</td>\n    </tr>\n    <tr>\n      <th>28</th>\n      <td>TR1</td>\n      <td>super-lig</td>\n      <td>super-lig</td>\n      <td>first_tier</td>\n      <td>domestic_league</td>\n      <td>174</td>\n      <td>Turkey</td>\n      <td>TR1</td>\n      <td>europa</td>\n      <td>https://www.transfermarkt.co.uk/super-lig/star...</td>\n    </tr>\n    <tr>\n      <th>29</th>\n      <td>POCP</td>\n      <td>allianz-cup</td>\n      <td>allianz-cup</td>\n      <td>domestic_cup</td>\n      <td>domestic_cup</td>\n      <td>136</td>\n      <td>Portugal</td>\n      <td>PO1</td>\n      <td>europa</td>\n      <td>https://www.transfermarkt.co.uk/allianz-cup/st...</td>\n    </tr>\n    <tr>\n      <th>30</th>\n      <td>GBCS</td>\n      <td>community-shield</td>\n      <td>community-shield</td>\n      <td>domestic_super_cup</td>\n      <td>other</td>\n      <td>189</td>\n      <td>England</td>\n      <td>GB1</td>\n      <td>europa</td>\n      <td>https://www.transfermarkt.co.uk/community-shie...</td>\n    </tr>\n    <tr>\n      <th>31</th>\n      <td>KLUB</td>\n      <td>fifa-klub-wm</td>\n      <td>fifa-klub-wm</td>\n      <td>fifa_club_world_cup</td>\n      <td>other</td>\n      <td>-1</td>\n      <td>NaN</td>\n      <td>NaN</td>\n      <td>europa</td>\n      <td>https://www.transfermarkt.co.uk/fifa-klub-wm/s...</td>\n    </tr>\n    <tr>\n      <th>32</th>\n      <td>L1</td>\n      <td>bundesliga</td>\n      <td>bundesliga</td>\n      <td>first_tier</td>\n      <td>domestic_league</td>\n      <td>40</td>\n      <td>Germany</td>\n      <td>L1</td>\n      <td>europa</td>\n      <td>https://www.transfermarkt.co.uk/bundesliga/sta...</td>\n    </tr>\n    <tr>\n      <th>33</th>\n      <td>RU1</td>\n      <td>premier-liga</td>\n      <td>premier-liga</td>\n      <td>first_tier</td>\n      <td>domestic_league</td>\n      <td>141</td>\n      <td>Russia</td>\n      <td>RU1</td>\n      <td>europa</td>\n      <td>https://www.transfermarkt.co.uk/premier-liga/s...</td>\n    </tr>\n    <tr>\n      <th>34</th>\n      <td>SC1</td>\n      <td>scottish-premiership</td>\n      <td>scottish-premiership</td>\n      <td>first_tier</td>\n      <td>domestic_league</td>\n      <td>190</td>\n      <td>Scotland</td>\n      <td>SC1</td>\n      <td>europa</td>\n      <td>https://www.transfermarkt.co.uk/scottish-premi...</td>\n    </tr>\n    <tr>\n      <th>35</th>\n      <td>SCI</td>\n      <td>supercoppa-italiana</td>\n      <td>supercoppa-italiana</td>\n      <td>domestic_super_cup</td>\n      <td>other</td>\n      <td>75</td>\n      <td>Italy</td>\n      <td>IT1</td>\n      <td>europa</td>\n      <td>https://www.transfermarkt.co.uk/supercoppa-ita...</td>\n    </tr>\n    <tr>\n      <th>36</th>\n      <td>BE1</td>\n      <td>jupiler-pro-league</td>\n      <td>jupiler-pro-league</td>\n      <td>first_tier</td>\n      <td>domestic_league</td>\n      <td>19</td>\n      <td>Belgium</td>\n      <td>BE1</td>\n      <td>europa</td>\n      <td>https://www.transfermarkt.co.uk/jupiler-pro-le...</td>\n    </tr>\n    <tr>\n      <th>37</th>\n      <td>CLQ</td>\n      <td>uefa-champions-league-qualifikation</td>\n      <td>uefa-champions-league-qualifikation</td>\n      <td>uefa_champions_league_qualifying</td>\n      <td>international_cup</td>\n      <td>-1</td>\n      <td>NaN</td>\n      <td>NaN</td>\n      <td>europa</td>\n      <td>https://www.transfermarkt.co.uk/uefa-champions...</td>\n    </tr>\n    <tr>\n      <th>38</th>\n      <td>DFL</td>\n      <td>dfl-supercup</td>\n      <td>dfl-supercup</td>\n      <td>domestic_super_cup</td>\n      <td>other</td>\n      <td>40</td>\n      <td>Germany</td>\n      <td>L1</td>\n      <td>europa</td>\n      <td>https://www.transfermarkt.co.uk/dfl-supercup/s...</td>\n    </tr>\n    <tr>\n      <th>39</th>\n      <td>SFA</td>\n      <td>sfa-cup</td>\n      <td>sfa-cup</td>\n      <td>domestic_cup</td>\n      <td>domestic_cup</td>\n      <td>190</td>\n      <td>Scotland</td>\n      <td>SC1</td>\n      <td>europa</td>\n      <td>https://www.transfermarkt.co.uk/sfa-cup/starts...</td>\n    </tr>\n    <tr>\n      <th>40</th>\n      <td>UKRP</td>\n      <td>ukrainian-cup</td>\n      <td>ukrainian-cup</td>\n      <td>domestic_cup</td>\n      <td>domestic_cup</td>\n      <td>177</td>\n      <td>Ukraine</td>\n      <td>UKR1</td>\n      <td>europa</td>\n      <td>https://www.transfermarkt.co.uk/ukrainian-cup/...</td>\n    </tr>\n    <tr>\n      <th>41</th>\n      <td>DFB</td>\n      <td>dfb-pokal</td>\n      <td>dfb-pokal</td>\n      <td>domestic_cup</td>\n      <td>domestic_cup</td>\n      <td>40</td>\n      <td>Germany</td>\n      <td>L1</td>\n      <td>europa</td>\n      <td>https://www.transfermarkt.co.uk/dfb-pokal/star...</td>\n    </tr>\n    <tr>\n      <th>42</th>\n      <td>FRCH</td>\n      <td>trophee-des-champions</td>\n      <td>trophee-des-champions</td>\n      <td>domestic_super_cup</td>\n      <td>other</td>\n      <td>50</td>\n      <td>France</td>\n      <td>FR1</td>\n      <td>europa</td>\n      <td>https://www.transfermarkt.co.uk/trophee-des-ch...</td>\n    </tr>\n  </tbody>\n</table>\n</div>"
     },
     "execution_count": 9,
     "metadata": {},
     "output_type": "execute_result"
    }
   ],
   "source": [
    "competitions_df"
   ],
   "metadata": {
    "collapsed": false,
    "ExecuteTime": {
     "end_time": "2024-01-03T00:03:19.203829400Z",
     "start_time": "2024-01-03T00:03:19.105045900Z"
    }
   },
   "id": "294837fe2eda1635"
  },
  {
   "cell_type": "markdown",
   "source": [
    "### Game events Dataframe:\n",
    "The game events Dataframe contains the events that can was occurred during a match like goals, cards or substitutions."
   ],
   "metadata": {
    "collapsed": false
   },
   "id": "509913b0360c85a9"
  },
  {
   "cell_type": "code",
   "execution_count": 10,
   "outputs": [
    {
     "data": {
      "text/plain": "                           game_event_id        date  game_id  minute  \\\n0       2f41da30c471492e7d4a984951671677  2012-08-05  2211607      77   \n1       a72f7186d132775f234d3e2f7bc0ed5b  2012-08-05  2211607      77   \n2       b2d721eaed4692a5c59a92323689ef18  2012-08-05  2211607       3   \n3       aef768899cedac0c9a650980219075a2  2012-08-05  2211607      53   \n4       5d6d9533023057b6619ecd145a038bbe  2012-08-05  2211607      74   \n...                                  ...         ...      ...     ...   \n666553  7f5a6b61ca858e0cd63a58c554b56bb7  2023-11-15  4228114      82   \n666554  5b93d1bc9e8bf42965682d491e1dd6c7  2023-11-15  4228114      44   \n666555  d638b1e72f531c413487d413258a3130  2023-11-15  4228114      68   \n666556  0ff7774aa1383af83e40c435325463af  2023-11-15  4228114      68   \n666557  c2ba59ead8ee0f17e74e49c506e0d92f  2023-11-15  4228114      85   \n\n                 type  club_id  player_id  \\\n0               Cards      610       4425   \n1               Cards      383      33210   \n2               Goals      383      36500   \n3               Goals      383      36500   \n4       Substitutions      383      36500   \n...               ...      ...        ...   \n666553  Substitutions      358     874064   \n666554          Goals    46889     922572   \n666555  Substitutions    46889     922572   \n666556  Substitutions    46889    1200864   \n666557          Goals      358    1203715   \n\n                                              description  player_in_id  \\\n0                    1. Yellow card  , Mass confrontation           NaN   \n1                    1. Yellow card  , Mass confrontation           NaN   \n2       , Header, 1. Tournament Goal Assist: , Corner,...           NaN   \n3       , Right-footed shot, 2. Tournament Goal Assist...           NaN   \n4                                          , Not reported       49499.0   \n...                                                   ...           ...   \n666553                                         , Tactical      965607.0   \n666554                      , Penalty, 1. Tournament Goal           NaN   \n666555                                         , Tactical     1200869.0   \n666556                                         , Tactical      921121.0   \n666557            , Right-footed shot, 1. Tournament Goal           NaN   \n\n        player_assist_id  \n0                    NaN  \n1                    NaN  \n2                56416.0  \n3               146258.0  \n4                    NaN  \n...                  ...  \n666553               NaN  \n666554               NaN  \n666555               NaN  \n666556               NaN  \n666557               NaN  \n\n[666558 rows x 10 columns]",
      "text/html": "<div>\n<style scoped>\n    .dataframe tbody tr th:only-of-type {\n        vertical-align: middle;\n    }\n\n    .dataframe tbody tr th {\n        vertical-align: top;\n    }\n\n    .dataframe thead th {\n        text-align: right;\n    }\n</style>\n<table border=\"1\" class=\"dataframe\">\n  <thead>\n    <tr style=\"text-align: right;\">\n      <th></th>\n      <th>game_event_id</th>\n      <th>date</th>\n      <th>game_id</th>\n      <th>minute</th>\n      <th>type</th>\n      <th>club_id</th>\n      <th>player_id</th>\n      <th>description</th>\n      <th>player_in_id</th>\n      <th>player_assist_id</th>\n    </tr>\n  </thead>\n  <tbody>\n    <tr>\n      <th>0</th>\n      <td>2f41da30c471492e7d4a984951671677</td>\n      <td>2012-08-05</td>\n      <td>2211607</td>\n      <td>77</td>\n      <td>Cards</td>\n      <td>610</td>\n      <td>4425</td>\n      <td>1. Yellow card  , Mass confrontation</td>\n      <td>NaN</td>\n      <td>NaN</td>\n    </tr>\n    <tr>\n      <th>1</th>\n      <td>a72f7186d132775f234d3e2f7bc0ed5b</td>\n      <td>2012-08-05</td>\n      <td>2211607</td>\n      <td>77</td>\n      <td>Cards</td>\n      <td>383</td>\n      <td>33210</td>\n      <td>1. Yellow card  , Mass confrontation</td>\n      <td>NaN</td>\n      <td>NaN</td>\n    </tr>\n    <tr>\n      <th>2</th>\n      <td>b2d721eaed4692a5c59a92323689ef18</td>\n      <td>2012-08-05</td>\n      <td>2211607</td>\n      <td>3</td>\n      <td>Goals</td>\n      <td>383</td>\n      <td>36500</td>\n      <td>, Header, 1. Tournament Goal Assist: , Corner,...</td>\n      <td>NaN</td>\n      <td>56416.0</td>\n    </tr>\n    <tr>\n      <th>3</th>\n      <td>aef768899cedac0c9a650980219075a2</td>\n      <td>2012-08-05</td>\n      <td>2211607</td>\n      <td>53</td>\n      <td>Goals</td>\n      <td>383</td>\n      <td>36500</td>\n      <td>, Right-footed shot, 2. Tournament Goal Assist...</td>\n      <td>NaN</td>\n      <td>146258.0</td>\n    </tr>\n    <tr>\n      <th>4</th>\n      <td>5d6d9533023057b6619ecd145a038bbe</td>\n      <td>2012-08-05</td>\n      <td>2211607</td>\n      <td>74</td>\n      <td>Substitutions</td>\n      <td>383</td>\n      <td>36500</td>\n      <td>, Not reported</td>\n      <td>49499.0</td>\n      <td>NaN</td>\n    </tr>\n    <tr>\n      <th>...</th>\n      <td>...</td>\n      <td>...</td>\n      <td>...</td>\n      <td>...</td>\n      <td>...</td>\n      <td>...</td>\n      <td>...</td>\n      <td>...</td>\n      <td>...</td>\n      <td>...</td>\n    </tr>\n    <tr>\n      <th>666553</th>\n      <td>7f5a6b61ca858e0cd63a58c554b56bb7</td>\n      <td>2023-11-15</td>\n      <td>4228114</td>\n      <td>82</td>\n      <td>Substitutions</td>\n      <td>358</td>\n      <td>874064</td>\n      <td>, Tactical</td>\n      <td>965607.0</td>\n      <td>NaN</td>\n    </tr>\n    <tr>\n      <th>666554</th>\n      <td>5b93d1bc9e8bf42965682d491e1dd6c7</td>\n      <td>2023-11-15</td>\n      <td>4228114</td>\n      <td>44</td>\n      <td>Goals</td>\n      <td>46889</td>\n      <td>922572</td>\n      <td>, Penalty, 1. Tournament Goal</td>\n      <td>NaN</td>\n      <td>NaN</td>\n    </tr>\n    <tr>\n      <th>666555</th>\n      <td>d638b1e72f531c413487d413258a3130</td>\n      <td>2023-11-15</td>\n      <td>4228114</td>\n      <td>68</td>\n      <td>Substitutions</td>\n      <td>46889</td>\n      <td>922572</td>\n      <td>, Tactical</td>\n      <td>1200869.0</td>\n      <td>NaN</td>\n    </tr>\n    <tr>\n      <th>666556</th>\n      <td>0ff7774aa1383af83e40c435325463af</td>\n      <td>2023-11-15</td>\n      <td>4228114</td>\n      <td>68</td>\n      <td>Substitutions</td>\n      <td>46889</td>\n      <td>1200864</td>\n      <td>, Tactical</td>\n      <td>921121.0</td>\n      <td>NaN</td>\n    </tr>\n    <tr>\n      <th>666557</th>\n      <td>c2ba59ead8ee0f17e74e49c506e0d92f</td>\n      <td>2023-11-15</td>\n      <td>4228114</td>\n      <td>85</td>\n      <td>Goals</td>\n      <td>358</td>\n      <td>1203715</td>\n      <td>, Right-footed shot, 1. Tournament Goal</td>\n      <td>NaN</td>\n      <td>NaN</td>\n    </tr>\n  </tbody>\n</table>\n<p>666558 rows × 10 columns</p>\n</div>"
     },
     "execution_count": 10,
     "metadata": {},
     "output_type": "execute_result"
    }
   ],
   "source": [
    "game_events_df"
   ],
   "metadata": {
    "collapsed": false,
    "ExecuteTime": {
     "end_time": "2024-01-03T00:03:19.268422400Z",
     "start_time": "2024-01-03T00:03:19.120137900Z"
    }
   },
   "id": "f11a95152c0c7086"
  },
  {
   "cell_type": "markdown",
   "source": [
    "### Game lineups Dataframe:\n",
    "Data about player lineups for different games, including game ID, player ID, and position."
   ],
   "metadata": {
    "collapsed": false
   },
   "id": "c2da8b5f3b9c6ef"
  },
  {
   "cell_type": "code",
   "execution_count": 11,
   "outputs": [
    {
     "data": {
      "text/plain": "                         game_lineups_id  game_id  club_id             type  \\\n0       77b0f371923e0c8bdf050a1e269faaac  3606208      338  starting_lineup   \n1       cb6eeedb9f728570615d37b6fe7facaf  3606208      338  starting_lineup   \n2       8e63d5f47aac2bdb0e54f5481986e104  3606208      338  starting_lineup   \n3       ea4a96d8be410f2d646cf095c4faae7f  3606208      338  starting_lineup   \n4       e6abe553801b09bc623c3deb96acba17  3606208      338  starting_lineup   \n...                                  ...      ...      ...              ...   \n119128  f4e6a6b2e3d24d12290c6ce4168e1bdb  4228114    46889      substitutes   \n119129  7a78814a66c59c79e8d40c8669a67d3f  4228114    46889      substitutes   \n119130  09cc07767ce441b4de4a76c102fd17d5  4228114    46889      substitutes   \n119131  3c259f1849421af021aba3e84a4da8de  4228114    46889      substitutes   \n119132  92f069e6041dae45375081d7662b2c12  4228114    46889      substitutes   \n\n       number  player_id              player_name  team_captain  \\\n0          89     419061       Vladyslav Supryaga             0   \n1          10     368611        Mykola Shaparenko             0   \n2           5     124182         Sergiy Sydorchuk             1   \n3          94     181118          Tomasz Kedziora             0   \n4          16     404842        Vitaliy Mykolenko             0   \n...       ...        ...                      ...           ...   \n119128      3    1200869          Thomas Chambers             0   \n119129      5    1203716  Mohammed-Idris Oshilaja             0   \n119130     13    1200870              Max Ovenden             0   \n119131     12     550816              Julien Anau             0   \n119132     10     128198             Adam Coombes             0   \n\n                  position  \n0           Centre-Forward  \n1         Central Midfield  \n2       Defensive Midfield  \n3               Right-Back  \n4                Left-Back  \n...                    ...  \n119128           Left-Back  \n119129            Defender  \n119130          Goalkeeper  \n119131  Attacking Midfield  \n119132              Attack  \n\n[119133 rows x 9 columns]",
      "text/html": "<div>\n<style scoped>\n    .dataframe tbody tr th:only-of-type {\n        vertical-align: middle;\n    }\n\n    .dataframe tbody tr th {\n        vertical-align: top;\n    }\n\n    .dataframe thead th {\n        text-align: right;\n    }\n</style>\n<table border=\"1\" class=\"dataframe\">\n  <thead>\n    <tr style=\"text-align: right;\">\n      <th></th>\n      <th>game_lineups_id</th>\n      <th>game_id</th>\n      <th>club_id</th>\n      <th>type</th>\n      <th>number</th>\n      <th>player_id</th>\n      <th>player_name</th>\n      <th>team_captain</th>\n      <th>position</th>\n    </tr>\n  </thead>\n  <tbody>\n    <tr>\n      <th>0</th>\n      <td>77b0f371923e0c8bdf050a1e269faaac</td>\n      <td>3606208</td>\n      <td>338</td>\n      <td>starting_lineup</td>\n      <td>89</td>\n      <td>419061</td>\n      <td>Vladyslav Supryaga</td>\n      <td>0</td>\n      <td>Centre-Forward</td>\n    </tr>\n    <tr>\n      <th>1</th>\n      <td>cb6eeedb9f728570615d37b6fe7facaf</td>\n      <td>3606208</td>\n      <td>338</td>\n      <td>starting_lineup</td>\n      <td>10</td>\n      <td>368611</td>\n      <td>Mykola Shaparenko</td>\n      <td>0</td>\n      <td>Central Midfield</td>\n    </tr>\n    <tr>\n      <th>2</th>\n      <td>8e63d5f47aac2bdb0e54f5481986e104</td>\n      <td>3606208</td>\n      <td>338</td>\n      <td>starting_lineup</td>\n      <td>5</td>\n      <td>124182</td>\n      <td>Sergiy Sydorchuk</td>\n      <td>1</td>\n      <td>Defensive Midfield</td>\n    </tr>\n    <tr>\n      <th>3</th>\n      <td>ea4a96d8be410f2d646cf095c4faae7f</td>\n      <td>3606208</td>\n      <td>338</td>\n      <td>starting_lineup</td>\n      <td>94</td>\n      <td>181118</td>\n      <td>Tomasz Kedziora</td>\n      <td>0</td>\n      <td>Right-Back</td>\n    </tr>\n    <tr>\n      <th>4</th>\n      <td>e6abe553801b09bc623c3deb96acba17</td>\n      <td>3606208</td>\n      <td>338</td>\n      <td>starting_lineup</td>\n      <td>16</td>\n      <td>404842</td>\n      <td>Vitaliy Mykolenko</td>\n      <td>0</td>\n      <td>Left-Back</td>\n    </tr>\n    <tr>\n      <th>...</th>\n      <td>...</td>\n      <td>...</td>\n      <td>...</td>\n      <td>...</td>\n      <td>...</td>\n      <td>...</td>\n      <td>...</td>\n      <td>...</td>\n      <td>...</td>\n    </tr>\n    <tr>\n      <th>119128</th>\n      <td>f4e6a6b2e3d24d12290c6ce4168e1bdb</td>\n      <td>4228114</td>\n      <td>46889</td>\n      <td>substitutes</td>\n      <td>3</td>\n      <td>1200869</td>\n      <td>Thomas Chambers</td>\n      <td>0</td>\n      <td>Left-Back</td>\n    </tr>\n    <tr>\n      <th>119129</th>\n      <td>7a78814a66c59c79e8d40c8669a67d3f</td>\n      <td>4228114</td>\n      <td>46889</td>\n      <td>substitutes</td>\n      <td>5</td>\n      <td>1203716</td>\n      <td>Mohammed-Idris Oshilaja</td>\n      <td>0</td>\n      <td>Defender</td>\n    </tr>\n    <tr>\n      <th>119130</th>\n      <td>09cc07767ce441b4de4a76c102fd17d5</td>\n      <td>4228114</td>\n      <td>46889</td>\n      <td>substitutes</td>\n      <td>13</td>\n      <td>1200870</td>\n      <td>Max Ovenden</td>\n      <td>0</td>\n      <td>Goalkeeper</td>\n    </tr>\n    <tr>\n      <th>119131</th>\n      <td>3c259f1849421af021aba3e84a4da8de</td>\n      <td>4228114</td>\n      <td>46889</td>\n      <td>substitutes</td>\n      <td>12</td>\n      <td>550816</td>\n      <td>Julien Anau</td>\n      <td>0</td>\n      <td>Attacking Midfield</td>\n    </tr>\n    <tr>\n      <th>119132</th>\n      <td>92f069e6041dae45375081d7662b2c12</td>\n      <td>4228114</td>\n      <td>46889</td>\n      <td>substitutes</td>\n      <td>10</td>\n      <td>128198</td>\n      <td>Adam Coombes</td>\n      <td>0</td>\n      <td>Attack</td>\n    </tr>\n  </tbody>\n</table>\n<p>119133 rows × 9 columns</p>\n</div>"
     },
     "execution_count": 11,
     "metadata": {},
     "output_type": "execute_result"
    }
   ],
   "source": [
    "game_lineups_df"
   ],
   "metadata": {
    "collapsed": false,
    "ExecuteTime": {
     "end_time": "2024-01-03T00:03:19.269420700Z",
     "start_time": "2024-01-03T00:03:19.137822700Z"
    }
   },
   "id": "1a3ce1de5403cd5a"
  },
  {
   "cell_type": "markdown",
   "source": [
    "### Games Dataframe:\n",
    "The games dataframe contains the match that was played in the past.\n",
    "Specifically, it contains all the general information of a match, such as the year of the season, the teams, the location of the match, the goals and other information."
   ],
   "metadata": {
    "collapsed": false
   },
   "id": "3458de9116ad120b"
  },
  {
   "cell_type": "code",
   "execution_count": 12,
   "outputs": [
    {
     "data": {
      "text/plain": "       game_id competition_id  season                     round        date  \\\n0      2222597            RU1    2012               6. Matchday  2012-08-25   \n1      2222627            RU1    2012               5. Matchday  2012-08-20   \n2      2222658            RU1    2012              10. Matchday  2012-09-30   \n3      2222664            RU1    2012               8. Matchday  2012-09-15   \n4      2222683            RU1    2012              12. Matchday  2012-10-22   \n...        ...            ...     ...                       ...         ...   \n65211  2367292             EL    2013                   Group B  2013-11-07   \n65212  2629035            NLP    2015               Third Round  2015-10-27   \n65213  3092951            CLQ    2018  Qualifying Round 2nd leg  2018-08-29   \n65214  4164101            CGB    2023              Second Round  2023-08-29   \n65215  4013659            FAC    2022              Fourth Round  2023-01-29   \n\n       home_club_id  away_club_id  home_club_goals  away_club_goals  \\\n0              3725           232                2                1   \n1              2696          4128                0                2   \n2              2410           121                0                2   \n3               932          2698                1                0   \n4              2696         12438                0                1   \n...             ...           ...              ...              ...   \n65211           383           419                2                0   \n65212           383         16866                6                0   \n65213           383           713                3                0   \n65214           512          1194                6                1   \n65215           512          3684                3                1   \n\n       home_club_position  ...          stadium attendance  \\\n0                     2.0  ...     Akhmat-Arena    21700.0   \n1                    11.0  ...        Metallurg    11400.0   \n2                     2.0  ...     Arena Khimki    12000.0   \n3                     5.0  ...        RZD Arena    11408.0   \n4                    11.0  ...        Metallurg     7534.0   \n...                   ...  ...              ...        ...   \n65211                 NaN  ...  Philips Stadion    10000.0   \n65212                 NaN  ...  Philips Stadion    31000.0   \n65213                 NaN  ...  Philips Stadion    34200.0   \n65214                 NaN  ...   bet365 Stadium     9410.0   \n65215                 NaN  ...   bet365 Stadium    14392.0   \n\n                    referee  \\\n0      Vladislav Bezborodov   \n1             Sergey Ivanov   \n2            Sergey Karasev   \n3            Sergey Karasev   \n4         Timur Arslanbekov   \n...                     ...   \n65211        Cristian Balaj   \n65212       Allard Lindhout   \n65213        Anthony Taylor   \n65214     Michael Salisbury   \n65215            David Webb   \n\n                                                     url  home_club_formation  \\\n0      https://www.transfermarkt.co.uk/terek-grozny_s...                  NaN   \n1      https://www.transfermarkt.co.uk/krylya-sovetov...                  NaN   \n2      https://www.transfermarkt.co.uk/cska-moscow_di...                  NaN   \n3      https://www.transfermarkt.co.uk/lokomotiv-mosc...                  NaN   \n4      https://www.transfermarkt.co.uk/krylya-sovetov...                  NaN   \n...                                                  ...                  ...   \n65211  https://www.transfermarkt.co.uk/spielbericht/i...                  NaN   \n65212  https://www.transfermarkt.co.uk/spielbericht/i...                  NaN   \n65213  https://www.transfermarkt.co.uk/spielbericht/i...                  NaN   \n65214  https://www.transfermarkt.co.uk/spielbericht/i...              4-2-3-1   \n65215  https://www.transfermarkt.co.uk/spielbericht/i...                  NaN   \n\n      away_club_formation                                     home_club_name  \\\n0                     NaN                                  RFK Akhmat Grozny   \n1                     NaN                          PFK Krylya Sovetov Samara   \n2                     NaN                                    PFK CSKA Moskva   \n3                     NaN                 Футбольный клуб \"Локомотив\" Москва   \n4                     NaN                          PFK Krylya Sovetov Samara   \n...                   ...                                                ...   \n65211                 NaN  Eindhovense Voetbalvereniging Philips Sport Ve...   \n65212                 NaN  Eindhovense Voetbalvereniging Philips Sport Ve...   \n65213                 NaN  Eindhovense Voetbalvereniging Philips Sport Ve...   \n65214             4-2-3-1                                         Stoke City   \n65215                 NaN                                         Stoke City   \n\n                        away_club_name aggregate   competition_type  \n0                    FK Spartak Moskva       2:1    domestic_league  \n1                           Amkar Perm       0:2    domestic_league  \n2                     FK Dinamo Moskva       0:2    domestic_league  \n3                       FC Rubin Kazan       1:0    domestic_league  \n4      Volga Nizhniy Novgorod (- 2016)       0:1    domestic_league  \n...                                ...       ...                ...  \n65211                              NaN       2:0  international_cup  \n65212                              NaN       6:0       domestic_cup  \n65213                              NaN       3:0  international_cup  \n65214                              NaN       6:1              other  \n65215                              NaN       3:1       domestic_cup  \n\n[65216 rows x 23 columns]",
      "text/html": "<div>\n<style scoped>\n    .dataframe tbody tr th:only-of-type {\n        vertical-align: middle;\n    }\n\n    .dataframe tbody tr th {\n        vertical-align: top;\n    }\n\n    .dataframe thead th {\n        text-align: right;\n    }\n</style>\n<table border=\"1\" class=\"dataframe\">\n  <thead>\n    <tr style=\"text-align: right;\">\n      <th></th>\n      <th>game_id</th>\n      <th>competition_id</th>\n      <th>season</th>\n      <th>round</th>\n      <th>date</th>\n      <th>home_club_id</th>\n      <th>away_club_id</th>\n      <th>home_club_goals</th>\n      <th>away_club_goals</th>\n      <th>home_club_position</th>\n      <th>...</th>\n      <th>stadium</th>\n      <th>attendance</th>\n      <th>referee</th>\n      <th>url</th>\n      <th>home_club_formation</th>\n      <th>away_club_formation</th>\n      <th>home_club_name</th>\n      <th>away_club_name</th>\n      <th>aggregate</th>\n      <th>competition_type</th>\n    </tr>\n  </thead>\n  <tbody>\n    <tr>\n      <th>0</th>\n      <td>2222597</td>\n      <td>RU1</td>\n      <td>2012</td>\n      <td>6. Matchday</td>\n      <td>2012-08-25</td>\n      <td>3725</td>\n      <td>232</td>\n      <td>2</td>\n      <td>1</td>\n      <td>2.0</td>\n      <td>...</td>\n      <td>Akhmat-Arena</td>\n      <td>21700.0</td>\n      <td>Vladislav Bezborodov</td>\n      <td>https://www.transfermarkt.co.uk/terek-grozny_s...</td>\n      <td>NaN</td>\n      <td>NaN</td>\n      <td>RFK Akhmat Grozny</td>\n      <td>FK Spartak Moskva</td>\n      <td>2:1</td>\n      <td>domestic_league</td>\n    </tr>\n    <tr>\n      <th>1</th>\n      <td>2222627</td>\n      <td>RU1</td>\n      <td>2012</td>\n      <td>5. Matchday</td>\n      <td>2012-08-20</td>\n      <td>2696</td>\n      <td>4128</td>\n      <td>0</td>\n      <td>2</td>\n      <td>11.0</td>\n      <td>...</td>\n      <td>Metallurg</td>\n      <td>11400.0</td>\n      <td>Sergey Ivanov</td>\n      <td>https://www.transfermarkt.co.uk/krylya-sovetov...</td>\n      <td>NaN</td>\n      <td>NaN</td>\n      <td>PFK Krylya Sovetov Samara</td>\n      <td>Amkar Perm</td>\n      <td>0:2</td>\n      <td>domestic_league</td>\n    </tr>\n    <tr>\n      <th>2</th>\n      <td>2222658</td>\n      <td>RU1</td>\n      <td>2012</td>\n      <td>10. Matchday</td>\n      <td>2012-09-30</td>\n      <td>2410</td>\n      <td>121</td>\n      <td>0</td>\n      <td>2</td>\n      <td>2.0</td>\n      <td>...</td>\n      <td>Arena Khimki</td>\n      <td>12000.0</td>\n      <td>Sergey Karasev</td>\n      <td>https://www.transfermarkt.co.uk/cska-moscow_di...</td>\n      <td>NaN</td>\n      <td>NaN</td>\n      <td>PFK CSKA Moskva</td>\n      <td>FK Dinamo Moskva</td>\n      <td>0:2</td>\n      <td>domestic_league</td>\n    </tr>\n    <tr>\n      <th>3</th>\n      <td>2222664</td>\n      <td>RU1</td>\n      <td>2012</td>\n      <td>8. Matchday</td>\n      <td>2012-09-15</td>\n      <td>932</td>\n      <td>2698</td>\n      <td>1</td>\n      <td>0</td>\n      <td>5.0</td>\n      <td>...</td>\n      <td>RZD Arena</td>\n      <td>11408.0</td>\n      <td>Sergey Karasev</td>\n      <td>https://www.transfermarkt.co.uk/lokomotiv-mosc...</td>\n      <td>NaN</td>\n      <td>NaN</td>\n      <td>Футбольный клуб \"Локомотив\" Москва</td>\n      <td>FC Rubin Kazan</td>\n      <td>1:0</td>\n      <td>domestic_league</td>\n    </tr>\n    <tr>\n      <th>4</th>\n      <td>2222683</td>\n      <td>RU1</td>\n      <td>2012</td>\n      <td>12. Matchday</td>\n      <td>2012-10-22</td>\n      <td>2696</td>\n      <td>12438</td>\n      <td>0</td>\n      <td>1</td>\n      <td>11.0</td>\n      <td>...</td>\n      <td>Metallurg</td>\n      <td>7534.0</td>\n      <td>Timur Arslanbekov</td>\n      <td>https://www.transfermarkt.co.uk/krylya-sovetov...</td>\n      <td>NaN</td>\n      <td>NaN</td>\n      <td>PFK Krylya Sovetov Samara</td>\n      <td>Volga Nizhniy Novgorod (- 2016)</td>\n      <td>0:1</td>\n      <td>domestic_league</td>\n    </tr>\n    <tr>\n      <th>...</th>\n      <td>...</td>\n      <td>...</td>\n      <td>...</td>\n      <td>...</td>\n      <td>...</td>\n      <td>...</td>\n      <td>...</td>\n      <td>...</td>\n      <td>...</td>\n      <td>...</td>\n      <td>...</td>\n      <td>...</td>\n      <td>...</td>\n      <td>...</td>\n      <td>...</td>\n      <td>...</td>\n      <td>...</td>\n      <td>...</td>\n      <td>...</td>\n      <td>...</td>\n      <td>...</td>\n    </tr>\n    <tr>\n      <th>65211</th>\n      <td>2367292</td>\n      <td>EL</td>\n      <td>2013</td>\n      <td>Group B</td>\n      <td>2013-11-07</td>\n      <td>383</td>\n      <td>419</td>\n      <td>2</td>\n      <td>0</td>\n      <td>NaN</td>\n      <td>...</td>\n      <td>Philips Stadion</td>\n      <td>10000.0</td>\n      <td>Cristian Balaj</td>\n      <td>https://www.transfermarkt.co.uk/spielbericht/i...</td>\n      <td>NaN</td>\n      <td>NaN</td>\n      <td>Eindhovense Voetbalvereniging Philips Sport Ve...</td>\n      <td>NaN</td>\n      <td>2:0</td>\n      <td>international_cup</td>\n    </tr>\n    <tr>\n      <th>65212</th>\n      <td>2629035</td>\n      <td>NLP</td>\n      <td>2015</td>\n      <td>Third Round</td>\n      <td>2015-10-27</td>\n      <td>383</td>\n      <td>16866</td>\n      <td>6</td>\n      <td>0</td>\n      <td>NaN</td>\n      <td>...</td>\n      <td>Philips Stadion</td>\n      <td>31000.0</td>\n      <td>Allard Lindhout</td>\n      <td>https://www.transfermarkt.co.uk/spielbericht/i...</td>\n      <td>NaN</td>\n      <td>NaN</td>\n      <td>Eindhovense Voetbalvereniging Philips Sport Ve...</td>\n      <td>NaN</td>\n      <td>6:0</td>\n      <td>domestic_cup</td>\n    </tr>\n    <tr>\n      <th>65213</th>\n      <td>3092951</td>\n      <td>CLQ</td>\n      <td>2018</td>\n      <td>Qualifying Round 2nd leg</td>\n      <td>2018-08-29</td>\n      <td>383</td>\n      <td>713</td>\n      <td>3</td>\n      <td>0</td>\n      <td>NaN</td>\n      <td>...</td>\n      <td>Philips Stadion</td>\n      <td>34200.0</td>\n      <td>Anthony Taylor</td>\n      <td>https://www.transfermarkt.co.uk/spielbericht/i...</td>\n      <td>NaN</td>\n      <td>NaN</td>\n      <td>Eindhovense Voetbalvereniging Philips Sport Ve...</td>\n      <td>NaN</td>\n      <td>3:0</td>\n      <td>international_cup</td>\n    </tr>\n    <tr>\n      <th>65214</th>\n      <td>4164101</td>\n      <td>CGB</td>\n      <td>2023</td>\n      <td>Second Round</td>\n      <td>2023-08-29</td>\n      <td>512</td>\n      <td>1194</td>\n      <td>6</td>\n      <td>1</td>\n      <td>NaN</td>\n      <td>...</td>\n      <td>bet365 Stadium</td>\n      <td>9410.0</td>\n      <td>Michael Salisbury</td>\n      <td>https://www.transfermarkt.co.uk/spielbericht/i...</td>\n      <td>4-2-3-1</td>\n      <td>4-2-3-1</td>\n      <td>Stoke City</td>\n      <td>NaN</td>\n      <td>6:1</td>\n      <td>other</td>\n    </tr>\n    <tr>\n      <th>65215</th>\n      <td>4013659</td>\n      <td>FAC</td>\n      <td>2022</td>\n      <td>Fourth Round</td>\n      <td>2023-01-29</td>\n      <td>512</td>\n      <td>3684</td>\n      <td>3</td>\n      <td>1</td>\n      <td>NaN</td>\n      <td>...</td>\n      <td>bet365 Stadium</td>\n      <td>14392.0</td>\n      <td>David Webb</td>\n      <td>https://www.transfermarkt.co.uk/spielbericht/i...</td>\n      <td>NaN</td>\n      <td>NaN</td>\n      <td>Stoke City</td>\n      <td>NaN</td>\n      <td>3:1</td>\n      <td>domestic_cup</td>\n    </tr>\n  </tbody>\n</table>\n<p>65216 rows × 23 columns</p>\n</div>"
     },
     "execution_count": 12,
     "metadata": {},
     "output_type": "execute_result"
    }
   ],
   "source": [
    "games_df"
   ],
   "metadata": {
    "collapsed": false,
    "ExecuteTime": {
     "end_time": "2024-01-03T00:03:19.302950300Z",
     "start_time": "2024-01-03T00:03:19.150820300Z"
    }
   },
   "id": "857edb0c630e203c"
  },
  {
   "cell_type": "markdown",
   "source": [
    "### Player valuations Dataframe:\n",
    "The dataframe player valuations contains the market values of the players for the last season in which has participated."
   ],
   "metadata": {
    "collapsed": false
   },
   "id": "2b1015c1e0d881a4"
  },
  {
   "cell_type": "code",
   "execution_count": 13,
   "outputs": [
    {
     "data": {
      "text/plain": "        player_id  last_season             datetime        date    dateweek  \\\n0            3132         2013  2003-12-09 00:00:00  2003-12-09  2003-12-08   \n1            6893         2012  2003-12-15 00:00:00  2003-12-15  2003-12-15   \n2              10         2015  2004-10-04 00:00:00  2004-10-04  2004-10-04   \n3              26         2017  2004-10-04 00:00:00  2004-10-04  2004-10-04   \n4              65         2015  2004-10-04 00:00:00  2004-10-04  2004-10-04   \n...           ...          ...                  ...         ...         ...   \n440658     950091         2023  2023-09-21 00:00:00  2023-09-21  2023-09-18   \n440659     968903         2023  2023-09-21 00:00:00  2023-09-21  2023-09-18   \n440660    1031590         2023  2023-09-21 00:00:00  2023-09-21  2023-09-18   \n440661    1166093         2023  2023-09-21 00:00:00  2023-09-21  2023-09-18   \n440662     405676         2018  2023-12-19 00:00:00  2023-12-19  2023-12-18   \n\n        market_value_in_eur  n  current_club_id  \\\n0                    400000  1              126   \n1                    900000  1              984   \n2                   7000000  1              398   \n3                   1500000  1               16   \n4                   8000000  1             1091   \n...                     ... ..              ...   \n440658              1000000  1             1091   \n440659                50000  1              653   \n440660                50000  1             6418   \n440661                50000  1            30120   \n440662                50000  1            23826   \n\n       player_club_domestic_competition_id  \n0                                      TR1  \n1                                      GB1  \n2                                      IT1  \n3                                       L1  \n4                                      GR1  \n...                                    ...  \n440658                                 GR1  \n440659                                 GR1  \n440660                                 GR1  \n440661                                 GR1  \n440662                                  L1  \n\n[440663 rows x 9 columns]",
      "text/html": "<div>\n<style scoped>\n    .dataframe tbody tr th:only-of-type {\n        vertical-align: middle;\n    }\n\n    .dataframe tbody tr th {\n        vertical-align: top;\n    }\n\n    .dataframe thead th {\n        text-align: right;\n    }\n</style>\n<table border=\"1\" class=\"dataframe\">\n  <thead>\n    <tr style=\"text-align: right;\">\n      <th></th>\n      <th>player_id</th>\n      <th>last_season</th>\n      <th>datetime</th>\n      <th>date</th>\n      <th>dateweek</th>\n      <th>market_value_in_eur</th>\n      <th>n</th>\n      <th>current_club_id</th>\n      <th>player_club_domestic_competition_id</th>\n    </tr>\n  </thead>\n  <tbody>\n    <tr>\n      <th>0</th>\n      <td>3132</td>\n      <td>2013</td>\n      <td>2003-12-09 00:00:00</td>\n      <td>2003-12-09</td>\n      <td>2003-12-08</td>\n      <td>400000</td>\n      <td>1</td>\n      <td>126</td>\n      <td>TR1</td>\n    </tr>\n    <tr>\n      <th>1</th>\n      <td>6893</td>\n      <td>2012</td>\n      <td>2003-12-15 00:00:00</td>\n      <td>2003-12-15</td>\n      <td>2003-12-15</td>\n      <td>900000</td>\n      <td>1</td>\n      <td>984</td>\n      <td>GB1</td>\n    </tr>\n    <tr>\n      <th>2</th>\n      <td>10</td>\n      <td>2015</td>\n      <td>2004-10-04 00:00:00</td>\n      <td>2004-10-04</td>\n      <td>2004-10-04</td>\n      <td>7000000</td>\n      <td>1</td>\n      <td>398</td>\n      <td>IT1</td>\n    </tr>\n    <tr>\n      <th>3</th>\n      <td>26</td>\n      <td>2017</td>\n      <td>2004-10-04 00:00:00</td>\n      <td>2004-10-04</td>\n      <td>2004-10-04</td>\n      <td>1500000</td>\n      <td>1</td>\n      <td>16</td>\n      <td>L1</td>\n    </tr>\n    <tr>\n      <th>4</th>\n      <td>65</td>\n      <td>2015</td>\n      <td>2004-10-04 00:00:00</td>\n      <td>2004-10-04</td>\n      <td>2004-10-04</td>\n      <td>8000000</td>\n      <td>1</td>\n      <td>1091</td>\n      <td>GR1</td>\n    </tr>\n    <tr>\n      <th>...</th>\n      <td>...</td>\n      <td>...</td>\n      <td>...</td>\n      <td>...</td>\n      <td>...</td>\n      <td>...</td>\n      <td>...</td>\n      <td>...</td>\n      <td>...</td>\n    </tr>\n    <tr>\n      <th>440658</th>\n      <td>950091</td>\n      <td>2023</td>\n      <td>2023-09-21 00:00:00</td>\n      <td>2023-09-21</td>\n      <td>2023-09-18</td>\n      <td>1000000</td>\n      <td>1</td>\n      <td>1091</td>\n      <td>GR1</td>\n    </tr>\n    <tr>\n      <th>440659</th>\n      <td>968903</td>\n      <td>2023</td>\n      <td>2023-09-21 00:00:00</td>\n      <td>2023-09-21</td>\n      <td>2023-09-18</td>\n      <td>50000</td>\n      <td>1</td>\n      <td>653</td>\n      <td>GR1</td>\n    </tr>\n    <tr>\n      <th>440660</th>\n      <td>1031590</td>\n      <td>2023</td>\n      <td>2023-09-21 00:00:00</td>\n      <td>2023-09-21</td>\n      <td>2023-09-18</td>\n      <td>50000</td>\n      <td>1</td>\n      <td>6418</td>\n      <td>GR1</td>\n    </tr>\n    <tr>\n      <th>440661</th>\n      <td>1166093</td>\n      <td>2023</td>\n      <td>2023-09-21 00:00:00</td>\n      <td>2023-09-21</td>\n      <td>2023-09-18</td>\n      <td>50000</td>\n      <td>1</td>\n      <td>30120</td>\n      <td>GR1</td>\n    </tr>\n    <tr>\n      <th>440662</th>\n      <td>405676</td>\n      <td>2018</td>\n      <td>2023-12-19 00:00:00</td>\n      <td>2023-12-19</td>\n      <td>2023-12-18</td>\n      <td>50000</td>\n      <td>1</td>\n      <td>23826</td>\n      <td>L1</td>\n    </tr>\n  </tbody>\n</table>\n<p>440663 rows × 9 columns</p>\n</div>"
     },
     "execution_count": 13,
     "metadata": {},
     "output_type": "execute_result"
    }
   ],
   "source": [
    "player_valuations_df"
   ],
   "metadata": {
    "collapsed": false,
    "ExecuteTime": {
     "end_time": "2024-01-03T00:03:19.343529500Z",
     "start_time": "2024-01-03T00:03:19.198825200Z"
    }
   },
   "id": "b5352391f7606689"
  },
  {
   "cell_type": "markdown",
   "source": [
    "### Players dataframe:\n",
    "The dataframe players contains the player's personal details and physical characteristics plus other information such as the role or the foot used."
   ],
   "metadata": {
    "collapsed": false
   },
   "id": "257e7b4213c9ef79"
  },
  {
   "cell_type": "code",
   "execution_count": 14,
   "outputs": [
    {
     "data": {
      "text/plain": "       player_id first_name    last_name                name  last_season  \\\n0            598       Timo   Hildebrand     Timo Hildebrand         2014   \n1            670     Martin       Petrov       Martin Petrov         2012   \n2           1323     Martin      Amedick      Martin Amedick         2012   \n3           3195   Jermaine      Pennant    Jermaine Pennant         2013   \n4           3259     Damien         Duff         Damien Duff         2013   \n...          ...        ...          ...                 ...          ...   \n30297     371851       Jaka        Bijol          Jaka Bijol         2023   \n30298     537171     Semuel  Pizzignacco  Semuel Pizzignacco         2018   \n30299     586756      Festy      Ebosele       Festy Ebosele         2023   \n30300     704692     Nicolò      Cocetta      Nicolò Cocetta         2022   \n30301     925584       Axel     Guessand       Axel Guessand         2023   \n\n       current_club_id         player_code country_of_birth  \\\n0                   24     timo-hildebrand          Germany   \n1                  714       martin-petrov         Bulgaria   \n2                   24      martin-amedick          Germany   \n3                  512    jermaine-pennant          England   \n4                  931         damien-duff          Ireland   \n...                ...                 ...              ...   \n30297              410          jaka-bijol         Slovenia   \n30298              410  semuel-pizzignacco            Italy   \n30299              410       festy-ebosele          Ireland   \n30300              410      nicolo-cocetta            Italy   \n30301              410       axel-guessand           France   \n\n                city_of_birth country_of_citizenship  ...   foot height_in_cm  \\\n0                       Worms                Germany  ...    NaN          NaN   \n1                      Vratsa               Bulgaria  ...    NaN          NaN   \n2                   Paderborn                Germany  ...    NaN          NaN   \n3                  Nottingham                England  ...  right        173.0   \n4                  Ballyboden                Ireland  ...   left        177.0   \n...                       ...                    ...  ...    ...          ...   \n30297                Vuzenica               Slovenia  ...  right        190.0   \n30298              Monfalcone                  Italy  ...  right        188.0   \n30299    Enniscorthy, Wexford                Ireland  ...  right        180.0   \n30300  San Daniele del Friuli                  Italy  ...    NaN          NaN   \n30301            Schiltigheim                 France  ...   left        184.0   \n\n      market_value_in_eur highest_market_value_in_eur  \\\n0                     NaN                  10000000.0   \n1                     NaN                  12000000.0   \n2                     NaN                   2750000.0   \n3                     NaN                  10500000.0   \n4                     NaN                  17000000.0   \n...                   ...                         ...   \n30297          10000000.0                  10000000.0   \n30298            325000.0                    350000.0   \n30299           4500000.0                   4500000.0   \n30300             75000.0                     75000.0   \n30301            250000.0                    300000.0   \n\n       contract_expiration_date         agent_name  \\\n0                           NaN                NaN   \n1                           NaN                IFM   \n2                           NaN                NaN   \n3                           NaN         Andrew Sky   \n4                           NaN                NaN   \n...                         ...                ...   \n30297       2027-06-30 00:00:00          MSC GROUP   \n30298       2025-06-30 00:00:00                NaN   \n30299       2027-06-30 00:00:00  The Kulture Group   \n30300       2023-06-30 00:00:00                NaN   \n30301       2027-06-30 00:00:00        CAA Stellar   \n\n                                               image_url  \\\n0      https://img.a.transfermarkt.technology/portrai...   \n1      https://img.a.transfermarkt.technology/portrai...   \n2      https://img.a.transfermarkt.technology/portrai...   \n3      https://img.a.transfermarkt.technology/portrai...   \n4      https://img.a.transfermarkt.technology/portrai...   \n...                                                  ...   \n30297  https://img.a.transfermarkt.technology/portrai...   \n30298  https://img.a.transfermarkt.technology/portrai...   \n30299  https://img.a.transfermarkt.technology/portrai...   \n30300  https://img.a.transfermarkt.technology/portrai...   \n30301  https://img.a.transfermarkt.technology/portrai...   \n\n                                                     url  \\\n0      https://www.transfermarkt.co.uk/timo-hildebran...   \n1      https://www.transfermarkt.co.uk/martin-petrov/...   \n2      https://www.transfermarkt.co.uk/martin-amedick...   \n3      https://www.transfermarkt.co.uk/jermaine-penna...   \n4      https://www.transfermarkt.co.uk/damien-duff/pr...   \n...                                                  ...   \n30297  https://www.transfermarkt.co.uk/jaka-bijol/pro...   \n30298  https://www.transfermarkt.co.uk/semuel-pizzign...   \n30299  https://www.transfermarkt.co.uk/festy-ebosele/...   \n30300  https://www.transfermarkt.co.uk/nicolo-cocetta...   \n30301  https://www.transfermarkt.co.uk/axel-guessand/...   \n\n      current_club_domestic_competition_id       current_club_name  \n0                                       L1     Eintracht Frankfurt  \n1                                      ES1  RCD Espanyol Barcelona  \n2                                       L1     Eintracht Frankfurt  \n3                                      GB1              Stoke City  \n4                                      GB1               Fulham FC  \n...                                    ...                     ...  \n30297                                  IT1          Udinese Calcio  \n30298                                  IT1          Udinese Calcio  \n30299                                  IT1          Udinese Calcio  \n30300                                  IT1          Udinese Calcio  \n30301                                  IT1          Udinese Calcio  \n\n[30302 rows x 23 columns]",
      "text/html": "<div>\n<style scoped>\n    .dataframe tbody tr th:only-of-type {\n        vertical-align: middle;\n    }\n\n    .dataframe tbody tr th {\n        vertical-align: top;\n    }\n\n    .dataframe thead th {\n        text-align: right;\n    }\n</style>\n<table border=\"1\" class=\"dataframe\">\n  <thead>\n    <tr style=\"text-align: right;\">\n      <th></th>\n      <th>player_id</th>\n      <th>first_name</th>\n      <th>last_name</th>\n      <th>name</th>\n      <th>last_season</th>\n      <th>current_club_id</th>\n      <th>player_code</th>\n      <th>country_of_birth</th>\n      <th>city_of_birth</th>\n      <th>country_of_citizenship</th>\n      <th>...</th>\n      <th>foot</th>\n      <th>height_in_cm</th>\n      <th>market_value_in_eur</th>\n      <th>highest_market_value_in_eur</th>\n      <th>contract_expiration_date</th>\n      <th>agent_name</th>\n      <th>image_url</th>\n      <th>url</th>\n      <th>current_club_domestic_competition_id</th>\n      <th>current_club_name</th>\n    </tr>\n  </thead>\n  <tbody>\n    <tr>\n      <th>0</th>\n      <td>598</td>\n      <td>Timo</td>\n      <td>Hildebrand</td>\n      <td>Timo Hildebrand</td>\n      <td>2014</td>\n      <td>24</td>\n      <td>timo-hildebrand</td>\n      <td>Germany</td>\n      <td>Worms</td>\n      <td>Germany</td>\n      <td>...</td>\n      <td>NaN</td>\n      <td>NaN</td>\n      <td>NaN</td>\n      <td>10000000.0</td>\n      <td>NaN</td>\n      <td>NaN</td>\n      <td>https://img.a.transfermarkt.technology/portrai...</td>\n      <td>https://www.transfermarkt.co.uk/timo-hildebran...</td>\n      <td>L1</td>\n      <td>Eintracht Frankfurt</td>\n    </tr>\n    <tr>\n      <th>1</th>\n      <td>670</td>\n      <td>Martin</td>\n      <td>Petrov</td>\n      <td>Martin Petrov</td>\n      <td>2012</td>\n      <td>714</td>\n      <td>martin-petrov</td>\n      <td>Bulgaria</td>\n      <td>Vratsa</td>\n      <td>Bulgaria</td>\n      <td>...</td>\n      <td>NaN</td>\n      <td>NaN</td>\n      <td>NaN</td>\n      <td>12000000.0</td>\n      <td>NaN</td>\n      <td>IFM</td>\n      <td>https://img.a.transfermarkt.technology/portrai...</td>\n      <td>https://www.transfermarkt.co.uk/martin-petrov/...</td>\n      <td>ES1</td>\n      <td>RCD Espanyol Barcelona</td>\n    </tr>\n    <tr>\n      <th>2</th>\n      <td>1323</td>\n      <td>Martin</td>\n      <td>Amedick</td>\n      <td>Martin Amedick</td>\n      <td>2012</td>\n      <td>24</td>\n      <td>martin-amedick</td>\n      <td>Germany</td>\n      <td>Paderborn</td>\n      <td>Germany</td>\n      <td>...</td>\n      <td>NaN</td>\n      <td>NaN</td>\n      <td>NaN</td>\n      <td>2750000.0</td>\n      <td>NaN</td>\n      <td>NaN</td>\n      <td>https://img.a.transfermarkt.technology/portrai...</td>\n      <td>https://www.transfermarkt.co.uk/martin-amedick...</td>\n      <td>L1</td>\n      <td>Eintracht Frankfurt</td>\n    </tr>\n    <tr>\n      <th>3</th>\n      <td>3195</td>\n      <td>Jermaine</td>\n      <td>Pennant</td>\n      <td>Jermaine Pennant</td>\n      <td>2013</td>\n      <td>512</td>\n      <td>jermaine-pennant</td>\n      <td>England</td>\n      <td>Nottingham</td>\n      <td>England</td>\n      <td>...</td>\n      <td>right</td>\n      <td>173.0</td>\n      <td>NaN</td>\n      <td>10500000.0</td>\n      <td>NaN</td>\n      <td>Andrew Sky</td>\n      <td>https://img.a.transfermarkt.technology/portrai...</td>\n      <td>https://www.transfermarkt.co.uk/jermaine-penna...</td>\n      <td>GB1</td>\n      <td>Stoke City</td>\n    </tr>\n    <tr>\n      <th>4</th>\n      <td>3259</td>\n      <td>Damien</td>\n      <td>Duff</td>\n      <td>Damien Duff</td>\n      <td>2013</td>\n      <td>931</td>\n      <td>damien-duff</td>\n      <td>Ireland</td>\n      <td>Ballyboden</td>\n      <td>Ireland</td>\n      <td>...</td>\n      <td>left</td>\n      <td>177.0</td>\n      <td>NaN</td>\n      <td>17000000.0</td>\n      <td>NaN</td>\n      <td>NaN</td>\n      <td>https://img.a.transfermarkt.technology/portrai...</td>\n      <td>https://www.transfermarkt.co.uk/damien-duff/pr...</td>\n      <td>GB1</td>\n      <td>Fulham FC</td>\n    </tr>\n    <tr>\n      <th>...</th>\n      <td>...</td>\n      <td>...</td>\n      <td>...</td>\n      <td>...</td>\n      <td>...</td>\n      <td>...</td>\n      <td>...</td>\n      <td>...</td>\n      <td>...</td>\n      <td>...</td>\n      <td>...</td>\n      <td>...</td>\n      <td>...</td>\n      <td>...</td>\n      <td>...</td>\n      <td>...</td>\n      <td>...</td>\n      <td>...</td>\n      <td>...</td>\n      <td>...</td>\n      <td>...</td>\n    </tr>\n    <tr>\n      <th>30297</th>\n      <td>371851</td>\n      <td>Jaka</td>\n      <td>Bijol</td>\n      <td>Jaka Bijol</td>\n      <td>2023</td>\n      <td>410</td>\n      <td>jaka-bijol</td>\n      <td>Slovenia</td>\n      <td>Vuzenica</td>\n      <td>Slovenia</td>\n      <td>...</td>\n      <td>right</td>\n      <td>190.0</td>\n      <td>10000000.0</td>\n      <td>10000000.0</td>\n      <td>2027-06-30 00:00:00</td>\n      <td>MSC GROUP</td>\n      <td>https://img.a.transfermarkt.technology/portrai...</td>\n      <td>https://www.transfermarkt.co.uk/jaka-bijol/pro...</td>\n      <td>IT1</td>\n      <td>Udinese Calcio</td>\n    </tr>\n    <tr>\n      <th>30298</th>\n      <td>537171</td>\n      <td>Semuel</td>\n      <td>Pizzignacco</td>\n      <td>Semuel Pizzignacco</td>\n      <td>2018</td>\n      <td>410</td>\n      <td>semuel-pizzignacco</td>\n      <td>Italy</td>\n      <td>Monfalcone</td>\n      <td>Italy</td>\n      <td>...</td>\n      <td>right</td>\n      <td>188.0</td>\n      <td>325000.0</td>\n      <td>350000.0</td>\n      <td>2025-06-30 00:00:00</td>\n      <td>NaN</td>\n      <td>https://img.a.transfermarkt.technology/portrai...</td>\n      <td>https://www.transfermarkt.co.uk/semuel-pizzign...</td>\n      <td>IT1</td>\n      <td>Udinese Calcio</td>\n    </tr>\n    <tr>\n      <th>30299</th>\n      <td>586756</td>\n      <td>Festy</td>\n      <td>Ebosele</td>\n      <td>Festy Ebosele</td>\n      <td>2023</td>\n      <td>410</td>\n      <td>festy-ebosele</td>\n      <td>Ireland</td>\n      <td>Enniscorthy, Wexford</td>\n      <td>Ireland</td>\n      <td>...</td>\n      <td>right</td>\n      <td>180.0</td>\n      <td>4500000.0</td>\n      <td>4500000.0</td>\n      <td>2027-06-30 00:00:00</td>\n      <td>The Kulture Group</td>\n      <td>https://img.a.transfermarkt.technology/portrai...</td>\n      <td>https://www.transfermarkt.co.uk/festy-ebosele/...</td>\n      <td>IT1</td>\n      <td>Udinese Calcio</td>\n    </tr>\n    <tr>\n      <th>30300</th>\n      <td>704692</td>\n      <td>Nicolò</td>\n      <td>Cocetta</td>\n      <td>Nicolò Cocetta</td>\n      <td>2022</td>\n      <td>410</td>\n      <td>nicolo-cocetta</td>\n      <td>Italy</td>\n      <td>San Daniele del Friuli</td>\n      <td>Italy</td>\n      <td>...</td>\n      <td>NaN</td>\n      <td>NaN</td>\n      <td>75000.0</td>\n      <td>75000.0</td>\n      <td>2023-06-30 00:00:00</td>\n      <td>NaN</td>\n      <td>https://img.a.transfermarkt.technology/portrai...</td>\n      <td>https://www.transfermarkt.co.uk/nicolo-cocetta...</td>\n      <td>IT1</td>\n      <td>Udinese Calcio</td>\n    </tr>\n    <tr>\n      <th>30301</th>\n      <td>925584</td>\n      <td>Axel</td>\n      <td>Guessand</td>\n      <td>Axel Guessand</td>\n      <td>2023</td>\n      <td>410</td>\n      <td>axel-guessand</td>\n      <td>France</td>\n      <td>Schiltigheim</td>\n      <td>France</td>\n      <td>...</td>\n      <td>left</td>\n      <td>184.0</td>\n      <td>250000.0</td>\n      <td>300000.0</td>\n      <td>2027-06-30 00:00:00</td>\n      <td>CAA Stellar</td>\n      <td>https://img.a.transfermarkt.technology/portrai...</td>\n      <td>https://www.transfermarkt.co.uk/axel-guessand/...</td>\n      <td>IT1</td>\n      <td>Udinese Calcio</td>\n    </tr>\n  </tbody>\n</table>\n<p>30302 rows × 23 columns</p>\n</div>"
     },
     "execution_count": 14,
     "metadata": {},
     "output_type": "execute_result"
    }
   ],
   "source": [
    "players_df"
   ],
   "metadata": {
    "collapsed": false,
    "ExecuteTime": {
     "end_time": "2024-01-03T00:03:19.441742700Z",
     "start_time": "2024-01-03T00:03:19.219348900Z"
    }
   },
   "id": "b76956f22897441"
  },
  {
   "cell_type": "markdown",
   "source": [
    "## 1.2 Redefine the types of dataframes"
   ],
   "metadata": {
    "collapsed": false
   },
   "id": "c002e417e77cd381"
  },
  {
   "cell_type": "markdown",
   "source": [
    "### - Appearances "
   ],
   "metadata": {
    "collapsed": false
   },
   "id": "5f08b5360c811ff0"
  },
  {
   "cell_type": "code",
   "execution_count": 15,
   "outputs": [
    {
     "data": {
      "text/plain": "appearance_id             object\ngame_id                    int64\nplayer_id                  int64\nplayer_club_id             int64\nplayer_current_club_id     int64\ndate                      object\nplayer_name               object\ncompetition_id            object\nyellow_cards               int64\nred_cards                  int64\ngoals                      int64\nassists                    int64\nminutes_played             int64\ndtype: object"
     },
     "execution_count": 15,
     "metadata": {},
     "output_type": "execute_result"
    }
   ],
   "source": [
    "appearances_df.dtypes"
   ],
   "metadata": {
    "collapsed": false,
    "ExecuteTime": {
     "end_time": "2024-01-03T00:03:19.471732900Z",
     "start_time": "2024-01-03T00:03:19.261383800Z"
    }
   },
   "id": "5ae8bef60d632e2c"
  },
  {
   "cell_type": "code",
   "execution_count": 16,
   "outputs": [],
   "source": [
    "appearances_df['date'] = pd.to_datetime(appearances_df['date'])\n",
    "appearances_df['player_name'] = appearances_df['player_name'].astype(str)\n",
    "appearances_df['competition_id'] = appearances_df['competition_id'].astype(str)"
   ],
   "metadata": {
    "collapsed": false,
    "ExecuteTime": {
     "end_time": "2024-01-03T00:03:19.698540900Z",
     "start_time": "2024-01-03T00:03:19.301950600Z"
    }
   },
   "id": "9aecb4c9163590d9"
  },
  {
   "cell_type": "code",
   "execution_count": 17,
   "outputs": [
    {
     "data": {
      "text/plain": "appearance_id                     object\ngame_id                            int64\nplayer_id                          int64\nplayer_club_id                     int64\nplayer_current_club_id             int64\ndate                      datetime64[ns]\nplayer_name                       object\ncompetition_id                    object\nyellow_cards                       int64\nred_cards                          int64\ngoals                              int64\nassists                            int64\nminutes_played                     int64\ndtype: object"
     },
     "execution_count": 17,
     "metadata": {},
     "output_type": "execute_result"
    }
   ],
   "source": [
    "appearances_df.dtypes"
   ],
   "metadata": {
    "collapsed": false,
    "ExecuteTime": {
     "end_time": "2024-01-03T00:03:19.728136500Z",
     "start_time": "2024-01-03T00:03:19.420352900Z"
    }
   },
   "id": "7bd8543376b80605"
  },
  {
   "cell_type": "markdown",
   "source": [
    "<span style=\"background-color: #d0d0d0; color: black; padding: 2px;\">N.B : The columns 'player_name' and 'competition_id' have actually been converted to     strings. However, Pandas still shows the data type of the column as object, because      this is how Pandas internally represents strings.\n",
    "Then we will proceed without further converting the objects into strings.\n",
    "</span>"
   ],
   "metadata": {
    "collapsed": false
   },
   "id": "f778c051f6a816c4"
  },
  {
   "cell_type": "markdown",
   "source": [
    "### - Club Games"
   ],
   "metadata": {
    "collapsed": false
   },
   "id": "3d4bcf9e05ce050c"
  },
  {
   "cell_type": "code",
   "execution_count": 18,
   "outputs": [
    {
     "data": {
      "text/plain": "game_id                    int64\nclub_id                    int64\nown_goals                  int64\nown_position             float64\nown_manager_name          object\nopponent_id                int64\nopponent_goals             int64\nopponent_position        float64\nopponent_manager_name     object\nhosting                   object\nis_win                     int64\ndtype: object"
     },
     "execution_count": 18,
     "metadata": {},
     "output_type": "execute_result"
    }
   ],
   "source": [
    "club_games_df.dtypes"
   ],
   "metadata": {
    "collapsed": false,
    "ExecuteTime": {
     "end_time": "2024-01-03T00:03:19.739136800Z",
     "start_time": "2024-01-03T00:03:19.435733400Z"
    }
   },
   "id": "e332cfd5488855f4"
  },
  {
   "cell_type": "markdown",
   "source": [
    "<span style=\"background-color: #d0d0d0; color: black; padding: 2px;\">It's not necessary to modify the types.\n",
    "</span>"
   ],
   "metadata": {
    "collapsed": false
   },
   "id": "aa4ea4f526c9238f"
  },
  {
   "cell_type": "markdown",
   "source": [
    "### - Clubs"
   ],
   "metadata": {
    "collapsed": false
   },
   "id": "a2044c5cd2d7c055"
  },
  {
   "cell_type": "code",
   "execution_count": 19,
   "outputs": [
    {
     "data": {
      "text/plain": "club_id                      int64\nclub_code                   object\nname                        object\ndomestic_competition_id     object\ntotal_market_value         float64\nsquad_size                   int64\naverage_age                float64\nforeigners_number            int64\nforeigners_percentage      float64\nnational_team_players        int64\nstadium_name                object\nstadium_seats                int64\nnet_transfer_record         object\ncoach_name                 float64\nlast_season                  int64\nurl                         object\ndtype: object"
     },
     "execution_count": 19,
     "metadata": {},
     "output_type": "execute_result"
    }
   ],
   "source": [
    "clubs_df.dtypes"
   ],
   "metadata": {
    "collapsed": false,
    "ExecuteTime": {
     "end_time": "2024-01-03T00:03:19.740136800Z",
     "start_time": "2024-01-03T00:03:19.452736700Z"
    }
   },
   "id": "638f5ca4a95c5e79"
  },
  {
   "cell_type": "markdown",
   "source": [
    "<span style=\"background-color: #d0d0d0; color: black; padding: 2px;\">It's not necessary to modify the types.\n",
    "</span>\n"
   ],
   "metadata": {
    "collapsed": false
   },
   "id": "733a3417c8830d4f"
  },
  {
   "cell_type": "markdown",
   "source": [
    "### - Competitions "
   ],
   "metadata": {
    "collapsed": false
   },
   "id": "1e5b59cc242d659c"
  },
  {
   "cell_type": "code",
   "execution_count": 20,
   "outputs": [
    {
     "data": {
      "text/plain": "competition_id          object\ncompetition_code        object\nname                    object\nsub_type                object\ntype                    object\ncountry_id               int64\ncountry_name            object\ndomestic_league_code    object\nconfederation           object\nurl                     object\ndtype: object"
     },
     "execution_count": 20,
     "metadata": {},
     "output_type": "execute_result"
    }
   ],
   "source": [
    "competitions_df.dtypes"
   ],
   "metadata": {
    "collapsed": false,
    "ExecuteTime": {
     "end_time": "2024-01-03T00:03:19.743135500Z",
     "start_time": "2024-01-03T00:03:19.468735300Z"
    }
   },
   "id": "d24ddc8b0aa9ab55"
  },
  {
   "cell_type": "markdown",
   "source": [
    "<span style=\"background-color: #d0d0d0; color: black; padding: 2px;\">It's not necessary to modify the types.\n",
    "</span>"
   ],
   "metadata": {
    "collapsed": false
   },
   "id": "de0d7cbedf95e1a5"
  },
  {
   "cell_type": "markdown",
   "source": [
    "### - Game events"
   ],
   "metadata": {
    "collapsed": false
   },
   "id": "47837c6b7f94d3f3"
  },
  {
   "cell_type": "code",
   "execution_count": 21,
   "outputs": [
    {
     "data": {
      "text/plain": "game_event_id        object\ndate                 object\ngame_id               int64\nminute                int64\ntype                 object\nclub_id               int64\nplayer_id             int64\ndescription          object\nplayer_in_id        float64\nplayer_assist_id    float64\ndtype: object"
     },
     "execution_count": 21,
     "metadata": {},
     "output_type": "execute_result"
    }
   ],
   "source": [
    "game_events_df.dtypes"
   ],
   "metadata": {
    "collapsed": false,
    "ExecuteTime": {
     "end_time": "2024-01-03T00:03:19.811633900Z",
     "start_time": "2024-01-03T00:03:19.482071300Z"
    }
   },
   "id": "1b776ea5bde9ddc0"
  },
  {
   "cell_type": "code",
   "execution_count": 22,
   "outputs": [],
   "source": [
    "game_events_df['date'] = pd.to_datetime(game_events_df['date'])"
   ],
   "metadata": {
    "collapsed": false,
    "ExecuteTime": {
     "end_time": "2024-01-03T00:03:19.916337800Z",
     "start_time": "2024-01-03T00:03:19.510082400Z"
    }
   },
   "id": "2199a6631d4270a2"
  },
  {
   "cell_type": "code",
   "execution_count": 23,
   "outputs": [
    {
     "data": {
      "text/plain": "game_event_id               object\ndate                datetime64[ns]\ngame_id                      int64\nminute                       int64\ntype                        object\nclub_id                      int64\nplayer_id                    int64\ndescription                 object\nplayer_in_id               float64\nplayer_assist_id           float64\ndtype: object"
     },
     "execution_count": 23,
     "metadata": {},
     "output_type": "execute_result"
    }
   ],
   "source": [
    "game_events_df.dtypes"
   ],
   "metadata": {
    "collapsed": false,
    "ExecuteTime": {
     "end_time": "2024-01-03T00:03:19.936846400Z",
     "start_time": "2024-01-03T00:03:19.545390700Z"
    }
   },
   "id": "3e4a2398f7c30e8"
  },
  {
   "cell_type": "markdown",
   "source": [
    "<span style=\"background-color: #d0d0d0; color: black; padding: 2px;\">Converted date[object] to date[datetime]\n",
    "</span>"
   ],
   "metadata": {
    "collapsed": false
   },
   "id": "9fbcdb9ff700a26b"
  },
  {
   "cell_type": "markdown",
   "source": [
    "### - Game Lineups"
   ],
   "metadata": {
    "collapsed": false
   },
   "id": "2233e3e93cc8168d"
  },
  {
   "cell_type": "code",
   "execution_count": 24,
   "outputs": [
    {
     "data": {
      "text/plain": "game_lineups_id    object\ngame_id             int64\nclub_id             int64\ntype               object\nnumber             object\nplayer_id           int64\nplayer_name        object\nteam_captain        int64\nposition           object\ndtype: object"
     },
     "execution_count": 24,
     "metadata": {},
     "output_type": "execute_result"
    }
   ],
   "source": [
    "game_lineups_df.dtypes"
   ],
   "metadata": {
    "collapsed": false,
    "ExecuteTime": {
     "end_time": "2024-01-03T00:03:19.938846300Z",
     "start_time": "2024-01-03T00:03:19.562387400Z"
    }
   },
   "id": "166df2492664cb13"
  },
  {
   "cell_type": "markdown",
   "source": [
    "<span style=\"background-color: #d0d0d0; color: black; padding: 2px;\">It's not necessary to modify the types.\n",
    "</span>"
   ],
   "metadata": {
    "collapsed": false
   },
   "id": "bb23db4cadda60f"
  },
  {
   "cell_type": "markdown",
   "source": [
    "### - Games"
   ],
   "metadata": {
    "collapsed": false
   },
   "id": "a673722a31b98e84"
  },
  {
   "cell_type": "code",
   "execution_count": 25,
   "outputs": [
    {
     "data": {
      "text/plain": "game_id                     int64\ncompetition_id             object\nseason                      int64\nround                      object\ndate                       object\nhome_club_id                int64\naway_club_id                int64\nhome_club_goals             int64\naway_club_goals             int64\nhome_club_position        float64\naway_club_position        float64\nhome_club_manager_name     object\naway_club_manager_name     object\nstadium                    object\nattendance                float64\nreferee                    object\nurl                        object\nhome_club_formation        object\naway_club_formation        object\nhome_club_name             object\naway_club_name             object\naggregate                  object\ncompetition_type           object\ndtype: object"
     },
     "execution_count": 25,
     "metadata": {},
     "output_type": "execute_result"
    }
   ],
   "source": [
    "games_df.dtypes"
   ],
   "metadata": {
    "collapsed": false,
    "ExecuteTime": {
     "end_time": "2024-01-03T00:03:19.938846300Z",
     "start_time": "2024-01-03T00:03:19.578392800Z"
    }
   },
   "id": "bbc6ff3ec4e28224"
  },
  {
   "cell_type": "code",
   "execution_count": 26,
   "outputs": [],
   "source": [
    "games_df['date'] = pd.to_datetime(games_df['date'])"
   ],
   "metadata": {
    "collapsed": false,
    "ExecuteTime": {
     "end_time": "2024-01-03T00:03:19.938846300Z",
     "start_time": "2024-01-03T00:03:19.593387600Z"
    }
   },
   "id": "1ed983fa4061920a"
  },
  {
   "cell_type": "code",
   "execution_count": 27,
   "outputs": [
    {
     "data": {
      "text/plain": "game_id                            int64\ncompetition_id                    object\nseason                             int64\nround                             object\ndate                      datetime64[ns]\nhome_club_id                       int64\naway_club_id                       int64\nhome_club_goals                    int64\naway_club_goals                    int64\nhome_club_position               float64\naway_club_position               float64\nhome_club_manager_name            object\naway_club_manager_name            object\nstadium                           object\nattendance                       float64\nreferee                           object\nurl                               object\nhome_club_formation               object\naway_club_formation               object\nhome_club_name                    object\naway_club_name                    object\naggregate                         object\ncompetition_type                  object\ndtype: object"
     },
     "execution_count": 27,
     "metadata": {},
     "output_type": "execute_result"
    }
   ],
   "source": [
    "games_df.dtypes"
   ],
   "metadata": {
    "collapsed": false,
    "ExecuteTime": {
     "end_time": "2024-01-03T00:03:19.938846300Z",
     "start_time": "2024-01-03T00:03:19.611405700Z"
    }
   },
   "id": "823851e4bc75388a"
  },
  {
   "cell_type": "markdown",
   "source": [
    "<span style=\"background-color: #d0d0d0; color: black; padding: 2px;\">The columns 'home_club_position', 'home_club_position', and 'attendance' could also be converted to integers, but since they contain many NaN values, replacing them with 0 would alter future evaluations. We prefer to leave the fields as they are.\n",
    "</span>"
   ],
   "metadata": {
    "collapsed": false
   },
   "id": "61d84eb804749dd4"
  },
  {
   "cell_type": "markdown",
   "source": [
    "### - Player Valuations"
   ],
   "metadata": {
    "collapsed": false
   },
   "id": "6961fb070b551fa8"
  },
  {
   "cell_type": "code",
   "execution_count": 28,
   "outputs": [
    {
     "data": {
      "text/plain": "player_id                               int64\nlast_season                             int64\ndatetime                               object\ndate                                   object\ndateweek                               object\nmarket_value_in_eur                     int64\nn                                       int64\ncurrent_club_id                         int64\nplayer_club_domestic_competition_id    object\ndtype: object"
     },
     "execution_count": 28,
     "metadata": {},
     "output_type": "execute_result"
    }
   ],
   "source": [
    "player_valuations_df.dtypes"
   ],
   "metadata": {
    "collapsed": false,
    "ExecuteTime": {
     "end_time": "2024-01-03T00:03:19.939847700Z",
     "start_time": "2024-01-03T00:03:19.627727300Z"
    }
   },
   "id": "56727a2cb4fb9280"
  },
  {
   "cell_type": "code",
   "execution_count": 29,
   "outputs": [],
   "source": [
    "player_valuations_df['date'] = pd.to_datetime(player_valuations_df['date'])\n",
    "player_valuations_df['dateweek'] = pd.to_datetime(player_valuations_df['dateweek'])"
   ],
   "metadata": {
    "collapsed": false,
    "ExecuteTime": {
     "end_time": "2024-01-03T00:03:19.962840700Z",
     "start_time": "2024-01-03T00:03:19.649511100Z"
    }
   },
   "id": "7dad98b124bd82e8"
  },
  {
   "cell_type": "code",
   "execution_count": 30,
   "outputs": [
    {
     "data": {
      "text/plain": "player_id                                       int64\nlast_season                                     int64\ndatetime                                       object\ndate                                   datetime64[ns]\ndateweek                               datetime64[ns]\nmarket_value_in_eur                             int64\nn                                               int64\ncurrent_club_id                                 int64\nplayer_club_domestic_competition_id            object\ndtype: object"
     },
     "execution_count": 30,
     "metadata": {},
     "output_type": "execute_result"
    }
   ],
   "source": [
    "player_valuations_df.dtypes"
   ],
   "metadata": {
    "collapsed": false,
    "ExecuteTime": {
     "end_time": "2024-01-03T00:03:19.963841Z",
     "start_time": "2024-01-03T00:03:19.704515500Z"
    }
   },
   "id": "289126ebfee8475f"
  },
  {
   "cell_type": "markdown",
   "source": [
    "<span style=\"background-color: #d0d0d0; color: black; padding: 2px;\">Converted date & dateweek in a date type.\n",
    "We have chosen not to consider 'datetime', as it is redundant with 'date' and does not add any additional information.\n",
    "</span>\n"
   ],
   "metadata": {
    "collapsed": false
   },
   "id": "204a4d603b4f18e6"
  },
  {
   "cell_type": "markdown",
   "source": [
    "### - Players"
   ],
   "metadata": {
    "collapsed": false
   },
   "id": "301a9873c116119c"
  },
  {
   "cell_type": "code",
   "execution_count": 31,
   "outputs": [
    {
     "data": {
      "text/plain": "player_id                                 int64\nfirst_name                               object\nlast_name                                object\nname                                     object\nlast_season                               int64\ncurrent_club_id                           int64\nplayer_code                              object\ncountry_of_birth                         object\ncity_of_birth                            object\ncountry_of_citizenship                   object\ndate_of_birth                            object\nsub_position                             object\nposition                                 object\nfoot                                     object\nheight_in_cm                            float64\nmarket_value_in_eur                     float64\nhighest_market_value_in_eur             float64\ncontract_expiration_date                 object\nagent_name                               object\nimage_url                                object\nurl                                      object\ncurrent_club_domestic_competition_id     object\ncurrent_club_name                        object\ndtype: object"
     },
     "execution_count": 31,
     "metadata": {},
     "output_type": "execute_result"
    }
   ],
   "source": [
    "players_df.dtypes"
   ],
   "metadata": {
    "collapsed": false,
    "ExecuteTime": {
     "end_time": "2024-01-03T00:03:20.143978500Z",
     "start_time": "2024-01-03T00:03:19.719625200Z"
    }
   },
   "id": "5159ab06d7f08c2c"
  },
  {
   "cell_type": "code",
   "execution_count": 32,
   "outputs": [],
   "source": [
    "players_df['date_of_birth'] = pd.to_datetime(players_df['date_of_birth'])"
   ],
   "metadata": {
    "collapsed": false,
    "ExecuteTime": {
     "end_time": "2024-01-03T00:03:20.239500200Z",
     "start_time": "2024-01-03T00:03:19.733137800Z"
    }
   },
   "id": "9b8681538b580517"
  },
  {
   "cell_type": "code",
   "execution_count": 33,
   "outputs": [
    {
     "data": {
      "text/plain": "player_id                                        int64\nfirst_name                                      object\nlast_name                                       object\nname                                            object\nlast_season                                      int64\ncurrent_club_id                                  int64\nplayer_code                                     object\ncountry_of_birth                                object\ncity_of_birth                                   object\ncountry_of_citizenship                          object\ndate_of_birth                           datetime64[ns]\nsub_position                                    object\nposition                                        object\nfoot                                            object\nheight_in_cm                                   float64\nmarket_value_in_eur                            float64\nhighest_market_value_in_eur                    float64\ncontract_expiration_date                        object\nagent_name                                      object\nimage_url                                       object\nurl                                             object\ncurrent_club_domestic_competition_id            object\ncurrent_club_name                               object\ndtype: object"
     },
     "execution_count": 33,
     "metadata": {},
     "output_type": "execute_result"
    }
   ],
   "source": [
    "players_df.dtypes"
   ],
   "metadata": {
    "collapsed": false,
    "ExecuteTime": {
     "end_time": "2024-01-03T00:03:20.263495400Z",
     "start_time": "2024-01-03T00:03:19.750136300Z"
    }
   },
   "id": "377eb26828d6b8bf"
  },
  {
   "cell_type": "markdown",
   "source": [
    "<span style=\"background-color: #d0d0d0; color: black; padding: 2px;\">Converted 'date_of_birth' in datetime type.\n",
    "</span>"
   ],
   "metadata": {
    "collapsed": false
   },
   "id": "68be33be252782b8"
  },
  {
   "cell_type": "markdown",
   "source": [
    "## 1.3 Filter column\n",
    "\n",
    "\n",
    "Columns that are considered not useful for an in-depth analysis or that contain unmanageable data, which can cause errors or confusion, will be removed."
   ],
   "metadata": {
    "collapsed": false
   },
   "id": "e7b147dd5767098"
  },
  {
   "cell_type": "markdown",
   "source": [
    "### - Appearance \n",
    "It's not necessary to filter any columns."
   ],
   "metadata": {
    "collapsed": false
   },
   "id": "f0930569156b9a5e"
  },
  {
   "cell_type": "markdown",
   "source": [
    "## - Club Games\n",
    "It's not necessary to filter any columns."
   ],
   "metadata": {
    "collapsed": false
   },
   "id": "558d6c023cc9aea8"
  },
  {
   "cell_type": "markdown",
   "source": [
    "## - Clubs"
   ],
   "metadata": {
    "collapsed": false
   },
   "id": "538cdec873fd81b5"
  },
  {
   "cell_type": "code",
   "execution_count": 34,
   "outputs": [],
   "source": [
    "clubs_df = clubs_df[[\n",
    "    'club_id',\n",
    "    #'club_code',\n",
    "    'name', 'domestic_competition_id',\n",
    "    'total_market_value', 'squad_size', 'average_age', 'foreigners_number',\n",
    "    'foreigners_percentage', 'national_team_players', 'stadium_name',\n",
    "    'stadium_seats', 'net_transfer_record',\n",
    "    #'coach_name', 'last_season','url'\n",
    "]]"
   ],
   "metadata": {
    "collapsed": false,
    "ExecuteTime": {
     "end_time": "2024-01-03T00:03:20.286498Z",
     "start_time": "2024-01-03T00:03:19.768040400Z"
    }
   },
   "id": "fb922aa81e0a26ec"
  },
  {
   "cell_type": "markdown",
   "source": [
    "<span style=\"background-color: #d0d0d0; color: black; padding: 2px;\">Removed columns : 'club_code', 'coach_name', 'last_season', 'url'\n",
    "</span>"
   ],
   "metadata": {
    "collapsed": false
   },
   "id": "3c9d29d9973572e7"
  },
  {
   "cell_type": "code",
   "execution_count": 35,
   "outputs": [
    {
     "data": {
      "text/plain": "     club_id                               name domestic_competition_id  \\\n0        105   Sportverein Darmstadt 1898 e. V.                      L1   \n1      11127              FK Ural Yekaterinburg                     RU1   \n2        114          Beşiktaş Jimnastik Kulübü                     TR1   \n3         12         Associazione Sportiva Roma                     IT1   \n4        148    Tottenham Hotspur Football Club                     GB1   \n..       ...                                ...                     ...   \n421    68608                   CF Os Belenenses                     PO1   \n422      724             Football Club Volendam                     NL1   \n423      800  Atalanta Bergamasca Calcio S.p.a.                     IT1   \n424      979           Moreirense Futebol Clube                     PO1   \n425      984               West Bromwich Albion                     GB1   \n\n     total_market_value  squad_size  average_age  foreigners_number  \\\n0                   NaN          30         26.4                 11   \n1                   NaN          25         28.2                 13   \n2                   NaN          32         27.4                 16   \n3                   NaN          26         27.4                 17   \n4                   NaN          29         26.2                 21   \n..                  ...         ...          ...                ...   \n421                 NaN          30         25.7                  5   \n422                 NaN          29         22.8                 14   \n423                 NaN          25         27.2                 17   \n424                 NaN          26         26.0                 17   \n425                 NaN          25         27.8                  8   \n\n     foreigners_percentage  national_team_players  \\\n0                     36.7                      1   \n1                     52.0                      5   \n2                     50.0                     13   \n3                     65.4                     17   \n4                     72.4                     22   \n..                     ...                    ...   \n421                   16.7                      0   \n422                   48.3                      3   \n423                   68.0                     15   \n424                   65.4                      2   \n425                   32.0                      4   \n\n                         stadium_name  stadium_seats net_transfer_record  \n0      Merck-Stadion am Böllenfalltor          17810             €-1.60m  \n1                 Yekaterinburg Arena          23000              €-770k  \n2                     Tüpraş Stadyumu          42590            €-14.50m  \n3                    Olimpico di Roma          73261            +€65.20m  \n4           Tottenham Hotspur Stadium          62062           €-130.40m  \n..                                ...            ...                 ...  \n421                Estádio do Restelo          19980                 +-0  \n422                      Kras Stadion           7384             +€1.80m  \n423                    Gewiss Stadium          21747            +€87.00m  \n424  Estádio C. J. de Almeida Freitas           6153             €-2.05m  \n425                     The Hawthorns          26850             €-1.35m  \n\n[426 rows x 12 columns]",
      "text/html": "<div>\n<style scoped>\n    .dataframe tbody tr th:only-of-type {\n        vertical-align: middle;\n    }\n\n    .dataframe tbody tr th {\n        vertical-align: top;\n    }\n\n    .dataframe thead th {\n        text-align: right;\n    }\n</style>\n<table border=\"1\" class=\"dataframe\">\n  <thead>\n    <tr style=\"text-align: right;\">\n      <th></th>\n      <th>club_id</th>\n      <th>name</th>\n      <th>domestic_competition_id</th>\n      <th>total_market_value</th>\n      <th>squad_size</th>\n      <th>average_age</th>\n      <th>foreigners_number</th>\n      <th>foreigners_percentage</th>\n      <th>national_team_players</th>\n      <th>stadium_name</th>\n      <th>stadium_seats</th>\n      <th>net_transfer_record</th>\n    </tr>\n  </thead>\n  <tbody>\n    <tr>\n      <th>0</th>\n      <td>105</td>\n      <td>Sportverein Darmstadt 1898 e. V.</td>\n      <td>L1</td>\n      <td>NaN</td>\n      <td>30</td>\n      <td>26.4</td>\n      <td>11</td>\n      <td>36.7</td>\n      <td>1</td>\n      <td>Merck-Stadion am Böllenfalltor</td>\n      <td>17810</td>\n      <td>€-1.60m</td>\n    </tr>\n    <tr>\n      <th>1</th>\n      <td>11127</td>\n      <td>FK Ural Yekaterinburg</td>\n      <td>RU1</td>\n      <td>NaN</td>\n      <td>25</td>\n      <td>28.2</td>\n      <td>13</td>\n      <td>52.0</td>\n      <td>5</td>\n      <td>Yekaterinburg Arena</td>\n      <td>23000</td>\n      <td>€-770k</td>\n    </tr>\n    <tr>\n      <th>2</th>\n      <td>114</td>\n      <td>Beşiktaş Jimnastik Kulübü</td>\n      <td>TR1</td>\n      <td>NaN</td>\n      <td>32</td>\n      <td>27.4</td>\n      <td>16</td>\n      <td>50.0</td>\n      <td>13</td>\n      <td>Tüpraş Stadyumu</td>\n      <td>42590</td>\n      <td>€-14.50m</td>\n    </tr>\n    <tr>\n      <th>3</th>\n      <td>12</td>\n      <td>Associazione Sportiva Roma</td>\n      <td>IT1</td>\n      <td>NaN</td>\n      <td>26</td>\n      <td>27.4</td>\n      <td>17</td>\n      <td>65.4</td>\n      <td>17</td>\n      <td>Olimpico di Roma</td>\n      <td>73261</td>\n      <td>+€65.20m</td>\n    </tr>\n    <tr>\n      <th>4</th>\n      <td>148</td>\n      <td>Tottenham Hotspur Football Club</td>\n      <td>GB1</td>\n      <td>NaN</td>\n      <td>29</td>\n      <td>26.2</td>\n      <td>21</td>\n      <td>72.4</td>\n      <td>22</td>\n      <td>Tottenham Hotspur Stadium</td>\n      <td>62062</td>\n      <td>€-130.40m</td>\n    </tr>\n    <tr>\n      <th>...</th>\n      <td>...</td>\n      <td>...</td>\n      <td>...</td>\n      <td>...</td>\n      <td>...</td>\n      <td>...</td>\n      <td>...</td>\n      <td>...</td>\n      <td>...</td>\n      <td>...</td>\n      <td>...</td>\n      <td>...</td>\n    </tr>\n    <tr>\n      <th>421</th>\n      <td>68608</td>\n      <td>CF Os Belenenses</td>\n      <td>PO1</td>\n      <td>NaN</td>\n      <td>30</td>\n      <td>25.7</td>\n      <td>5</td>\n      <td>16.7</td>\n      <td>0</td>\n      <td>Estádio do Restelo</td>\n      <td>19980</td>\n      <td>+-0</td>\n    </tr>\n    <tr>\n      <th>422</th>\n      <td>724</td>\n      <td>Football Club Volendam</td>\n      <td>NL1</td>\n      <td>NaN</td>\n      <td>29</td>\n      <td>22.8</td>\n      <td>14</td>\n      <td>48.3</td>\n      <td>3</td>\n      <td>Kras Stadion</td>\n      <td>7384</td>\n      <td>+€1.80m</td>\n    </tr>\n    <tr>\n      <th>423</th>\n      <td>800</td>\n      <td>Atalanta Bergamasca Calcio S.p.a.</td>\n      <td>IT1</td>\n      <td>NaN</td>\n      <td>25</td>\n      <td>27.2</td>\n      <td>17</td>\n      <td>68.0</td>\n      <td>15</td>\n      <td>Gewiss Stadium</td>\n      <td>21747</td>\n      <td>+€87.00m</td>\n    </tr>\n    <tr>\n      <th>424</th>\n      <td>979</td>\n      <td>Moreirense Futebol Clube</td>\n      <td>PO1</td>\n      <td>NaN</td>\n      <td>26</td>\n      <td>26.0</td>\n      <td>17</td>\n      <td>65.4</td>\n      <td>2</td>\n      <td>Estádio C. J. de Almeida Freitas</td>\n      <td>6153</td>\n      <td>€-2.05m</td>\n    </tr>\n    <tr>\n      <th>425</th>\n      <td>984</td>\n      <td>West Bromwich Albion</td>\n      <td>GB1</td>\n      <td>NaN</td>\n      <td>25</td>\n      <td>27.8</td>\n      <td>8</td>\n      <td>32.0</td>\n      <td>4</td>\n      <td>The Hawthorns</td>\n      <td>26850</td>\n      <td>€-1.35m</td>\n    </tr>\n  </tbody>\n</table>\n<p>426 rows × 12 columns</p>\n</div>"
     },
     "execution_count": 35,
     "metadata": {},
     "output_type": "execute_result"
    }
   ],
   "source": [
    "clubs_df"
   ],
   "metadata": {
    "collapsed": false,
    "ExecuteTime": {
     "end_time": "2024-01-03T00:03:20.291527300Z",
     "start_time": "2024-01-03T00:03:19.788039900Z"
    }
   },
   "id": "afdd62c0daa4b2b7"
  },
  {
   "cell_type": "markdown",
   "source": [
    "## - Competitions"
   ],
   "metadata": {
    "collapsed": false
   },
   "id": "7ce3cdd756529c6d"
  },
  {
   "cell_type": "code",
   "execution_count": 36,
   "outputs": [],
   "source": [
    "competitions_df = competitions_df[[\n",
    "    'competition_id',  # 'competition_code',\n",
    "    'name', 'sub_type', 'type',\n",
    "    'country_id', 'country_name', 'domestic_league_code', 'confederation',\n",
    "    #'url'\n",
    "]]"
   ],
   "metadata": {
    "collapsed": false,
    "ExecuteTime": {
     "end_time": "2024-01-03T00:03:20.310569500Z",
     "start_time": "2024-01-03T00:03:19.798608600Z"
    }
   },
   "id": "2fd5532ae91122cd"
  },
  {
   "cell_type": "markdown",
   "source": [
    "<span style=\"background-color: #d0d0d0; color: black; padding: 2px;\">Removed columns : 'competition_code', 'url'\n",
    "</span>"
   ],
   "metadata": {
    "collapsed": false
   },
   "id": "c5a435908b72b11c"
  },
  {
   "cell_type": "code",
   "execution_count": 37,
   "outputs": [
    {
     "data": {
      "text/plain": "   competition_id                                         name  \\\n0             CIT                                    italy-cup   \n1            NLSC                         johan-cruijff-schaal   \n2             GRP                              kypello-elladas   \n3            POSU                supertaca-candido-de-oliveira   \n4            RUSS                            russian-super-cup   \n5             SUC                                    supercopa   \n6             USC                               uefa-super-cup   \n7             DK1                                  superligaen   \n8              EL                                europa-league   \n9             ES1                                       laliga   \n10            FR1                                      ligue-1   \n11            IT1                                      serie-a   \n12            NL1                                   eredivisie   \n13            RUP                                  russian-cup   \n14            PO1                           liga-portugal-bwin   \n15           BESC                             belgian-supercup   \n16            GB1                               premier-league   \n17            ELQ                  europa-league-qualifikation   \n18            CGB                                      efl-cup   \n19            DKP                              sydbank-pokalen   \n20           ECLQ  uefa-europa-conference-league-qualifikation   \n21            FAC                                       fa-cup   \n22            NLP                              toto-knvb-beker   \n23           UKRS                          ukrainian-super-cup   \n24           UKR1                                 premier-liga   \n25            CDR                                 copa-del-rey   \n26             CL                        uefa-champions-league   \n27            GR1                               super-league-1   \n28            TR1                                    super-lig   \n29           POCP                                  allianz-cup   \n30           GBCS                             community-shield   \n31           KLUB                                 fifa-klub-wm   \n32             L1                                   bundesliga   \n33            RU1                                 premier-liga   \n34            SC1                         scottish-premiership   \n35            SCI                          supercoppa-italiana   \n36            BE1                           jupiler-pro-league   \n37            CLQ          uefa-champions-league-qualifikation   \n38            DFL                                 dfl-supercup   \n39            SFA                                      sfa-cup   \n40           UKRP                                ukrainian-cup   \n41            DFB                                    dfb-pokal   \n42           FRCH                        trophee-des-champions   \n\n                                    sub_type               type  country_id  \\\n0                               domestic_cup       domestic_cup          75   \n1                         domestic_super_cup              other         122   \n2                               domestic_cup       domestic_cup          56   \n3                         domestic_super_cup              other         136   \n4                         domestic_super_cup              other         141   \n5                         domestic_super_cup              other         157   \n6                             uefa_super_cup              other          -1   \n7                                 first_tier    domestic_league          39   \n8                              europa_league  international_cup          -1   \n9                                 first_tier    domestic_league         157   \n10                                first_tier    domestic_league          50   \n11                                first_tier    domestic_league          75   \n12                                first_tier    domestic_league         122   \n13                              domestic_cup       domestic_cup         141   \n14                                first_tier    domestic_league         136   \n15                        domestic_super_cup              other          19   \n16                                first_tier    domestic_league         189   \n17                  europa_league_qualifying  international_cup          -1   \n18                                league_cup              other         189   \n19                              domestic_cup       domestic_cup          39   \n20  uefa_europa_conference_league_qualifiers  international_cup          -1   \n21                              domestic_cup       domestic_cup         189   \n22                              domestic_cup       domestic_cup         122   \n23                        domestic_super_cup              other         177   \n24                                first_tier    domestic_league         177   \n25                              domestic_cup       domestic_cup         157   \n26                     uefa_champions_league  international_cup          -1   \n27                                first_tier    domestic_league          56   \n28                                first_tier    domestic_league         174   \n29                              domestic_cup       domestic_cup         136   \n30                        domestic_super_cup              other         189   \n31                       fifa_club_world_cup              other          -1   \n32                                first_tier    domestic_league          40   \n33                                first_tier    domestic_league         141   \n34                                first_tier    domestic_league         190   \n35                        domestic_super_cup              other          75   \n36                                first_tier    domestic_league          19   \n37          uefa_champions_league_qualifying  international_cup          -1   \n38                        domestic_super_cup              other          40   \n39                              domestic_cup       domestic_cup         190   \n40                              domestic_cup       domestic_cup         177   \n41                              domestic_cup       domestic_cup          40   \n42                        domestic_super_cup              other          50   \n\n   country_name domestic_league_code confederation  \n0         Italy                  IT1        europa  \n1   Netherlands                  NL1        europa  \n2        Greece                  GR1        europa  \n3      Portugal                  PO1        europa  \n4        Russia                  RU1        europa  \n5         Spain                  ES1        europa  \n6           NaN                  NaN        europa  \n7       Denmark                  DK1        europa  \n8           NaN                  NaN        europa  \n9         Spain                  ES1        europa  \n10       France                  FR1        europa  \n11        Italy                  IT1        europa  \n12  Netherlands                  NL1        europa  \n13       Russia                  RU1        europa  \n14     Portugal                  PO1        europa  \n15      Belgium                  BE1        europa  \n16      England                  GB1        europa  \n17          NaN                  NaN        europa  \n18      England                  GB1        europa  \n19      Denmark                  DK1        europa  \n20          NaN                  NaN        europa  \n21      England                  GB1        europa  \n22  Netherlands                  NL1        europa  \n23      Ukraine                 UKR1        europa  \n24      Ukraine                 UKR1        europa  \n25        Spain                  ES1        europa  \n26          NaN                  NaN        europa  \n27       Greece                  GR1        europa  \n28       Turkey                  TR1        europa  \n29     Portugal                  PO1        europa  \n30      England                  GB1        europa  \n31          NaN                  NaN        europa  \n32      Germany                   L1        europa  \n33       Russia                  RU1        europa  \n34     Scotland                  SC1        europa  \n35        Italy                  IT1        europa  \n36      Belgium                  BE1        europa  \n37          NaN                  NaN        europa  \n38      Germany                   L1        europa  \n39     Scotland                  SC1        europa  \n40      Ukraine                 UKR1        europa  \n41      Germany                   L1        europa  \n42       France                  FR1        europa  ",
      "text/html": "<div>\n<style scoped>\n    .dataframe tbody tr th:only-of-type {\n        vertical-align: middle;\n    }\n\n    .dataframe tbody tr th {\n        vertical-align: top;\n    }\n\n    .dataframe thead th {\n        text-align: right;\n    }\n</style>\n<table border=\"1\" class=\"dataframe\">\n  <thead>\n    <tr style=\"text-align: right;\">\n      <th></th>\n      <th>competition_id</th>\n      <th>name</th>\n      <th>sub_type</th>\n      <th>type</th>\n      <th>country_id</th>\n      <th>country_name</th>\n      <th>domestic_league_code</th>\n      <th>confederation</th>\n    </tr>\n  </thead>\n  <tbody>\n    <tr>\n      <th>0</th>\n      <td>CIT</td>\n      <td>italy-cup</td>\n      <td>domestic_cup</td>\n      <td>domestic_cup</td>\n      <td>75</td>\n      <td>Italy</td>\n      <td>IT1</td>\n      <td>europa</td>\n    </tr>\n    <tr>\n      <th>1</th>\n      <td>NLSC</td>\n      <td>johan-cruijff-schaal</td>\n      <td>domestic_super_cup</td>\n      <td>other</td>\n      <td>122</td>\n      <td>Netherlands</td>\n      <td>NL1</td>\n      <td>europa</td>\n    </tr>\n    <tr>\n      <th>2</th>\n      <td>GRP</td>\n      <td>kypello-elladas</td>\n      <td>domestic_cup</td>\n      <td>domestic_cup</td>\n      <td>56</td>\n      <td>Greece</td>\n      <td>GR1</td>\n      <td>europa</td>\n    </tr>\n    <tr>\n      <th>3</th>\n      <td>POSU</td>\n      <td>supertaca-candido-de-oliveira</td>\n      <td>domestic_super_cup</td>\n      <td>other</td>\n      <td>136</td>\n      <td>Portugal</td>\n      <td>PO1</td>\n      <td>europa</td>\n    </tr>\n    <tr>\n      <th>4</th>\n      <td>RUSS</td>\n      <td>russian-super-cup</td>\n      <td>domestic_super_cup</td>\n      <td>other</td>\n      <td>141</td>\n      <td>Russia</td>\n      <td>RU1</td>\n      <td>europa</td>\n    </tr>\n    <tr>\n      <th>5</th>\n      <td>SUC</td>\n      <td>supercopa</td>\n      <td>domestic_super_cup</td>\n      <td>other</td>\n      <td>157</td>\n      <td>Spain</td>\n      <td>ES1</td>\n      <td>europa</td>\n    </tr>\n    <tr>\n      <th>6</th>\n      <td>USC</td>\n      <td>uefa-super-cup</td>\n      <td>uefa_super_cup</td>\n      <td>other</td>\n      <td>-1</td>\n      <td>NaN</td>\n      <td>NaN</td>\n      <td>europa</td>\n    </tr>\n    <tr>\n      <th>7</th>\n      <td>DK1</td>\n      <td>superligaen</td>\n      <td>first_tier</td>\n      <td>domestic_league</td>\n      <td>39</td>\n      <td>Denmark</td>\n      <td>DK1</td>\n      <td>europa</td>\n    </tr>\n    <tr>\n      <th>8</th>\n      <td>EL</td>\n      <td>europa-league</td>\n      <td>europa_league</td>\n      <td>international_cup</td>\n      <td>-1</td>\n      <td>NaN</td>\n      <td>NaN</td>\n      <td>europa</td>\n    </tr>\n    <tr>\n      <th>9</th>\n      <td>ES1</td>\n      <td>laliga</td>\n      <td>first_tier</td>\n      <td>domestic_league</td>\n      <td>157</td>\n      <td>Spain</td>\n      <td>ES1</td>\n      <td>europa</td>\n    </tr>\n    <tr>\n      <th>10</th>\n      <td>FR1</td>\n      <td>ligue-1</td>\n      <td>first_tier</td>\n      <td>domestic_league</td>\n      <td>50</td>\n      <td>France</td>\n      <td>FR1</td>\n      <td>europa</td>\n    </tr>\n    <tr>\n      <th>11</th>\n      <td>IT1</td>\n      <td>serie-a</td>\n      <td>first_tier</td>\n      <td>domestic_league</td>\n      <td>75</td>\n      <td>Italy</td>\n      <td>IT1</td>\n      <td>europa</td>\n    </tr>\n    <tr>\n      <th>12</th>\n      <td>NL1</td>\n      <td>eredivisie</td>\n      <td>first_tier</td>\n      <td>domestic_league</td>\n      <td>122</td>\n      <td>Netherlands</td>\n      <td>NL1</td>\n      <td>europa</td>\n    </tr>\n    <tr>\n      <th>13</th>\n      <td>RUP</td>\n      <td>russian-cup</td>\n      <td>domestic_cup</td>\n      <td>domestic_cup</td>\n      <td>141</td>\n      <td>Russia</td>\n      <td>RU1</td>\n      <td>europa</td>\n    </tr>\n    <tr>\n      <th>14</th>\n      <td>PO1</td>\n      <td>liga-portugal-bwin</td>\n      <td>first_tier</td>\n      <td>domestic_league</td>\n      <td>136</td>\n      <td>Portugal</td>\n      <td>PO1</td>\n      <td>europa</td>\n    </tr>\n    <tr>\n      <th>15</th>\n      <td>BESC</td>\n      <td>belgian-supercup</td>\n      <td>domestic_super_cup</td>\n      <td>other</td>\n      <td>19</td>\n      <td>Belgium</td>\n      <td>BE1</td>\n      <td>europa</td>\n    </tr>\n    <tr>\n      <th>16</th>\n      <td>GB1</td>\n      <td>premier-league</td>\n      <td>first_tier</td>\n      <td>domestic_league</td>\n      <td>189</td>\n      <td>England</td>\n      <td>GB1</td>\n      <td>europa</td>\n    </tr>\n    <tr>\n      <th>17</th>\n      <td>ELQ</td>\n      <td>europa-league-qualifikation</td>\n      <td>europa_league_qualifying</td>\n      <td>international_cup</td>\n      <td>-1</td>\n      <td>NaN</td>\n      <td>NaN</td>\n      <td>europa</td>\n    </tr>\n    <tr>\n      <th>18</th>\n      <td>CGB</td>\n      <td>efl-cup</td>\n      <td>league_cup</td>\n      <td>other</td>\n      <td>189</td>\n      <td>England</td>\n      <td>GB1</td>\n      <td>europa</td>\n    </tr>\n    <tr>\n      <th>19</th>\n      <td>DKP</td>\n      <td>sydbank-pokalen</td>\n      <td>domestic_cup</td>\n      <td>domestic_cup</td>\n      <td>39</td>\n      <td>Denmark</td>\n      <td>DK1</td>\n      <td>europa</td>\n    </tr>\n    <tr>\n      <th>20</th>\n      <td>ECLQ</td>\n      <td>uefa-europa-conference-league-qualifikation</td>\n      <td>uefa_europa_conference_league_qualifiers</td>\n      <td>international_cup</td>\n      <td>-1</td>\n      <td>NaN</td>\n      <td>NaN</td>\n      <td>europa</td>\n    </tr>\n    <tr>\n      <th>21</th>\n      <td>FAC</td>\n      <td>fa-cup</td>\n      <td>domestic_cup</td>\n      <td>domestic_cup</td>\n      <td>189</td>\n      <td>England</td>\n      <td>GB1</td>\n      <td>europa</td>\n    </tr>\n    <tr>\n      <th>22</th>\n      <td>NLP</td>\n      <td>toto-knvb-beker</td>\n      <td>domestic_cup</td>\n      <td>domestic_cup</td>\n      <td>122</td>\n      <td>Netherlands</td>\n      <td>NL1</td>\n      <td>europa</td>\n    </tr>\n    <tr>\n      <th>23</th>\n      <td>UKRS</td>\n      <td>ukrainian-super-cup</td>\n      <td>domestic_super_cup</td>\n      <td>other</td>\n      <td>177</td>\n      <td>Ukraine</td>\n      <td>UKR1</td>\n      <td>europa</td>\n    </tr>\n    <tr>\n      <th>24</th>\n      <td>UKR1</td>\n      <td>premier-liga</td>\n      <td>first_tier</td>\n      <td>domestic_league</td>\n      <td>177</td>\n      <td>Ukraine</td>\n      <td>UKR1</td>\n      <td>europa</td>\n    </tr>\n    <tr>\n      <th>25</th>\n      <td>CDR</td>\n      <td>copa-del-rey</td>\n      <td>domestic_cup</td>\n      <td>domestic_cup</td>\n      <td>157</td>\n      <td>Spain</td>\n      <td>ES1</td>\n      <td>europa</td>\n    </tr>\n    <tr>\n      <th>26</th>\n      <td>CL</td>\n      <td>uefa-champions-league</td>\n      <td>uefa_champions_league</td>\n      <td>international_cup</td>\n      <td>-1</td>\n      <td>NaN</td>\n      <td>NaN</td>\n      <td>europa</td>\n    </tr>\n    <tr>\n      <th>27</th>\n      <td>GR1</td>\n      <td>super-league-1</td>\n      <td>first_tier</td>\n      <td>domestic_league</td>\n      <td>56</td>\n      <td>Greece</td>\n      <td>GR1</td>\n      <td>europa</td>\n    </tr>\n    <tr>\n      <th>28</th>\n      <td>TR1</td>\n      <td>super-lig</td>\n      <td>first_tier</td>\n      <td>domestic_league</td>\n      <td>174</td>\n      <td>Turkey</td>\n      <td>TR1</td>\n      <td>europa</td>\n    </tr>\n    <tr>\n      <th>29</th>\n      <td>POCP</td>\n      <td>allianz-cup</td>\n      <td>domestic_cup</td>\n      <td>domestic_cup</td>\n      <td>136</td>\n      <td>Portugal</td>\n      <td>PO1</td>\n      <td>europa</td>\n    </tr>\n    <tr>\n      <th>30</th>\n      <td>GBCS</td>\n      <td>community-shield</td>\n      <td>domestic_super_cup</td>\n      <td>other</td>\n      <td>189</td>\n      <td>England</td>\n      <td>GB1</td>\n      <td>europa</td>\n    </tr>\n    <tr>\n      <th>31</th>\n      <td>KLUB</td>\n      <td>fifa-klub-wm</td>\n      <td>fifa_club_world_cup</td>\n      <td>other</td>\n      <td>-1</td>\n      <td>NaN</td>\n      <td>NaN</td>\n      <td>europa</td>\n    </tr>\n    <tr>\n      <th>32</th>\n      <td>L1</td>\n      <td>bundesliga</td>\n      <td>first_tier</td>\n      <td>domestic_league</td>\n      <td>40</td>\n      <td>Germany</td>\n      <td>L1</td>\n      <td>europa</td>\n    </tr>\n    <tr>\n      <th>33</th>\n      <td>RU1</td>\n      <td>premier-liga</td>\n      <td>first_tier</td>\n      <td>domestic_league</td>\n      <td>141</td>\n      <td>Russia</td>\n      <td>RU1</td>\n      <td>europa</td>\n    </tr>\n    <tr>\n      <th>34</th>\n      <td>SC1</td>\n      <td>scottish-premiership</td>\n      <td>first_tier</td>\n      <td>domestic_league</td>\n      <td>190</td>\n      <td>Scotland</td>\n      <td>SC1</td>\n      <td>europa</td>\n    </tr>\n    <tr>\n      <th>35</th>\n      <td>SCI</td>\n      <td>supercoppa-italiana</td>\n      <td>domestic_super_cup</td>\n      <td>other</td>\n      <td>75</td>\n      <td>Italy</td>\n      <td>IT1</td>\n      <td>europa</td>\n    </tr>\n    <tr>\n      <th>36</th>\n      <td>BE1</td>\n      <td>jupiler-pro-league</td>\n      <td>first_tier</td>\n      <td>domestic_league</td>\n      <td>19</td>\n      <td>Belgium</td>\n      <td>BE1</td>\n      <td>europa</td>\n    </tr>\n    <tr>\n      <th>37</th>\n      <td>CLQ</td>\n      <td>uefa-champions-league-qualifikation</td>\n      <td>uefa_champions_league_qualifying</td>\n      <td>international_cup</td>\n      <td>-1</td>\n      <td>NaN</td>\n      <td>NaN</td>\n      <td>europa</td>\n    </tr>\n    <tr>\n      <th>38</th>\n      <td>DFL</td>\n      <td>dfl-supercup</td>\n      <td>domestic_super_cup</td>\n      <td>other</td>\n      <td>40</td>\n      <td>Germany</td>\n      <td>L1</td>\n      <td>europa</td>\n    </tr>\n    <tr>\n      <th>39</th>\n      <td>SFA</td>\n      <td>sfa-cup</td>\n      <td>domestic_cup</td>\n      <td>domestic_cup</td>\n      <td>190</td>\n      <td>Scotland</td>\n      <td>SC1</td>\n      <td>europa</td>\n    </tr>\n    <tr>\n      <th>40</th>\n      <td>UKRP</td>\n      <td>ukrainian-cup</td>\n      <td>domestic_cup</td>\n      <td>domestic_cup</td>\n      <td>177</td>\n      <td>Ukraine</td>\n      <td>UKR1</td>\n      <td>europa</td>\n    </tr>\n    <tr>\n      <th>41</th>\n      <td>DFB</td>\n      <td>dfb-pokal</td>\n      <td>domestic_cup</td>\n      <td>domestic_cup</td>\n      <td>40</td>\n      <td>Germany</td>\n      <td>L1</td>\n      <td>europa</td>\n    </tr>\n    <tr>\n      <th>42</th>\n      <td>FRCH</td>\n      <td>trophee-des-champions</td>\n      <td>domestic_super_cup</td>\n      <td>other</td>\n      <td>50</td>\n      <td>France</td>\n      <td>FR1</td>\n      <td>europa</td>\n    </tr>\n  </tbody>\n</table>\n</div>"
     },
     "execution_count": 37,
     "metadata": {},
     "output_type": "execute_result"
    }
   ],
   "source": [
    "competitions_df"
   ],
   "metadata": {
    "collapsed": false,
    "ExecuteTime": {
     "end_time": "2024-01-03T00:03:20.340092Z",
     "start_time": "2024-01-03T00:03:19.811633900Z"
    }
   },
   "id": "8b00629d66a93b5f"
  },
  {
   "cell_type": "markdown",
   "source": [
    "## - Game Events\n",
    "It's not necessary to filter any columns.\n"
   ],
   "metadata": {
    "collapsed": false
   },
   "id": "21d75f207341dde8"
  },
  {
   "cell_type": "markdown",
   "source": [
    "## - Game Lineups\n",
    "It's not necessary to filter any columns.\n"
   ],
   "metadata": {
    "collapsed": false
   },
   "id": "e662c45346c0fc84"
  },
  {
   "cell_type": "markdown",
   "source": [
    "## - Games"
   ],
   "metadata": {
    "collapsed": false
   },
   "id": "6fca8c4ed1e0a6a3"
  },
  {
   "cell_type": "code",
   "execution_count": 38,
   "outputs": [],
   "source": [
    "games_df = games_df[[\n",
    "    'game_id', 'competition_id', 'season', 'round', 'date', 'home_club_id',\n",
    "    'away_club_id', 'home_club_goals', 'away_club_goals',\n",
    "    'home_club_position', 'away_club_position', 'home_club_manager_name',\n",
    "    'away_club_manager_name', 'stadium', 'attendance', 'referee',\n",
    "    # 'url','home_club_formation', 'away_club_formation', \n",
    "    'home_club_name', 'away_club_name',  # 'aggregate',\n",
    "    'competition_type'\n",
    "]]"
   ],
   "metadata": {
    "collapsed": false,
    "ExecuteTime": {
     "end_time": "2024-01-03T00:03:20.362094900Z",
     "start_time": "2024-01-03T00:03:19.827739200Z"
    }
   },
   "id": "24950693f2b95651"
  },
  {
   "cell_type": "markdown",
   "source": [
    "<span style=\"background-color: #d0d0d0; color: black; padding: 2px;\">Removed columns : 'url', 'home_club_formation', 'away_club_formation', 'aggregate'\n",
    "</span>"
   ],
   "metadata": {
    "collapsed": false
   },
   "id": "f33911e264b4dd26"
  },
  {
   "cell_type": "code",
   "execution_count": 39,
   "outputs": [
    {
     "data": {
      "text/plain": "       game_id competition_id  season                     round       date  \\\n0      2222597            RU1    2012               6. Matchday 2012-08-25   \n1      2222627            RU1    2012               5. Matchday 2012-08-20   \n2      2222658            RU1    2012              10. Matchday 2012-09-30   \n3      2222664            RU1    2012               8. Matchday 2012-09-15   \n4      2222683            RU1    2012              12. Matchday 2012-10-22   \n...        ...            ...     ...                       ...        ...   \n65211  2367292             EL    2013                   Group B 2013-11-07   \n65212  2629035            NLP    2015               Third Round 2015-10-27   \n65213  3092951            CLQ    2018  Qualifying Round 2nd leg 2018-08-29   \n65214  4164101            CGB    2023              Second Round 2023-08-29   \n65215  4013659            FAC    2022              Fourth Round 2023-01-29   \n\n       home_club_id  away_club_id  home_club_goals  away_club_goals  \\\n0              3725           232                2                1   \n1              2696          4128                0                2   \n2              2410           121                0                2   \n3               932          2698                1                0   \n4              2696         12438                0                1   \n...             ...           ...              ...              ...   \n65211           383           419                2                0   \n65212           383         16866                6                0   \n65213           383           713                3                0   \n65214           512          1194                6                1   \n65215           512          3684                3                1   \n\n       home_club_position  away_club_position home_club_manager_name  \\\n0                     2.0                 5.0   Stanislav Cherchesov   \n1                    11.0                10.0         Andrey Kobelev   \n2                     2.0                13.0         Leonid Slutski   \n3                     5.0                 8.0           Slaven Bilic   \n4                    11.0                16.0         Andrey Kobelev   \n...                   ...                 ...                    ...   \n65211                 NaN                 NaN           Phillip Cocu   \n65212                 NaN                 NaN           Phillip Cocu   \n65213                 NaN                 NaN        Mark van Bommel   \n65214                 NaN                 NaN              Alex Neil   \n65215                 NaN                 NaN              Alex Neil   \n\n      away_club_manager_name          stadium  attendance  \\\n0                 Unai Emery     Akhmat-Arena     21700.0   \n1              Rustem Khuzin        Metallurg     11400.0   \n2               Dan Petrescu     Arena Khimki     12000.0   \n3             Kurban Berdyev        RZD Arena     11408.0   \n4            Gadzhi Gadzhiev        Metallurg      7534.0   \n...                      ...              ...         ...   \n65211            Zoran Mamic  Philips Stadion     10000.0   \n65212       Hennie in 't Hof  Philips Stadion     31000.0   \n65213           Aleksey Baga  Philips Stadion     34200.0   \n65214            Matt Taylor   bet365 Stadium      9410.0   \n65215            Steve Evans   bet365 Stadium     14392.0   \n\n                    referee  \\\n0      Vladislav Bezborodov   \n1             Sergey Ivanov   \n2            Sergey Karasev   \n3            Sergey Karasev   \n4         Timur Arslanbekov   \n...                     ...   \n65211        Cristian Balaj   \n65212       Allard Lindhout   \n65213        Anthony Taylor   \n65214     Michael Salisbury   \n65215            David Webb   \n\n                                          home_club_name  \\\n0                                      RFK Akhmat Grozny   \n1                              PFK Krylya Sovetov Samara   \n2                                        PFK CSKA Moskva   \n3                     Футбольный клуб \"Локомотив\" Москва   \n4                              PFK Krylya Sovetov Samara   \n...                                                  ...   \n65211  Eindhovense Voetbalvereniging Philips Sport Ve...   \n65212  Eindhovense Voetbalvereniging Philips Sport Ve...   \n65213  Eindhovense Voetbalvereniging Philips Sport Ve...   \n65214                                         Stoke City   \n65215                                         Stoke City   \n\n                        away_club_name   competition_type  \n0                    FK Spartak Moskva    domestic_league  \n1                           Amkar Perm    domestic_league  \n2                     FK Dinamo Moskva    domestic_league  \n3                       FC Rubin Kazan    domestic_league  \n4      Volga Nizhniy Novgorod (- 2016)    domestic_league  \n...                                ...                ...  \n65211                              NaN  international_cup  \n65212                              NaN       domestic_cup  \n65213                              NaN  international_cup  \n65214                              NaN              other  \n65215                              NaN       domestic_cup  \n\n[65216 rows x 19 columns]",
      "text/html": "<div>\n<style scoped>\n    .dataframe tbody tr th:only-of-type {\n        vertical-align: middle;\n    }\n\n    .dataframe tbody tr th {\n        vertical-align: top;\n    }\n\n    .dataframe thead th {\n        text-align: right;\n    }\n</style>\n<table border=\"1\" class=\"dataframe\">\n  <thead>\n    <tr style=\"text-align: right;\">\n      <th></th>\n      <th>game_id</th>\n      <th>competition_id</th>\n      <th>season</th>\n      <th>round</th>\n      <th>date</th>\n      <th>home_club_id</th>\n      <th>away_club_id</th>\n      <th>home_club_goals</th>\n      <th>away_club_goals</th>\n      <th>home_club_position</th>\n      <th>away_club_position</th>\n      <th>home_club_manager_name</th>\n      <th>away_club_manager_name</th>\n      <th>stadium</th>\n      <th>attendance</th>\n      <th>referee</th>\n      <th>home_club_name</th>\n      <th>away_club_name</th>\n      <th>competition_type</th>\n    </tr>\n  </thead>\n  <tbody>\n    <tr>\n      <th>0</th>\n      <td>2222597</td>\n      <td>RU1</td>\n      <td>2012</td>\n      <td>6. Matchday</td>\n      <td>2012-08-25</td>\n      <td>3725</td>\n      <td>232</td>\n      <td>2</td>\n      <td>1</td>\n      <td>2.0</td>\n      <td>5.0</td>\n      <td>Stanislav Cherchesov</td>\n      <td>Unai Emery</td>\n      <td>Akhmat-Arena</td>\n      <td>21700.0</td>\n      <td>Vladislav Bezborodov</td>\n      <td>RFK Akhmat Grozny</td>\n      <td>FK Spartak Moskva</td>\n      <td>domestic_league</td>\n    </tr>\n    <tr>\n      <th>1</th>\n      <td>2222627</td>\n      <td>RU1</td>\n      <td>2012</td>\n      <td>5. Matchday</td>\n      <td>2012-08-20</td>\n      <td>2696</td>\n      <td>4128</td>\n      <td>0</td>\n      <td>2</td>\n      <td>11.0</td>\n      <td>10.0</td>\n      <td>Andrey Kobelev</td>\n      <td>Rustem Khuzin</td>\n      <td>Metallurg</td>\n      <td>11400.0</td>\n      <td>Sergey Ivanov</td>\n      <td>PFK Krylya Sovetov Samara</td>\n      <td>Amkar Perm</td>\n      <td>domestic_league</td>\n    </tr>\n    <tr>\n      <th>2</th>\n      <td>2222658</td>\n      <td>RU1</td>\n      <td>2012</td>\n      <td>10. Matchday</td>\n      <td>2012-09-30</td>\n      <td>2410</td>\n      <td>121</td>\n      <td>0</td>\n      <td>2</td>\n      <td>2.0</td>\n      <td>13.0</td>\n      <td>Leonid Slutski</td>\n      <td>Dan Petrescu</td>\n      <td>Arena Khimki</td>\n      <td>12000.0</td>\n      <td>Sergey Karasev</td>\n      <td>PFK CSKA Moskva</td>\n      <td>FK Dinamo Moskva</td>\n      <td>domestic_league</td>\n    </tr>\n    <tr>\n      <th>3</th>\n      <td>2222664</td>\n      <td>RU1</td>\n      <td>2012</td>\n      <td>8. Matchday</td>\n      <td>2012-09-15</td>\n      <td>932</td>\n      <td>2698</td>\n      <td>1</td>\n      <td>0</td>\n      <td>5.0</td>\n      <td>8.0</td>\n      <td>Slaven Bilic</td>\n      <td>Kurban Berdyev</td>\n      <td>RZD Arena</td>\n      <td>11408.0</td>\n      <td>Sergey Karasev</td>\n      <td>Футбольный клуб \"Локомотив\" Москва</td>\n      <td>FC Rubin Kazan</td>\n      <td>domestic_league</td>\n    </tr>\n    <tr>\n      <th>4</th>\n      <td>2222683</td>\n      <td>RU1</td>\n      <td>2012</td>\n      <td>12. Matchday</td>\n      <td>2012-10-22</td>\n      <td>2696</td>\n      <td>12438</td>\n      <td>0</td>\n      <td>1</td>\n      <td>11.0</td>\n      <td>16.0</td>\n      <td>Andrey Kobelev</td>\n      <td>Gadzhi Gadzhiev</td>\n      <td>Metallurg</td>\n      <td>7534.0</td>\n      <td>Timur Arslanbekov</td>\n      <td>PFK Krylya Sovetov Samara</td>\n      <td>Volga Nizhniy Novgorod (- 2016)</td>\n      <td>domestic_league</td>\n    </tr>\n    <tr>\n      <th>...</th>\n      <td>...</td>\n      <td>...</td>\n      <td>...</td>\n      <td>...</td>\n      <td>...</td>\n      <td>...</td>\n      <td>...</td>\n      <td>...</td>\n      <td>...</td>\n      <td>...</td>\n      <td>...</td>\n      <td>...</td>\n      <td>...</td>\n      <td>...</td>\n      <td>...</td>\n      <td>...</td>\n      <td>...</td>\n      <td>...</td>\n      <td>...</td>\n    </tr>\n    <tr>\n      <th>65211</th>\n      <td>2367292</td>\n      <td>EL</td>\n      <td>2013</td>\n      <td>Group B</td>\n      <td>2013-11-07</td>\n      <td>383</td>\n      <td>419</td>\n      <td>2</td>\n      <td>0</td>\n      <td>NaN</td>\n      <td>NaN</td>\n      <td>Phillip Cocu</td>\n      <td>Zoran Mamic</td>\n      <td>Philips Stadion</td>\n      <td>10000.0</td>\n      <td>Cristian Balaj</td>\n      <td>Eindhovense Voetbalvereniging Philips Sport Ve...</td>\n      <td>NaN</td>\n      <td>international_cup</td>\n    </tr>\n    <tr>\n      <th>65212</th>\n      <td>2629035</td>\n      <td>NLP</td>\n      <td>2015</td>\n      <td>Third Round</td>\n      <td>2015-10-27</td>\n      <td>383</td>\n      <td>16866</td>\n      <td>6</td>\n      <td>0</td>\n      <td>NaN</td>\n      <td>NaN</td>\n      <td>Phillip Cocu</td>\n      <td>Hennie in 't Hof</td>\n      <td>Philips Stadion</td>\n      <td>31000.0</td>\n      <td>Allard Lindhout</td>\n      <td>Eindhovense Voetbalvereniging Philips Sport Ve...</td>\n      <td>NaN</td>\n      <td>domestic_cup</td>\n    </tr>\n    <tr>\n      <th>65213</th>\n      <td>3092951</td>\n      <td>CLQ</td>\n      <td>2018</td>\n      <td>Qualifying Round 2nd leg</td>\n      <td>2018-08-29</td>\n      <td>383</td>\n      <td>713</td>\n      <td>3</td>\n      <td>0</td>\n      <td>NaN</td>\n      <td>NaN</td>\n      <td>Mark van Bommel</td>\n      <td>Aleksey Baga</td>\n      <td>Philips Stadion</td>\n      <td>34200.0</td>\n      <td>Anthony Taylor</td>\n      <td>Eindhovense Voetbalvereniging Philips Sport Ve...</td>\n      <td>NaN</td>\n      <td>international_cup</td>\n    </tr>\n    <tr>\n      <th>65214</th>\n      <td>4164101</td>\n      <td>CGB</td>\n      <td>2023</td>\n      <td>Second Round</td>\n      <td>2023-08-29</td>\n      <td>512</td>\n      <td>1194</td>\n      <td>6</td>\n      <td>1</td>\n      <td>NaN</td>\n      <td>NaN</td>\n      <td>Alex Neil</td>\n      <td>Matt Taylor</td>\n      <td>bet365 Stadium</td>\n      <td>9410.0</td>\n      <td>Michael Salisbury</td>\n      <td>Stoke City</td>\n      <td>NaN</td>\n      <td>other</td>\n    </tr>\n    <tr>\n      <th>65215</th>\n      <td>4013659</td>\n      <td>FAC</td>\n      <td>2022</td>\n      <td>Fourth Round</td>\n      <td>2023-01-29</td>\n      <td>512</td>\n      <td>3684</td>\n      <td>3</td>\n      <td>1</td>\n      <td>NaN</td>\n      <td>NaN</td>\n      <td>Alex Neil</td>\n      <td>Steve Evans</td>\n      <td>bet365 Stadium</td>\n      <td>14392.0</td>\n      <td>David Webb</td>\n      <td>Stoke City</td>\n      <td>NaN</td>\n      <td>domestic_cup</td>\n    </tr>\n  </tbody>\n</table>\n<p>65216 rows × 19 columns</p>\n</div>"
     },
     "execution_count": 39,
     "metadata": {},
     "output_type": "execute_result"
    }
   ],
   "source": [
    "games_df"
   ],
   "metadata": {
    "collapsed": false,
    "ExecuteTime": {
     "end_time": "2024-01-03T00:03:20.368124800Z",
     "start_time": "2024-01-03T00:03:19.852737800Z"
    }
   },
   "id": "34ba2ce4f789fbd9"
  },
  {
   "cell_type": "markdown",
   "source": [
    "## - Player Valuations"
   ],
   "metadata": {
    "collapsed": false
   },
   "id": "d9d6140a8098f1c1"
  },
  {
   "cell_type": "code",
   "execution_count": 40,
   "outputs": [],
   "source": [
    "player_valuations_df = player_valuations_df[[\n",
    "    'player_id', 'last_season',  #'datetime',\n",
    "    'date', 'dateweek',\n",
    "    'market_value_in_eur', 'n', 'current_club_id',\n",
    "    'player_club_domestic_competition_id'\n",
    "]]"
   ],
   "metadata": {
    "collapsed": false,
    "ExecuteTime": {
     "end_time": "2024-01-03T00:03:20.442292Z",
     "start_time": "2024-01-03T00:03:19.873745100Z"
    }
   },
   "id": "37db64e20f5a8ddb"
  },
  {
   "cell_type": "markdown",
   "source": [
    "<span style=\"background-color: #d0d0d0; color: black; padding: 2px;\">Removed columns : 'datetime'\n",
    "</span>"
   ],
   "metadata": {
    "collapsed": false
   },
   "id": "f2673843299c147b"
  },
  {
   "cell_type": "code",
   "execution_count": 41,
   "outputs": [
    {
     "data": {
      "text/plain": "        player_id  last_season       date   dateweek  market_value_in_eur  n  \\\n0            3132         2013 2003-12-09 2003-12-08               400000  1   \n1            6893         2012 2003-12-15 2003-12-15               900000  1   \n2              10         2015 2004-10-04 2004-10-04              7000000  1   \n3              26         2017 2004-10-04 2004-10-04              1500000  1   \n4              65         2015 2004-10-04 2004-10-04              8000000  1   \n...           ...          ...        ...        ...                  ... ..   \n440658     950091         2023 2023-09-21 2023-09-18              1000000  1   \n440659     968903         2023 2023-09-21 2023-09-18                50000  1   \n440660    1031590         2023 2023-09-21 2023-09-18                50000  1   \n440661    1166093         2023 2023-09-21 2023-09-18                50000  1   \n440662     405676         2018 2023-12-19 2023-12-18                50000  1   \n\n        current_club_id player_club_domestic_competition_id  \n0                   126                                 TR1  \n1                   984                                 GB1  \n2                   398                                 IT1  \n3                    16                                  L1  \n4                  1091                                 GR1  \n...                 ...                                 ...  \n440658             1091                                 GR1  \n440659              653                                 GR1  \n440660             6418                                 GR1  \n440661            30120                                 GR1  \n440662            23826                                  L1  \n\n[440663 rows x 8 columns]",
      "text/html": "<div>\n<style scoped>\n    .dataframe tbody tr th:only-of-type {\n        vertical-align: middle;\n    }\n\n    .dataframe tbody tr th {\n        vertical-align: top;\n    }\n\n    .dataframe thead th {\n        text-align: right;\n    }\n</style>\n<table border=\"1\" class=\"dataframe\">\n  <thead>\n    <tr style=\"text-align: right;\">\n      <th></th>\n      <th>player_id</th>\n      <th>last_season</th>\n      <th>date</th>\n      <th>dateweek</th>\n      <th>market_value_in_eur</th>\n      <th>n</th>\n      <th>current_club_id</th>\n      <th>player_club_domestic_competition_id</th>\n    </tr>\n  </thead>\n  <tbody>\n    <tr>\n      <th>0</th>\n      <td>3132</td>\n      <td>2013</td>\n      <td>2003-12-09</td>\n      <td>2003-12-08</td>\n      <td>400000</td>\n      <td>1</td>\n      <td>126</td>\n      <td>TR1</td>\n    </tr>\n    <tr>\n      <th>1</th>\n      <td>6893</td>\n      <td>2012</td>\n      <td>2003-12-15</td>\n      <td>2003-12-15</td>\n      <td>900000</td>\n      <td>1</td>\n      <td>984</td>\n      <td>GB1</td>\n    </tr>\n    <tr>\n      <th>2</th>\n      <td>10</td>\n      <td>2015</td>\n      <td>2004-10-04</td>\n      <td>2004-10-04</td>\n      <td>7000000</td>\n      <td>1</td>\n      <td>398</td>\n      <td>IT1</td>\n    </tr>\n    <tr>\n      <th>3</th>\n      <td>26</td>\n      <td>2017</td>\n      <td>2004-10-04</td>\n      <td>2004-10-04</td>\n      <td>1500000</td>\n      <td>1</td>\n      <td>16</td>\n      <td>L1</td>\n    </tr>\n    <tr>\n      <th>4</th>\n      <td>65</td>\n      <td>2015</td>\n      <td>2004-10-04</td>\n      <td>2004-10-04</td>\n      <td>8000000</td>\n      <td>1</td>\n      <td>1091</td>\n      <td>GR1</td>\n    </tr>\n    <tr>\n      <th>...</th>\n      <td>...</td>\n      <td>...</td>\n      <td>...</td>\n      <td>...</td>\n      <td>...</td>\n      <td>...</td>\n      <td>...</td>\n      <td>...</td>\n    </tr>\n    <tr>\n      <th>440658</th>\n      <td>950091</td>\n      <td>2023</td>\n      <td>2023-09-21</td>\n      <td>2023-09-18</td>\n      <td>1000000</td>\n      <td>1</td>\n      <td>1091</td>\n      <td>GR1</td>\n    </tr>\n    <tr>\n      <th>440659</th>\n      <td>968903</td>\n      <td>2023</td>\n      <td>2023-09-21</td>\n      <td>2023-09-18</td>\n      <td>50000</td>\n      <td>1</td>\n      <td>653</td>\n      <td>GR1</td>\n    </tr>\n    <tr>\n      <th>440660</th>\n      <td>1031590</td>\n      <td>2023</td>\n      <td>2023-09-21</td>\n      <td>2023-09-18</td>\n      <td>50000</td>\n      <td>1</td>\n      <td>6418</td>\n      <td>GR1</td>\n    </tr>\n    <tr>\n      <th>440661</th>\n      <td>1166093</td>\n      <td>2023</td>\n      <td>2023-09-21</td>\n      <td>2023-09-18</td>\n      <td>50000</td>\n      <td>1</td>\n      <td>30120</td>\n      <td>GR1</td>\n    </tr>\n    <tr>\n      <th>440662</th>\n      <td>405676</td>\n      <td>2018</td>\n      <td>2023-12-19</td>\n      <td>2023-12-18</td>\n      <td>50000</td>\n      <td>1</td>\n      <td>23826</td>\n      <td>L1</td>\n    </tr>\n  </tbody>\n</table>\n<p>440663 rows × 8 columns</p>\n</div>"
     },
     "execution_count": 41,
     "metadata": {},
     "output_type": "execute_result"
    }
   ],
   "source": [
    "player_valuations_df"
   ],
   "metadata": {
    "collapsed": false,
    "ExecuteTime": {
     "end_time": "2024-01-03T00:03:20.442292Z",
     "start_time": "2024-01-03T00:03:19.893738600Z"
    }
   },
   "id": "67b3d1f0b07f38be"
  },
  {
   "cell_type": "markdown",
   "source": [
    "## - Players"
   ],
   "metadata": {
    "collapsed": false
   },
   "id": "83694a7aa42b1e9f"
  },
  {
   "cell_type": "code",
   "execution_count": 42,
   "outputs": [],
   "source": [
    "players_df = players_df[[\n",
    "    'player_id', 'first_name', 'last_name',  # 'name',\n",
    "    'last_season',\n",
    "    'current_club_id',  # 'player_code', \n",
    "    'country_of_birth', 'city_of_birth',\n",
    "    'country_of_citizenship', 'date_of_birth', 'sub_position', 'position',\n",
    "    'foot', 'height_in_cm', 'market_value_in_eur',\n",
    "    'highest_market_value_in_eur',  #'contract_expiration_date',\n",
    "    'agent_name',\n",
    "    #'image_url', 'url',\n",
    "    'current_club_domestic_competition_id',\n",
    "    'current_club_name'\n",
    "]]"
   ],
   "metadata": {
    "collapsed": false,
    "ExecuteTime": {
     "end_time": "2024-01-03T00:03:20.445292Z",
     "start_time": "2024-01-03T00:03:19.904736800Z"
    }
   },
   "id": "3acd63485610dd93"
  },
  {
   "cell_type": "markdown",
   "source": [
    "<span style=\"background-color: #d0d0d0; color: black; padding: 2px;\">Removed columns : 'player_code','contract_expiration_date','image_url', 'url'\n",
    "</span>"
   ],
   "metadata": {
    "collapsed": false
   },
   "id": "894f73a53c9fa6cf"
  },
  {
   "cell_type": "code",
   "execution_count": 43,
   "outputs": [
    {
     "data": {
      "text/plain": "       player_id first_name    last_name  last_season  current_club_id  \\\n0            598       Timo   Hildebrand         2014               24   \n1            670     Martin       Petrov         2012              714   \n2           1323     Martin      Amedick         2012               24   \n3           3195   Jermaine      Pennant         2013              512   \n4           3259     Damien         Duff         2013              931   \n...          ...        ...          ...          ...              ...   \n30297     371851       Jaka        Bijol         2023              410   \n30298     537171     Semuel  Pizzignacco         2018              410   \n30299     586756      Festy      Ebosele         2023              410   \n30300     704692     Nicolò      Cocetta         2022              410   \n30301     925584       Axel     Guessand         2023              410   \n\n      country_of_birth           city_of_birth country_of_citizenship  \\\n0              Germany                   Worms                Germany   \n1             Bulgaria                  Vratsa               Bulgaria   \n2              Germany               Paderborn                Germany   \n3              England              Nottingham                England   \n4              Ireland              Ballyboden                Ireland   \n...                ...                     ...                    ...   \n30297         Slovenia                Vuzenica               Slovenia   \n30298            Italy              Monfalcone                  Italy   \n30299          Ireland    Enniscorthy, Wexford                Ireland   \n30300            Italy  San Daniele del Friuli                  Italy   \n30301           France            Schiltigheim                 France   \n\n      date_of_birth    sub_position    position   foot  height_in_cm  \\\n0        1979-04-05      Goalkeeper  Goalkeeper    NaN           NaN   \n1        1979-01-15     Left Winger      Attack    NaN           NaN   \n2        1982-09-06     Centre-Back    Defender    NaN           NaN   \n3        1983-01-15    Right Winger      Attack  right         173.0   \n4        1979-03-02  Right Midfield    Midfield   left         177.0   \n...             ...             ...         ...    ...           ...   \n30297    1999-02-05     Centre-Back    Defender  right         190.0   \n30298    2001-09-01      Goalkeeper  Goalkeeper  right         188.0   \n30299    2002-08-02  Right Midfield    Midfield  right         180.0   \n30300    2003-12-19     Centre-Back    Defender    NaN           NaN   \n30301    2004-11-06     Centre-Back    Defender   left         184.0   \n\n       market_value_in_eur  highest_market_value_in_eur         agent_name  \\\n0                      NaN                   10000000.0                NaN   \n1                      NaN                   12000000.0                IFM   \n2                      NaN                    2750000.0                NaN   \n3                      NaN                   10500000.0         Andrew Sky   \n4                      NaN                   17000000.0                NaN   \n...                    ...                          ...                ...   \n30297           10000000.0                   10000000.0          MSC GROUP   \n30298             325000.0                     350000.0                NaN   \n30299            4500000.0                    4500000.0  The Kulture Group   \n30300              75000.0                      75000.0                NaN   \n30301             250000.0                     300000.0        CAA Stellar   \n\n      current_club_domestic_competition_id       current_club_name  \n0                                       L1     Eintracht Frankfurt  \n1                                      ES1  RCD Espanyol Barcelona  \n2                                       L1     Eintracht Frankfurt  \n3                                      GB1              Stoke City  \n4                                      GB1               Fulham FC  \n...                                    ...                     ...  \n30297                                  IT1          Udinese Calcio  \n30298                                  IT1          Udinese Calcio  \n30299                                  IT1          Udinese Calcio  \n30300                                  IT1          Udinese Calcio  \n30301                                  IT1          Udinese Calcio  \n\n[30302 rows x 18 columns]",
      "text/html": "<div>\n<style scoped>\n    .dataframe tbody tr th:only-of-type {\n        vertical-align: middle;\n    }\n\n    .dataframe tbody tr th {\n        vertical-align: top;\n    }\n\n    .dataframe thead th {\n        text-align: right;\n    }\n</style>\n<table border=\"1\" class=\"dataframe\">\n  <thead>\n    <tr style=\"text-align: right;\">\n      <th></th>\n      <th>player_id</th>\n      <th>first_name</th>\n      <th>last_name</th>\n      <th>last_season</th>\n      <th>current_club_id</th>\n      <th>country_of_birth</th>\n      <th>city_of_birth</th>\n      <th>country_of_citizenship</th>\n      <th>date_of_birth</th>\n      <th>sub_position</th>\n      <th>position</th>\n      <th>foot</th>\n      <th>height_in_cm</th>\n      <th>market_value_in_eur</th>\n      <th>highest_market_value_in_eur</th>\n      <th>agent_name</th>\n      <th>current_club_domestic_competition_id</th>\n      <th>current_club_name</th>\n    </tr>\n  </thead>\n  <tbody>\n    <tr>\n      <th>0</th>\n      <td>598</td>\n      <td>Timo</td>\n      <td>Hildebrand</td>\n      <td>2014</td>\n      <td>24</td>\n      <td>Germany</td>\n      <td>Worms</td>\n      <td>Germany</td>\n      <td>1979-04-05</td>\n      <td>Goalkeeper</td>\n      <td>Goalkeeper</td>\n      <td>NaN</td>\n      <td>NaN</td>\n      <td>NaN</td>\n      <td>10000000.0</td>\n      <td>NaN</td>\n      <td>L1</td>\n      <td>Eintracht Frankfurt</td>\n    </tr>\n    <tr>\n      <th>1</th>\n      <td>670</td>\n      <td>Martin</td>\n      <td>Petrov</td>\n      <td>2012</td>\n      <td>714</td>\n      <td>Bulgaria</td>\n      <td>Vratsa</td>\n      <td>Bulgaria</td>\n      <td>1979-01-15</td>\n      <td>Left Winger</td>\n      <td>Attack</td>\n      <td>NaN</td>\n      <td>NaN</td>\n      <td>NaN</td>\n      <td>12000000.0</td>\n      <td>IFM</td>\n      <td>ES1</td>\n      <td>RCD Espanyol Barcelona</td>\n    </tr>\n    <tr>\n      <th>2</th>\n      <td>1323</td>\n      <td>Martin</td>\n      <td>Amedick</td>\n      <td>2012</td>\n      <td>24</td>\n      <td>Germany</td>\n      <td>Paderborn</td>\n      <td>Germany</td>\n      <td>1982-09-06</td>\n      <td>Centre-Back</td>\n      <td>Defender</td>\n      <td>NaN</td>\n      <td>NaN</td>\n      <td>NaN</td>\n      <td>2750000.0</td>\n      <td>NaN</td>\n      <td>L1</td>\n      <td>Eintracht Frankfurt</td>\n    </tr>\n    <tr>\n      <th>3</th>\n      <td>3195</td>\n      <td>Jermaine</td>\n      <td>Pennant</td>\n      <td>2013</td>\n      <td>512</td>\n      <td>England</td>\n      <td>Nottingham</td>\n      <td>England</td>\n      <td>1983-01-15</td>\n      <td>Right Winger</td>\n      <td>Attack</td>\n      <td>right</td>\n      <td>173.0</td>\n      <td>NaN</td>\n      <td>10500000.0</td>\n      <td>Andrew Sky</td>\n      <td>GB1</td>\n      <td>Stoke City</td>\n    </tr>\n    <tr>\n      <th>4</th>\n      <td>3259</td>\n      <td>Damien</td>\n      <td>Duff</td>\n      <td>2013</td>\n      <td>931</td>\n      <td>Ireland</td>\n      <td>Ballyboden</td>\n      <td>Ireland</td>\n      <td>1979-03-02</td>\n      <td>Right Midfield</td>\n      <td>Midfield</td>\n      <td>left</td>\n      <td>177.0</td>\n      <td>NaN</td>\n      <td>17000000.0</td>\n      <td>NaN</td>\n      <td>GB1</td>\n      <td>Fulham FC</td>\n    </tr>\n    <tr>\n      <th>...</th>\n      <td>...</td>\n      <td>...</td>\n      <td>...</td>\n      <td>...</td>\n      <td>...</td>\n      <td>...</td>\n      <td>...</td>\n      <td>...</td>\n      <td>...</td>\n      <td>...</td>\n      <td>...</td>\n      <td>...</td>\n      <td>...</td>\n      <td>...</td>\n      <td>...</td>\n      <td>...</td>\n      <td>...</td>\n      <td>...</td>\n    </tr>\n    <tr>\n      <th>30297</th>\n      <td>371851</td>\n      <td>Jaka</td>\n      <td>Bijol</td>\n      <td>2023</td>\n      <td>410</td>\n      <td>Slovenia</td>\n      <td>Vuzenica</td>\n      <td>Slovenia</td>\n      <td>1999-02-05</td>\n      <td>Centre-Back</td>\n      <td>Defender</td>\n      <td>right</td>\n      <td>190.0</td>\n      <td>10000000.0</td>\n      <td>10000000.0</td>\n      <td>MSC GROUP</td>\n      <td>IT1</td>\n      <td>Udinese Calcio</td>\n    </tr>\n    <tr>\n      <th>30298</th>\n      <td>537171</td>\n      <td>Semuel</td>\n      <td>Pizzignacco</td>\n      <td>2018</td>\n      <td>410</td>\n      <td>Italy</td>\n      <td>Monfalcone</td>\n      <td>Italy</td>\n      <td>2001-09-01</td>\n      <td>Goalkeeper</td>\n      <td>Goalkeeper</td>\n      <td>right</td>\n      <td>188.0</td>\n      <td>325000.0</td>\n      <td>350000.0</td>\n      <td>NaN</td>\n      <td>IT1</td>\n      <td>Udinese Calcio</td>\n    </tr>\n    <tr>\n      <th>30299</th>\n      <td>586756</td>\n      <td>Festy</td>\n      <td>Ebosele</td>\n      <td>2023</td>\n      <td>410</td>\n      <td>Ireland</td>\n      <td>Enniscorthy, Wexford</td>\n      <td>Ireland</td>\n      <td>2002-08-02</td>\n      <td>Right Midfield</td>\n      <td>Midfield</td>\n      <td>right</td>\n      <td>180.0</td>\n      <td>4500000.0</td>\n      <td>4500000.0</td>\n      <td>The Kulture Group</td>\n      <td>IT1</td>\n      <td>Udinese Calcio</td>\n    </tr>\n    <tr>\n      <th>30300</th>\n      <td>704692</td>\n      <td>Nicolò</td>\n      <td>Cocetta</td>\n      <td>2022</td>\n      <td>410</td>\n      <td>Italy</td>\n      <td>San Daniele del Friuli</td>\n      <td>Italy</td>\n      <td>2003-12-19</td>\n      <td>Centre-Back</td>\n      <td>Defender</td>\n      <td>NaN</td>\n      <td>NaN</td>\n      <td>75000.0</td>\n      <td>75000.0</td>\n      <td>NaN</td>\n      <td>IT1</td>\n      <td>Udinese Calcio</td>\n    </tr>\n    <tr>\n      <th>30301</th>\n      <td>925584</td>\n      <td>Axel</td>\n      <td>Guessand</td>\n      <td>2023</td>\n      <td>410</td>\n      <td>France</td>\n      <td>Schiltigheim</td>\n      <td>France</td>\n      <td>2004-11-06</td>\n      <td>Centre-Back</td>\n      <td>Defender</td>\n      <td>left</td>\n      <td>184.0</td>\n      <td>250000.0</td>\n      <td>300000.0</td>\n      <td>CAA Stellar</td>\n      <td>IT1</td>\n      <td>Udinese Calcio</td>\n    </tr>\n  </tbody>\n</table>\n<p>30302 rows × 18 columns</p>\n</div>"
     },
     "execution_count": 43,
     "metadata": {},
     "output_type": "execute_result"
    }
   ],
   "source": [
    "players_df"
   ],
   "metadata": {
    "collapsed": false,
    "ExecuteTime": {
     "end_time": "2024-01-03T00:03:20.446293Z",
     "start_time": "2024-01-03T00:03:19.918329800Z"
    }
   },
   "id": "80dd41ceabe8a800"
  },
  {
   "cell_type": "markdown",
   "source": [
    "## 1.4 Check duplicated row "
   ],
   "metadata": {
    "collapsed": false
   },
   "id": "56b32cad3680e72e"
  },
  {
   "cell_type": "code",
   "execution_count": 44,
   "outputs": [
    {
     "data": {
      "text/plain": "0"
     },
     "execution_count": 44,
     "metadata": {},
     "output_type": "execute_result"
    }
   ],
   "source": [
    "appearances_df.duplicated().sum()"
   ],
   "metadata": {
    "collapsed": false,
    "ExecuteTime": {
     "end_time": "2024-01-03T00:03:21.013993400Z",
     "start_time": "2024-01-03T00:03:19.969841Z"
    }
   },
   "id": "81502d36ebaed5c6"
  },
  {
   "cell_type": "code",
   "execution_count": 45,
   "outputs": [
    {
     "data": {
      "text/plain": "0"
     },
     "execution_count": 45,
     "metadata": {},
     "output_type": "execute_result"
    }
   ],
   "source": [
    "club_games_df.duplicated().sum()"
   ],
   "metadata": {
    "collapsed": false,
    "ExecuteTime": {
     "end_time": "2024-01-03T00:03:21.049513100Z",
     "start_time": "2024-01-03T00:03:20.681246900Z"
    }
   },
   "id": "1b11086df9db580"
  },
  {
   "cell_type": "code",
   "execution_count": 46,
   "outputs": [
    {
     "data": {
      "text/plain": "0"
     },
     "execution_count": 46,
     "metadata": {},
     "output_type": "execute_result"
    }
   ],
   "source": [
    "club_games_df.duplicated().sum()"
   ],
   "metadata": {
    "collapsed": false,
    "ExecuteTime": {
     "end_time": "2024-01-03T00:03:21.049513100Z",
     "start_time": "2024-01-03T00:03:20.755793700Z"
    }
   },
   "id": "6d47807c768fac77"
  },
  {
   "cell_type": "code",
   "execution_count": 47,
   "outputs": [
    {
     "data": {
      "text/plain": "0"
     },
     "execution_count": 47,
     "metadata": {},
     "output_type": "execute_result"
    }
   ],
   "source": [
    "clubs_df.duplicated().sum()"
   ],
   "metadata": {
    "collapsed": false,
    "ExecuteTime": {
     "end_time": "2024-01-03T00:03:21.050513500Z",
     "start_time": "2024-01-03T00:03:20.835358400Z"
    }
   },
   "id": "70f0a49c80e9a7f5"
  },
  {
   "cell_type": "code",
   "execution_count": 48,
   "outputs": [
    {
     "data": {
      "text/plain": "0"
     },
     "execution_count": 48,
     "metadata": {},
     "output_type": "execute_result"
    }
   ],
   "source": [
    "competitions_df.duplicated().sum()"
   ],
   "metadata": {
    "collapsed": false,
    "ExecuteTime": {
     "end_time": "2024-01-03T00:03:21.050513500Z",
     "start_time": "2024-01-03T00:03:20.850356600Z"
    }
   },
   "id": "eb8b699f9843bc44"
  },
  {
   "cell_type": "code",
   "execution_count": 49,
   "outputs": [
    {
     "data": {
      "text/plain": "0"
     },
     "execution_count": 49,
     "metadata": {},
     "output_type": "execute_result"
    }
   ],
   "source": [
    "game_events_df.duplicated().sum()"
   ],
   "metadata": {
    "collapsed": false,
    "ExecuteTime": {
     "end_time": "2024-01-03T00:03:21.381606700Z",
     "start_time": "2024-01-03T00:03:20.867360300Z"
    }
   },
   "id": "71e4698decafadaf"
  },
  {
   "cell_type": "code",
   "execution_count": 50,
   "outputs": [
    {
     "data": {
      "text/plain": "0"
     },
     "execution_count": 50,
     "metadata": {},
     "output_type": "execute_result"
    }
   ],
   "source": [
    "game_lineups_df.duplicated().sum()"
   ],
   "metadata": {
    "collapsed": false,
    "ExecuteTime": {
     "end_time": "2024-01-03T00:03:21.417615200Z",
     "start_time": "2024-01-03T00:03:21.207635700Z"
    }
   },
   "id": "ca7991503c9a182a"
  },
  {
   "cell_type": "code",
   "execution_count": 51,
   "outputs": [
    {
     "data": {
      "text/plain": "0"
     },
     "execution_count": 51,
     "metadata": {},
     "output_type": "execute_result"
    }
   ],
   "source": [
    "games_df.duplicated().sum()"
   ],
   "metadata": {
    "collapsed": false,
    "ExecuteTime": {
     "end_time": "2024-01-03T00:03:21.417615200Z",
     "start_time": "2024-01-03T00:03:21.275219500Z"
    }
   },
   "id": "7286ebf68b7275ae"
  },
  {
   "cell_type": "code",
   "execution_count": 52,
   "outputs": [
    {
     "data": {
      "text/plain": "0"
     },
     "execution_count": 52,
     "metadata": {},
     "output_type": "execute_result"
    }
   ],
   "source": [
    "player_valuations_df.duplicated().sum()"
   ],
   "metadata": {
    "collapsed": false,
    "ExecuteTime": {
     "end_time": "2024-01-03T00:03:21.531107Z",
     "start_time": "2024-01-03T00:03:21.337610400Z"
    }
   },
   "id": "6eddf6bcdc6b6006"
  },
  {
   "cell_type": "code",
   "execution_count": 53,
   "outputs": [
    {
     "data": {
      "text/plain": "0"
     },
     "execution_count": 53,
     "metadata": {},
     "output_type": "execute_result"
    }
   ],
   "source": [
    "players_df.duplicated().sum()"
   ],
   "metadata": {
    "collapsed": false,
    "ExecuteTime": {
     "end_time": "2024-01-03T00:03:21.546109100Z",
     "start_time": "2024-01-03T00:03:21.431129200Z"
    }
   },
   "id": "f60b8184ad901d8"
  },
  {
   "cell_type": "markdown",
   "source": [
    "<span style=\"background-color: #d0d0d0; color: black; padding: 2px;\">There are no duplicate rows in any dataframe.\n",
    "</span>"
   ],
   "metadata": {
    "collapsed": false
   },
   "id": "74778fb9a10f81c4"
  },
  {
   "cell_type": "markdown",
   "source": [
    "<span style=\"background-color: #73b564; color: black; padding: 2px;\">Here concludes the part of optimizations and organization of the dataframes. We believe that these frames are an excellent starting point for conducting a data analysis.\n",
    "</span>"
   ],
   "metadata": {
    "collapsed": false
   },
   "id": "8b65ec7f6c0a7262"
  },
  {
   "cell_type": "markdown",
   "source": [
    "# 2.0 Data Analysis "
   ],
   "metadata": {
    "collapsed": false
   },
   "id": "6852affc39409d"
  },
  {
   "cell_type": "markdown",
   "source": [
    "## This is the main section of the Jupiter Notebook file.\n",
    "## There are analyzes on individual data frames up to more complex measurements involving multiple data frames."
   ],
   "metadata": {
    "collapsed": false
   },
   "id": "5e24eddb93e258f4"
  },
  {
   "cell_type": "markdown",
   "source": [
    "### 2.1 Appearances Dataframe Analysis"
   ],
   "metadata": {
    "collapsed": false
   },
   "id": "8e34b952bd1f11cc"
  },
  {
   "cell_type": "markdown",
   "source": [
    "#### 2.1.1 -  We determine the average number of minutes played, the median and the standard deviation, based on the appearances present in the dataframe."
   ],
   "metadata": {
    "collapsed": false
   },
   "id": "70157a1928bcf4bb"
  },
  {
   "cell_type": "code",
   "execution_count": 54,
   "outputs": [
    {
     "name": "stdout",
     "output_type": "stream",
     "text": [
      "Mean of minutes played:  69.64983869052398\n",
      "Median minutes played:  90.0\n",
      "Standard deviation of minutes played:  29.760781999034695\n"
     ]
    }
   ],
   "source": [
    "print(\"Mean of minutes played: \", appearances_df['minutes_played'].mean())\n",
    "print(\"Median minutes played: \", appearances_df['minutes_played'].median())\n",
    "print(\"Standard deviation of minutes played: \", appearances_df['minutes_played'].std())"
   ],
   "metadata": {
    "collapsed": false,
    "ExecuteTime": {
     "end_time": "2024-01-03T00:03:21.550078400Z",
     "start_time": "2024-01-03T00:03:21.461603800Z"
    }
   },
   "id": "71a40a7c3eb182fd"
  },
  {
   "cell_type": "markdown",
   "source": [
    "### 2.1.2 - Let's verify the distribution of the minutes played."
   ],
   "metadata": {
    "collapsed": false
   },
   "id": "f67b900ad1f29597"
  },
  {
   "cell_type": "code",
   "execution_count": 55,
   "outputs": [
    {
     "data": {
      "text/plain": "<Figure size 1600x1000 with 1 Axes>",
      "image/png": "[encoded data removed]"
     },
     "metadata": {},
     "output_type": "display_data"
    }
   ],
   "source": [
    "plt.figure(figsize=(16, 10))\n",
    "sns.histplot(appearances_df['minutes_played'], bins=30, kde=True)\n",
    "plt.title('Distribution of Minutes Played per Game')\n",
    "plt.xlabel('Minutes Played')\n",
    "plt.ylabel('Frequency(Total number of appearances)')\n",
    "plt.show()"
   ],
   "metadata": {
    "collapsed": false,
    "ExecuteTime": {
     "end_time": "2024-01-03T00:03:29.014805700Z",
     "start_time": "2024-01-03T00:03:21.509608500Z"
    }
   },
   "id": "e3a1886a7efaaabc"
  },
  {
   "cell_type": "markdown",
   "source": [
    "From the result, we can understand that in the \"Appearances\" dataframe, the majority of entries represent starting players, meaning they play the entire match. We can also observe a peak around the 45th minute, which corresponds to the end of the first half."
   ],
   "metadata": {
    "collapsed": false
   },
   "id": "40f219d9e2c901a6"
  },
  {
   "cell_type": "markdown",
   "source": [
    "### 2.1.3 - Let's analyze the distribution of minutes played for each player. This analysis will provide an in-depth view of how much time, on average, each player spends on the field per game, along with other useful statistics."
   ],
   "metadata": {
    "collapsed": false
   },
   "id": "e70e08520934260d"
  },
  {
   "cell_type": "code",
   "execution_count": 56,
   "outputs": [
    {
     "data": {
      "text/plain": "                         mean  median        std  count\nplayer_name                                            \nA.J. Soares         70.166667    90.0  32.065038      6\nAJ Leitch-Smith     58.620690    79.0  35.028982     29\nAaron Appindangoyé  84.923913    90.0  17.791981     92\nAaron Bastiaans     36.000000    19.0  36.110940      4\nAaron Boupendza     69.891892    90.0  29.116417     37\n...                       ...     ...        ...    ...\nİrfan Can Kahveci   66.101639    76.0  27.564389    305\nİsmail Yüksek       63.913043    84.0  33.832809     46\nİsmail Çokçalış     60.818182    78.0  32.313521     11\nİzzet Çelik         11.000000    11.0        NaN      1\nΑbdul Razak         11.000000    11.0        NaN      1\n\n[23297 rows x 4 columns]",
      "text/html": "<div>\n<style scoped>\n    .dataframe tbody tr th:only-of-type {\n        vertical-align: middle;\n    }\n\n    .dataframe tbody tr th {\n        vertical-align: top;\n    }\n\n    .dataframe thead th {\n        text-align: right;\n    }\n</style>\n<table border=\"1\" class=\"dataframe\">\n  <thead>\n    <tr style=\"text-align: right;\">\n      <th></th>\n      <th>mean</th>\n      <th>median</th>\n      <th>std</th>\n      <th>count</th>\n    </tr>\n    <tr>\n      <th>player_name</th>\n      <th></th>\n      <th></th>\n      <th></th>\n      <th></th>\n    </tr>\n  </thead>\n  <tbody>\n    <tr>\n      <th>A.J. Soares</th>\n      <td>70.166667</td>\n      <td>90.0</td>\n      <td>32.065038</td>\n      <td>6</td>\n    </tr>\n    <tr>\n      <th>AJ Leitch-Smith</th>\n      <td>58.620690</td>\n      <td>79.0</td>\n      <td>35.028982</td>\n      <td>29</td>\n    </tr>\n    <tr>\n      <th>Aaron Appindangoyé</th>\n      <td>84.923913</td>\n      <td>90.0</td>\n      <td>17.791981</td>\n      <td>92</td>\n    </tr>\n    <tr>\n      <th>Aaron Bastiaans</th>\n      <td>36.000000</td>\n      <td>19.0</td>\n      <td>36.110940</td>\n      <td>4</td>\n    </tr>\n    <tr>\n      <th>Aaron Boupendza</th>\n      <td>69.891892</td>\n      <td>90.0</td>\n      <td>29.116417</td>\n      <td>37</td>\n    </tr>\n    <tr>\n      <th>...</th>\n      <td>...</td>\n      <td>...</td>\n      <td>...</td>\n      <td>...</td>\n    </tr>\n    <tr>\n      <th>İrfan Can Kahveci</th>\n      <td>66.101639</td>\n      <td>76.0</td>\n      <td>27.564389</td>\n      <td>305</td>\n    </tr>\n    <tr>\n      <th>İsmail Yüksek</th>\n      <td>63.913043</td>\n      <td>84.0</td>\n      <td>33.832809</td>\n      <td>46</td>\n    </tr>\n    <tr>\n      <th>İsmail Çokçalış</th>\n      <td>60.818182</td>\n      <td>78.0</td>\n      <td>32.313521</td>\n      <td>11</td>\n    </tr>\n    <tr>\n      <th>İzzet Çelik</th>\n      <td>11.000000</td>\n      <td>11.0</td>\n      <td>NaN</td>\n      <td>1</td>\n    </tr>\n    <tr>\n      <th>Αbdul Razak</th>\n      <td>11.000000</td>\n      <td>11.0</td>\n      <td>NaN</td>\n      <td>1</td>\n    </tr>\n  </tbody>\n</table>\n<p>23297 rows × 4 columns</p>\n</div>"
     },
     "execution_count": 56,
     "metadata": {},
     "output_type": "execute_result"
    }
   ],
   "source": [
    "player_minutes_stats = appearances_df.groupby('player_name')['minutes_played'].agg(['mean', 'median', 'std', 'count'])\n",
    "player_minutes_stats"
   ],
   "metadata": {
    "collapsed": false,
    "ExecuteTime": {
     "end_time": "2024-01-03T00:03:29.257092Z",
     "start_time": "2024-01-03T00:03:29.042389100Z"
    }
   },
   "id": "8dd39821466db770"
  },
  {
   "cell_type": "markdown",
   "source": [
    "Due to the large number of players, it's not possible to graphically represent the distribution of individual players on the X-axis, so they are included in a dataframe.\n",
    "\n",
    "To search for a specific player, you can use this command(Messi example):\n",
    "<span style=\"background-color: #d0d0d0; color: black; padding: 2px;\"> messi_stats = player_minutes_stats.loc['Lionel Messi']\n",
    "</span>"
   ],
   "metadata": {
    "collapsed": false
   },
   "id": "2a789b7ffaac73a6"
  },
  {
   "cell_type": "code",
   "execution_count": 57,
   "outputs": [
    {
     "data": {
      "text/plain": "mean       85.044922\nmedian     90.000000\nstd        16.394952\ncount     512.000000\nName: Lionel Messi, dtype: float64"
     },
     "execution_count": 57,
     "metadata": {},
     "output_type": "execute_result"
    }
   ],
   "source": [
    "messi_stats = player_minutes_stats.loc['Lionel Messi']\n",
    "messi_stats"
   ],
   "metadata": {
    "collapsed": false,
    "ExecuteTime": {
     "end_time": "2024-01-03T00:03:29.257092Z",
     "start_time": "2024-01-03T00:03:29.255085Z"
    }
   },
   "id": "5f4512615ad5d741"
  },
  {
   "cell_type": "markdown",
   "source": [
    "### 2.1.4 - Let's verify the distribution of player appearances."
   ],
   "metadata": {
    "collapsed": false
   },
   "id": "53f353d0829fd810"
  },
  {
   "cell_type": "code",
   "execution_count": 58,
   "outputs": [
    {
     "data": {
      "text/plain": "<Figure size 1600x1000 with 1 Axes>",
      "image/png": "[encoded data removed]"
     },
     "metadata": {},
     "output_type": "display_data"
    }
   ],
   "source": [
    "plt.figure(figsize=(16, 10))\n",
    "sns.histplot(player_minutes_stats['count'], bins=30, kde=True)\n",
    "plt.title('Distribution of Appearances per Player')\n",
    "plt.xlabel('Number of Appearances')\n",
    "plt.ylabel('Frequency')\n",
    "plt.show()"
   ],
   "metadata": {
    "collapsed": false,
    "ExecuteTime": {
     "end_time": "2024-01-03T00:03:29.559474600Z",
     "start_time": "2024-01-03T00:03:29.255085Z"
    }
   },
   "id": "7223cd09e1b81951"
  },
  {
   "cell_type": "markdown",
   "source": [
    "As can be seen, most players do not exceed 100 appearances. This means that, on average, a football player does not have a career lasting more than 100 games played."
   ],
   "metadata": {
    "collapsed": false
   },
   "id": "de1a2ecfbdd38d44"
  },
  {
   "cell_type": "markdown",
   "source": [
    "### 2.1.5 - Analysis of the Frequency of Yellow and Red Cards"
   ],
   "metadata": {
    "collapsed": false
   },
   "id": "a8c68fd066637b5f"
  },
  {
   "cell_type": "markdown",
   "source": [
    "Let's first calculate the total number of yellow and red cards assigned:"
   ],
   "metadata": {
    "collapsed": false
   },
   "id": "a137ece2ec5bf2d2"
  },
  {
   "cell_type": "code",
   "execution_count": 59,
   "outputs": [
    {
     "name": "stdout",
     "output_type": "stream",
     "text": [
      "Total yellow card: 224630\n",
      "Total red card: 5769\n"
     ]
    }
   ],
   "source": [
    "total_yellow_cards = appearances_df['yellow_cards'].sum()\n",
    "total_red_cards = appearances_df['red_cards'].sum()\n",
    "\n",
    "print(f\"Total yellow card: {total_yellow_cards}\")\n",
    "print(f\"Total red card: {total_red_cards}\")"
   ],
   "metadata": {
    "collapsed": false,
    "ExecuteTime": {
     "end_time": "2024-01-03T00:03:29.692990100Z",
     "start_time": "2024-01-03T00:03:29.552479200Z"
    }
   },
   "id": "977a75e0b39f6e63"
  },
  {
   "cell_type": "markdown",
   "source": [
    "Let's create two tables that include the numbers of yellow and red cards for each player:"
   ],
   "metadata": {
    "collapsed": false
   },
   "id": "3ea6adabe4a4f897"
  },
  {
   "cell_type": "code",
   "execution_count": 60,
   "outputs": [
    {
     "data": {
      "text/plain": "player_name\nA.J. Soares            2\nAJ Leitch-Smith        1\nAaron Appindangoyé    11\nAaron Bastiaans        0\nAaron Boupendza        7\n                      ..\nİrfan Can Kahveci     58\nİsmail Yüksek         13\nİsmail Çokçalış        2\nİzzet Çelik            0\nΑbdul Razak            0\nName: yellow_cards, Length: 23297, dtype: int64"
     },
     "execution_count": 60,
     "metadata": {},
     "output_type": "execute_result"
    }
   ],
   "source": [
    "player_yellow_cards = appearances_df.groupby('player_name')['yellow_cards'].sum()\n",
    "player_yellow_cards"
   ],
   "metadata": {
    "collapsed": false,
    "ExecuteTime": {
     "end_time": "2024-01-03T00:03:29.722990300Z",
     "start_time": "2024-01-03T00:03:29.595474300Z"
    }
   },
   "id": "2ccf112ca5becaed"
  },
  {
   "cell_type": "code",
   "execution_count": 61,
   "outputs": [
    {
     "data": {
      "text/plain": "player_name\nA.J. Soares           0\nAJ Leitch-Smith       0\nAaron Appindangoyé    0\nAaron Bastiaans       0\nAaron Boupendza       0\n                     ..\nİrfan Can Kahveci     4\nİsmail Yüksek         0\nİsmail Çokçalış       0\nİzzet Çelik           0\nΑbdul Razak           0\nName: red_cards, Length: 23297, dtype: int64"
     },
     "execution_count": 61,
     "metadata": {},
     "output_type": "execute_result"
    }
   ],
   "source": [
    "player_red_cards = appearances_df.groupby('player_name')['red_cards'].sum()\n",
    "player_red_cards"
   ],
   "metadata": {
    "collapsed": false,
    "ExecuteTime": {
     "end_time": "2024-01-03T00:03:29.857448900Z",
     "start_time": "2024-01-03T00:03:29.740503600Z"
    }
   },
   "id": "bd4be3c639b252c0"
  },
  {
   "cell_type": "markdown",
   "source": [
    "Let's verify the distribution of the top 10 players with the most yellow cards and the top 10 players with the most red cards:"
   ],
   "metadata": {
    "collapsed": false
   },
   "id": "21a9f8db6e80283"
  },
  {
   "cell_type": "code",
   "execution_count": 62,
   "outputs": [
    {
     "data": {
      "text/plain": "<Figure size 1600x1000 with 1 Axes>",
      "image/png": "[encoded data removed]"
     },
     "metadata": {},
     "output_type": "display_data"
    }
   ],
   "source": [
    "top_yellow_cards = player_yellow_cards.sort_values(ascending=False).head(10)\n",
    "\n",
    "plt.figure(figsize=(16, 10))\n",
    "sns.barplot(x=top_yellow_cards, y=top_yellow_cards.index)\n",
    "plt.title('Top 10 players with the most yellow cards')\n",
    "plt.xlabel('Number of yellow cards')\n",
    "plt.ylabel('Player')\n",
    "plt.show()"
   ],
   "metadata": {
    "collapsed": false,
    "ExecuteTime": {
     "end_time": "2024-01-03T00:03:30.036686900Z",
     "start_time": "2024-01-03T00:03:29.852452700Z"
    }
   },
   "id": "2ead0cd95bfd1df"
  },
  {
   "cell_type": "markdown",
   "source": [
    "<span style=\"background-color: #d0d0d0; color: black; padding: 2px;\">Based on these data, the top 4 players each have more than 150 yellow cards each.\n",
    "</span>"
   ],
   "metadata": {
    "collapsed": false
   },
   "id": "6ab80c760ea29a77"
  },
  {
   "cell_type": "code",
   "execution_count": 63,
   "outputs": [
    {
     "data": {
      "text/plain": "<Figure size 1600x1000 with 1 Axes>",
      "image/png": "[encoded data removed]"
     },
     "metadata": {},
     "output_type": "display_data"
    }
   ],
   "source": [
    "top_red_cards = player_red_cards.sort_values(ascending=False).head(10)\n",
    "\n",
    "plt.figure(figsize=(16, 10))\n",
    "sns.barplot(x=top_red_cards, y=top_red_cards.index)\n",
    "plt.title('Top 10 players with the most red cards')\n",
    "plt.xlabel('Number of red cards')\n",
    "plt.ylabel('Player')\n",
    "plt.show()"
   ],
   "metadata": {
    "collapsed": false,
    "ExecuteTime": {
     "end_time": "2024-01-03T00:03:30.283898900Z",
     "start_time": "2024-01-03T00:03:30.039181400Z"
    }
   },
   "id": "928e19fbb677efd7"
  },
  {
   "cell_type": "markdown",
   "source": [
    "<span style=\"background-color: #d0d0d0; color: black; padding: 2px;\">Marcelo takes the first position with 8 red cards, while Felipe and Fallou Diagne share the second place with 7 red cards each. The third place is shared by the remaining players.\n",
    "</span>\n"
   ],
   "metadata": {
    "collapsed": false
   },
   "id": "235ef53f17495796"
  },
  {
   "cell_type": "code",
   "execution_count": 73,
   "outputs": [],
   "source": [
    "#TODO: advanced analysis"
   ],
   "metadata": {
    "collapsed": false,
    "ExecuteTime": {
     "end_time": "2024-01-03T00:05:19.555670300Z",
     "start_time": "2024-01-03T00:05:19.499690700Z"
    }
   },
   "id": "c29a9fcc8908a593"
  },
  {
   "cell_type": "markdown",
   "source": [
    "## 2.2 Club games dataframe analysis"
   ],
   "metadata": {
    "collapsed": false
   },
   "id": "a9f3d913476b4d31"
  },
  {
   "cell_type": "markdown",
   "source": [
    "### 2.2.1 - Analysis of club performances at home vs. away matches."
   ],
   "metadata": {
    "collapsed": false
   },
   "id": "8c0a4b36f2307547"
  },
  {
   "cell_type": "markdown",
   "source": [
    "As a first step, let's separate the home matches from the away matches."
   ],
   "metadata": {
    "collapsed": false
   },
   "id": "751eebcc210fc03d"
  },
  {
   "cell_type": "code",
   "execution_count": 65,
   "outputs": [],
   "source": [
    "home_games = club_games_df[club_games_df['hosting'] == 'Home']\n",
    "away_games = club_games_df[club_games_df['hosting'] == 'Away']"
   ],
   "metadata": {
    "collapsed": false,
    "ExecuteTime": {
     "end_time": "2024-01-03T00:03:30.410232300Z",
     "start_time": "2024-01-03T00:03:30.295889200Z"
    }
   },
   "id": "b622c1b1da36d678"
  },
  {
   "cell_type": "markdown",
   "source": [
    "Let's count the number of wins and losses for both home and away matches."
   ],
   "metadata": {
    "collapsed": false
   },
   "id": "9b65c4902dc390ed"
  },
  {
   "cell_type": "code",
   "execution_count": 66,
   "outputs": [
    {
     "data": {
      "text/plain": "is_win       0      1\nhosting              \nHome     35680  29536",
      "text/html": "<div>\n<style scoped>\n    .dataframe tbody tr th:only-of-type {\n        vertical-align: middle;\n    }\n\n    .dataframe tbody tr th {\n        vertical-align: top;\n    }\n\n    .dataframe thead th {\n        text-align: right;\n    }\n</style>\n<table border=\"1\" class=\"dataframe\">\n  <thead>\n    <tr style=\"text-align: right;\">\n      <th>is_win</th>\n      <th>0</th>\n      <th>1</th>\n    </tr>\n    <tr>\n      <th>hosting</th>\n      <th></th>\n      <th></th>\n    </tr>\n  </thead>\n  <tbody>\n    <tr>\n      <th>Home</th>\n      <td>35680</td>\n      <td>29536</td>\n    </tr>\n  </tbody>\n</table>\n</div>"
     },
     "execution_count": 66,
     "metadata": {},
     "output_type": "execute_result"
    }
   ],
   "source": [
    "home_stats = home_games.groupby('hosting')['is_win'].value_counts().unstack()\n",
    "home_stats"
   ],
   "metadata": {
    "collapsed": false,
    "ExecuteTime": {
     "end_time": "2024-01-03T00:03:30.411234Z",
     "start_time": "2024-01-03T00:03:30.324720800Z"
    }
   },
   "id": "89bfa3bb9a55b3bc"
  },
  {
   "cell_type": "code",
   "execution_count": 67,
   "outputs": [
    {
     "data": {
      "text/plain": "is_win       0      1\nhosting              \nAway     43531  21685",
      "text/html": "<div>\n<style scoped>\n    .dataframe tbody tr th:only-of-type {\n        vertical-align: middle;\n    }\n\n    .dataframe tbody tr th {\n        vertical-align: top;\n    }\n\n    .dataframe thead th {\n        text-align: right;\n    }\n</style>\n<table border=\"1\" class=\"dataframe\">\n  <thead>\n    <tr style=\"text-align: right;\">\n      <th>is_win</th>\n      <th>0</th>\n      <th>1</th>\n    </tr>\n    <tr>\n      <th>hosting</th>\n      <th></th>\n      <th></th>\n    </tr>\n  </thead>\n  <tbody>\n    <tr>\n      <th>Away</th>\n      <td>43531</td>\n      <td>21685</td>\n    </tr>\n  </tbody>\n</table>\n</div>"
     },
     "execution_count": 67,
     "metadata": {},
     "output_type": "execute_result"
    }
   ],
   "source": [
    "away_stats = away_games.groupby('hosting')['is_win'].value_counts().unstack()\n",
    "away_stats"
   ],
   "metadata": {
    "collapsed": false,
    "ExecuteTime": {
     "end_time": "2024-01-03T00:03:30.411234Z",
     "start_time": "2024-01-03T00:03:30.337235400Z"
    }
   },
   "id": "1bcb7ce52feeebc6"
  },
  {
   "cell_type": "markdown",
   "source": [
    "Let's merge the two dataframes so that we can represent them with a stacked bar chart."
   ],
   "metadata": {
    "collapsed": false
   },
   "id": "25f59b63675a5036"
  },
  {
   "cell_type": "code",
   "execution_count": 68,
   "outputs": [],
   "source": [
    "stats_win_lose = pd.concat([home_stats, away_stats], axis=0)"
   ],
   "metadata": {
    "collapsed": false,
    "ExecuteTime": {
     "end_time": "2024-01-03T00:03:30.411234Z",
     "start_time": "2024-01-03T00:03:30.354236300Z"
    }
   },
   "id": "29c6c963c3de8dd1"
  },
  {
   "cell_type": "code",
   "execution_count": 69,
   "outputs": [
    {
     "data": {
      "text/plain": "is_win       0      1\nhosting              \nHome     35680  29536\nAway     43531  21685",
      "text/html": "<div>\n<style scoped>\n    .dataframe tbody tr th:only-of-type {\n        vertical-align: middle;\n    }\n\n    .dataframe tbody tr th {\n        vertical-align: top;\n    }\n\n    .dataframe thead th {\n        text-align: right;\n    }\n</style>\n<table border=\"1\" class=\"dataframe\">\n  <thead>\n    <tr style=\"text-align: right;\">\n      <th>is_win</th>\n      <th>0</th>\n      <th>1</th>\n    </tr>\n    <tr>\n      <th>hosting</th>\n      <th></th>\n      <th></th>\n    </tr>\n  </thead>\n  <tbody>\n    <tr>\n      <th>Home</th>\n      <td>35680</td>\n      <td>29536</td>\n    </tr>\n    <tr>\n      <th>Away</th>\n      <td>43531</td>\n      <td>21685</td>\n    </tr>\n  </tbody>\n</table>\n</div>"
     },
     "execution_count": 69,
     "metadata": {},
     "output_type": "execute_result"
    }
   ],
   "source": [
    "stats_win_lose"
   ],
   "metadata": {
    "collapsed": false,
    "ExecuteTime": {
     "end_time": "2024-01-03T00:03:30.411234Z",
     "start_time": "2024-01-03T00:03:30.371238800Z"
    }
   },
   "id": "6f265e1d69b9e631"
  },
  {
   "cell_type": "markdown",
   "source": [
    "### Let's represent the values in the form of a bar chart."
   ],
   "metadata": {
    "collapsed": false
   },
   "id": "71b022b3cfc001b1"
  },
  {
   "cell_type": "code",
   "execution_count": 70,
   "outputs": [
    {
     "data": {
      "text/plain": "<Figure size 640x480 with 1 Axes>",
      "image/png": "[encoded data removed]"
     },
     "metadata": {},
     "output_type": "display_data"
    }
   ],
   "source": [
    "stats_win_lose.rename(columns={0: 'Lose', 1: 'Win'}, inplace=True)\n",
    "colors = ['Blue', 'Red']\n",
    "stats_win_lose.plot(kind='bar', stacked=True, color=colors)\n",
    "plt.title('Performance at home or away')\n",
    "plt.xlabel('Kind of match')\n",
    "plt.ylabel('Percentage')\n",
    "plt.xticks(rotation=0)\n",
    "plt.legend(title='Result')\n",
    "plt.show()"
   ],
   "metadata": {
    "collapsed": false,
    "ExecuteTime": {
     "end_time": "2024-01-03T00:03:30.570982200Z",
     "start_time": "2024-01-03T00:03:30.386234600Z"
    }
   },
   "id": "f660e49a51ba2f5"
  },
  {
   "cell_type": "markdown",
   "source": [
    "<span style=\"background-color: #d0d0d0; color: black; padding: 2px;\">It is evident that playing away from home is less favorable compared to playing at home.\n",
    "</span>"
   ],
   "metadata": {
    "collapsed": false
   },
   "id": "16cf4ae790ce1ac7"
  },
  {
   "cell_type": "markdown",
   "source": [
    "### A small elaboration:\n",
    "\n",
    "Is it possible to also have detailed percentages for the various teams"
   ],
   "metadata": {
    "collapsed": false
   },
   "id": "8666dbc6ddaddd60"
  },
  {
   "cell_type": "code",
   "execution_count": 71,
   "outputs": [
    {
     "data": {
      "text/plain": "                                  name  win_rate  lose_rate\n0     Sportverein Darmstadt 1898 e. V.  0.255319   0.740657\n1                FK Ural Yekaterinburg  0.372881   0.625800\n2            Beşiktaş Jimnastik Kulübü  0.635593   0.363428\n3           Associazione Sportiva Roma  0.632143   0.367029\n4      Tottenham Hotspur Football Club  0.644366   0.354829\n..                                 ...       ...        ...\n421                   CF Os Belenenses  0.346535   0.651231\n422             Football Club Volendam  0.468750   0.523580\n423  Atalanta Bergamasca Calcio S.p.a.  0.494253   0.504791\n424           Moreirense Futebol Clube  0.325714   0.673033\n425               West Bromwich Albion  0.312925   0.685615\n\n[426 rows x 3 columns]",
      "text/html": "<div>\n<style scoped>\n    .dataframe tbody tr th:only-of-type {\n        vertical-align: middle;\n    }\n\n    .dataframe tbody tr th {\n        vertical-align: top;\n    }\n\n    .dataframe thead th {\n        text-align: right;\n    }\n</style>\n<table border=\"1\" class=\"dataframe\">\n  <thead>\n    <tr style=\"text-align: right;\">\n      <th></th>\n      <th>name</th>\n      <th>win_rate</th>\n      <th>lose_rate</th>\n    </tr>\n  </thead>\n  <tbody>\n    <tr>\n      <th>0</th>\n      <td>Sportverein Darmstadt 1898 e. V.</td>\n      <td>0.255319</td>\n      <td>0.740657</td>\n    </tr>\n    <tr>\n      <th>1</th>\n      <td>FK Ural Yekaterinburg</td>\n      <td>0.372881</td>\n      <td>0.625800</td>\n    </tr>\n    <tr>\n      <th>2</th>\n      <td>Beşiktaş Jimnastik Kulübü</td>\n      <td>0.635593</td>\n      <td>0.363428</td>\n    </tr>\n    <tr>\n      <th>3</th>\n      <td>Associazione Sportiva Roma</td>\n      <td>0.632143</td>\n      <td>0.367029</td>\n    </tr>\n    <tr>\n      <th>4</th>\n      <td>Tottenham Hotspur Football Club</td>\n      <td>0.644366</td>\n      <td>0.354829</td>\n    </tr>\n    <tr>\n      <th>...</th>\n      <td>...</td>\n      <td>...</td>\n      <td>...</td>\n    </tr>\n    <tr>\n      <th>421</th>\n      <td>CF Os Belenenses</td>\n      <td>0.346535</td>\n      <td>0.651231</td>\n    </tr>\n    <tr>\n      <th>422</th>\n      <td>Football Club Volendam</td>\n      <td>0.468750</td>\n      <td>0.523580</td>\n    </tr>\n    <tr>\n      <th>423</th>\n      <td>Atalanta Bergamasca Calcio S.p.a.</td>\n      <td>0.494253</td>\n      <td>0.504791</td>\n    </tr>\n    <tr>\n      <th>424</th>\n      <td>Moreirense Futebol Clube</td>\n      <td>0.325714</td>\n      <td>0.673033</td>\n    </tr>\n    <tr>\n      <th>425</th>\n      <td>West Bromwich Albion</td>\n      <td>0.312925</td>\n      <td>0.685615</td>\n    </tr>\n  </tbody>\n</table>\n<p>426 rows × 3 columns</p>\n</div>"
     },
     "execution_count": 71,
     "metadata": {},
     "output_type": "execute_result"
    }
   ],
   "source": [
    "home_stat_clubs = home_games.groupby('club_id')['is_win'].value_counts().unstack()\n",
    "home_stat_clubs['win_rate'] = home_stat_clubs[1] / home_stat_clubs.sum(axis=1)\n",
    "home_stat_clubs['lose_rate'] = home_stat_clubs[0] / home_stat_clubs.sum(axis=1)\n",
    "home_stat_clubs.rename(columns={0: 'Lose', 1: 'Win'}, inplace=True)\n",
    "merge_club_home = pd.merge(clubs_df, home_stat_clubs, left_on='club_id', right_on='club_id', how='inner')\n",
    "merge_club_home[['name', 'win_rate', 'lose_rate']]"
   ],
   "metadata": {
    "collapsed": false,
    "ExecuteTime": {
     "end_time": "2024-01-03T00:03:30.635475600Z",
     "start_time": "2024-01-03T00:03:30.514127Z"
    }
   },
   "id": "457e26e51647bb4"
  },
  {
   "cell_type": "markdown",
   "source": [
    "<span style=\"background-color: #d0d0d0; color: black; padding: 2px;\">Percentages of wins or losses for the teams playing at home.\n",
    "</span>"
   ],
   "metadata": {
    "collapsed": false
   },
   "id": "6a3561f9b3ed4fcc"
  },
  {
   "cell_type": "code",
   "execution_count": 72,
   "outputs": [
    {
     "data": {
      "text/plain": "                                  name  win_rate  lose_rate\n0     Sportverein Darmstadt 1898 e. V.  0.296296   0.699864\n1                FK Ural Yekaterinburg  0.286486   0.712410\n2            Beşiktaş Jimnastik Kulübü  0.476793   0.522156\n3           Associazione Sportiva Roma  0.430147   0.568953\n4      Tottenham Hotspur Football Club  0.429553   0.569606\n..                                 ...       ...        ...\n421                   CF Os Belenenses  0.223301   0.775019\n422             Football Club Volendam  0.117647   0.879310\n423  Atalanta Bergamasca Calcio S.p.a.  0.398406   0.600640\n424           Moreirense Futebol Clube  0.279762   0.719041\n425               West Bromwich Albion  0.208054   0.790842\n\n[426 rows x 3 columns]",
      "text/html": "<div>\n<style scoped>\n    .dataframe tbody tr th:only-of-type {\n        vertical-align: middle;\n    }\n\n    .dataframe tbody tr th {\n        vertical-align: top;\n    }\n\n    .dataframe thead th {\n        text-align: right;\n    }\n</style>\n<table border=\"1\" class=\"dataframe\">\n  <thead>\n    <tr style=\"text-align: right;\">\n      <th></th>\n      <th>name</th>\n      <th>win_rate</th>\n      <th>lose_rate</th>\n    </tr>\n  </thead>\n  <tbody>\n    <tr>\n      <th>0</th>\n      <td>Sportverein Darmstadt 1898 e. V.</td>\n      <td>0.296296</td>\n      <td>0.699864</td>\n    </tr>\n    <tr>\n      <th>1</th>\n      <td>FK Ural Yekaterinburg</td>\n      <td>0.286486</td>\n      <td>0.712410</td>\n    </tr>\n    <tr>\n      <th>2</th>\n      <td>Beşiktaş Jimnastik Kulübü</td>\n      <td>0.476793</td>\n      <td>0.522156</td>\n    </tr>\n    <tr>\n      <th>3</th>\n      <td>Associazione Sportiva Roma</td>\n      <td>0.430147</td>\n      <td>0.568953</td>\n    </tr>\n    <tr>\n      <th>4</th>\n      <td>Tottenham Hotspur Football Club</td>\n      <td>0.429553</td>\n      <td>0.569606</td>\n    </tr>\n    <tr>\n      <th>...</th>\n      <td>...</td>\n      <td>...</td>\n      <td>...</td>\n    </tr>\n    <tr>\n      <th>421</th>\n      <td>CF Os Belenenses</td>\n      <td>0.223301</td>\n      <td>0.775019</td>\n    </tr>\n    <tr>\n      <th>422</th>\n      <td>Football Club Volendam</td>\n      <td>0.117647</td>\n      <td>0.879310</td>\n    </tr>\n    <tr>\n      <th>423</th>\n      <td>Atalanta Bergamasca Calcio S.p.a.</td>\n      <td>0.398406</td>\n      <td>0.600640</td>\n    </tr>\n    <tr>\n      <th>424</th>\n      <td>Moreirense Futebol Clube</td>\n      <td>0.279762</td>\n      <td>0.719041</td>\n    </tr>\n    <tr>\n      <th>425</th>\n      <td>West Bromwich Albion</td>\n      <td>0.208054</td>\n      <td>0.790842</td>\n    </tr>\n  </tbody>\n</table>\n<p>426 rows × 3 columns</p>\n</div>"
     },
     "execution_count": 72,
     "metadata": {},
     "output_type": "execute_result"
    }
   ],
   "source": [
    "away_stat_clubs = away_games.groupby('club_id')['is_win'].value_counts().unstack()\n",
    "away_stat_clubs['win_rate'] = away_stat_clubs[1] / away_stat_clubs.sum(axis=1)\n",
    "away_stat_clubs['lose_rate'] = away_stat_clubs[0] / away_stat_clubs.sum(axis=1)\n",
    "away_stat_clubs.rename(columns={0: 'Lose', 1: 'Win'}, inplace=True)\n",
    "merge_club_away = pd.merge(clubs_df, away_stat_clubs, left_on='club_id', right_on='club_id', how='inner')\n",
    "merge_club_away[['name', 'win_rate', 'lose_rate']]"
   ],
   "metadata": {
    "collapsed": false,
    "ExecuteTime": {
     "end_time": "2024-01-03T00:03:30.759384700Z",
     "start_time": "2024-01-03T00:03:30.544985100Z"
    }
   },
   "id": "caaa332d77d6c0de"
  },
  {
   "cell_type": "markdown",
   "source": [
    "<span style=\"background-color: #d0d0d0; color: black; padding: 2px;\">Percentages of wins or losses for the teams playing away.\n",
    "</span>"
   ],
   "metadata": {
    "collapsed": false
   },
   "id": "3f07d3c5c871b657"
  }
 ],
 "metadata": {
  "kernelspec": {
   "display_name": "Python 3",
   "language": "python",
   "name": "python3"
  },
  "language_info": {
   "codemirror_mode": {
    "name": "ipython",
    "version": 2
   },
   "file_extension": ".py",
   "mimetype": "text/x-python",
   "name": "python",
   "nbconvert_exporter": "python",
   "pygments_lexer": "ipython2",
   "version": "2.7.6"
  }
 },
 "nbformat": 4,
 "nbformat_minor": 5
}
